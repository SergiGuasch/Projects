{
 "cells": [
  {
   "cell_type": "code",
   "execution_count": null,
   "id": "ba049b7e",
   "metadata": {},
   "outputs": [],
   "source": [
    "import pandas as pd \n",
    "import numpy as np\n",
    "import warnings\n",
    "warnings.filterwarnings('ignore')"
   ]
  },
  {
   "cell_type": "code",
   "execution_count": null,
   "id": "b00fdba0",
   "metadata": {},
   "outputs": [],
   "source": [
    "ls"
   ]
  },
  {
   "cell_type": "markdown",
   "id": "1e88fdc7",
   "metadata": {},
   "source": [
    "# Importing data"
   ]
  },
  {
   "cell_type": "code",
   "execution_count": null,
   "id": "0f5763b9",
   "metadata": {},
   "outputs": [],
   "source": [
    "data=pd.read_csv('alldata.csv')"
   ]
  },
  {
   "cell_type": "code",
   "execution_count": null,
   "id": "74378bde",
   "metadata": {},
   "outputs": [],
   "source": [
    "data"
   ]
  },
  {
   "cell_type": "markdown",
   "id": "da31d20a",
   "metadata": {},
   "source": [
    "# Review data"
   ]
  },
  {
   "cell_type": "markdown",
   "id": "3e5da26f",
   "metadata": {},
   "source": [
    "LEGEND:\n",
    "- position: position title\n",
    "- company: company name\n",
    "- description: job decription\n",
    "- reviews: number of reviews for the company\n",
    "- location: name of the state"
   ]
  },
  {
   "cell_type": "code",
   "execution_count": null,
   "id": "e89c0c91",
   "metadata": {},
   "outputs": [],
   "source": [
    "data.info() # we can see there's some null values in reviews column"
   ]
  },
  {
   "cell_type": "code",
   "execution_count": null,
   "id": "e03de493",
   "metadata": {},
   "outputs": [],
   "source": [
    "data.shape # we can check the size of the database"
   ]
  },
  {
   "cell_type": "code",
   "execution_count": null,
   "id": "4a2a9bd0",
   "metadata": {},
   "outputs": [],
   "source": [
    "data.describe() # we have chosen this method to check some features of the database"
   ]
  },
  {
   "cell_type": "code",
   "execution_count": null,
   "id": "a457abd1",
   "metadata": {},
   "outputs": [],
   "source": [
    "data['location'].unique() # to see which different kind of items are assigned to each state"
   ]
  },
  {
   "cell_type": "code",
   "execution_count": null,
   "id": "cbf861a8",
   "metadata": {},
   "outputs": [],
   "source": [
    "data['position'].unique().tolist() # look in filtered Excel, but with tolist metod we can see all the items"
   ]
  },
  {
   "cell_type": "markdown",
   "id": "5d47fb33",
   "metadata": {},
   "source": [
    "# Remove Duplicates"
   ]
  },
  {
   "cell_type": "code",
   "execution_count": null,
   "id": "71d343fb",
   "metadata": {},
   "outputs": [],
   "source": [
    "data.shape"
   ]
  },
  {
   "cell_type": "code",
   "execution_count": null,
   "id": "7c4063f1",
   "metadata": {},
   "outputs": [],
   "source": [
    "data=data.drop_duplicates()\n",
    "data.shape # we have check theres no duplicates rows in our database"
   ]
  },
  {
   "cell_type": "markdown",
   "id": "71d208a3",
   "metadata": {},
   "source": [
    "# all database categorical changed to lowercase to facilitate the queries"
   ]
  },
  {
   "cell_type": "code",
   "execution_count": null,
   "id": "c11e3059",
   "metadata": {},
   "outputs": [],
   "source": [
    "for i in data.select_dtypes(include=object): \n",
    "    data[i]=data[i].str.lower()"
   ]
  },
  {
   "cell_type": "markdown",
   "id": "782246a5",
   "metadata": {},
   "source": [
    "# Deal with nulls"
   ]
  },
  {
   "cell_type": "code",
   "execution_count": null,
   "id": "1dc7836c",
   "metadata": {},
   "outputs": [],
   "source": [
    "nulls_data=pd.DataFrame(round(data.isna().sum()/len(data),4)*100)\n",
    "nulls_data=nulls_data.rename(columns={'index':'header',0:'prop_nulls'})\n",
    "nulls_data"
   ]
  },
  {
   "cell_type": "code",
   "execution_count": null,
   "id": "e90e5fa9",
   "metadata": {},
   "outputs": [],
   "source": [
    "med=data['reviews'].median()\n",
    "data['reviews']=data['reviews'].fillna(med)\n",
    " # we replace the null valeus of numerical fields by the median"
   ]
  },
  {
   "cell_type": "code",
   "execution_count": null,
   "id": "59c33ca7",
   "metadata": {},
   "outputs": [],
   "source": [
    "data['position']=data['position'].fillna(\"Unknown\")\n",
    "data['company']=data['company'].fillna(\"Unknown\")\n",
    "data['description']=data['description'].fillna(\"Unknown\")\n",
    "data['location']=data['location'].fillna(\"Unknown\")  \n",
    "# we replace the null valeus of categorical fields by Unknown"
   ]
  },
  {
   "cell_type": "code",
   "execution_count": null,
   "id": "b17a8dab",
   "metadata": {},
   "outputs": [],
   "source": [
    "nulls_data=pd.DataFrame(round(data.isna().sum()/len(data),4)*100)\n",
    "nulls_data=nulls_data.rename(columns={'index':'header',0:'prop_nulls'})\n",
    "nulls_data"
   ]
  },
  {
   "cell_type": "markdown",
   "id": "6078b864",
   "metadata": {},
   "source": [
    "# Preparing data / Exporting data"
   ]
  },
  {
   "cell_type": "markdown",
   "id": "00f685a8",
   "metadata": {},
   "source": [
    "## Working in location column"
   ]
  },
  {
   "cell_type": "code",
   "execution_count": null,
   "id": "eada0461",
   "metadata": {},
   "outputs": [],
   "source": [
    "data.shape"
   ]
  },
  {
   "cell_type": "code",
   "execution_count": null,
   "id": "9ecddf7f",
   "metadata": {},
   "outputs": [],
   "source": [
    "data = data[(data['position'].str.contains('data analyst')) | (data['position'].str.contains('data scientist'))\n",
    "       | (data['position'].str.contains('bussiness intelligence')) | (data['position'].str.contains('sql')) \n",
    "         | (data['position'].str.contains('machine learning')) | (data['position'].str.contains('data engineering'))\n",
    "    | (data['position'].str.contains('python')) | (data['position'].str.contains('computer science'))]\n",
    "data.shape"
   ]
  },
  {
   "cell_type": "code",
   "execution_count": null,
   "id": "b7da128d",
   "metadata": {},
   "outputs": [],
   "source": [
    "data"
   ]
  },
  {
   "cell_type": "code",
   "execution_count": null,
   "id": "c8c0d305",
   "metadata": {},
   "outputs": [],
   "source": [
    "def extract_state (s):\n",
    "    return s.split(',')[1].split(' ')[1]\n",
    "\n",
    "data['state']=data['location'].apply(extract_state)"
   ]
  },
  {
   "cell_type": "code",
   "execution_count": null,
   "id": "3d0327e3",
   "metadata": {},
   "outputs": [],
   "source": [
    "def extract_city (s):\n",
    "    return s.split(',')[0]\n",
    "\n",
    "data['city']=data['location'].apply(extract_city)"
   ]
  },
  {
   "cell_type": "code",
   "execution_count": null,
   "id": "104a9d8a",
   "metadata": {},
   "outputs": [],
   "source": [
    "data.head(1)"
   ]
  },
  {
   "cell_type": "code",
   "execution_count": null,
   "id": "c5a0f134",
   "metadata": {},
   "outputs": [],
   "source": [
    "data['state']=data['state'].str.upper()"
   ]
  },
  {
   "cell_type": "code",
   "execution_count": null,
   "id": "22721b53",
   "metadata": {},
   "outputs": [],
   "source": [
    "data.drop(['location','reviews'],axis = 1, inplace = True)"
   ]
  },
  {
   "cell_type": "markdown",
   "id": "d5e4e5af",
   "metadata": {},
   "source": [
    "## Working in position column"
   ]
  },
  {
   "cell_type": "code",
   "execution_count": null,
   "id": "108209d2",
   "metadata": {},
   "outputs": [],
   "source": [
    "data.head(1)"
   ]
  },
  {
   "cell_type": "code",
   "execution_count": null,
   "id": "7c4660d8",
   "metadata": {},
   "outputs": [],
   "source": [
    "data['position'].value_counts()"
   ]
  },
  {
   "cell_type": "code",
   "execution_count": null,
   "id": "18bafb8e",
   "metadata": {},
   "outputs": [],
   "source": [
    "# data.to_csv('alldata_filtered.csv')"
   ]
  },
  {
   "cell_type": "markdown",
   "id": "4ade9766",
   "metadata": {},
   "source": [
    "## Working in description column"
   ]
  },
  {
   "cell_type": "code",
   "execution_count": null,
   "id": "2c6c5db8",
   "metadata": {},
   "outputs": [],
   "source": [
    "import re\n",
    "X=data.description\n",
    "\n",
    "X=[re.sub(r\"[^a-zA-Z0-9]+\", ' ', k) for k in X]\n",
    "X=[re.sub(\"[0-9]+\",' ',k) for k in X]\n",
    "\n",
    "s_total=''\n",
    "\n",
    "for z in X:\n",
    "    s_total += z\n"
   ]
  },
  {
   "cell_type": "code",
   "execution_count": null,
   "id": "c6ef715f",
   "metadata": {},
   "outputs": [],
   "source": [
    "s_total"
   ]
  },
  {
   "cell_type": "code",
   "execution_count": null,
   "id": "bb8b2f93",
   "metadata": {},
   "outputs": [],
   "source": [
    "import collections\n",
    "from collections import Counter\n",
    "import re\n",
    "\n",
    "reg = re.compile('\\S{4,}')\n",
    "c = Counter(ma.group() for ma in reg.finditer(s_total))\n",
    "print(c)"
   ]
  },
  {
   "cell_type": "code",
   "execution_count": null,
   "id": "ba25422b",
   "metadata": {},
   "outputs": [],
   "source": [
    "df = pd.DataFrame.from_dict(c, orient='index').reset_index()"
   ]
  },
  {
   "cell_type": "code",
   "execution_count": null,
   "id": "aa8f2610",
   "metadata": {},
   "outputs": [],
   "source": [
    "df.to_csv('description.csv')"
   ]
  }
 ],
 "metadata": {
  "kernelspec": {
   "display_name": "Python 3",
   "language": "python",
   "name": "python3"
  },
  "language_info": {
   "codemirror_mode": {
    "name": "ipython",
    "version": 3
   },
   "file_extension": ".py",
   "mimetype": "text/x-python",
   "name": "python",
   "nbconvert_exporter": "python",
   "pygments_lexer": "ipython3",
   "version": "3.6.13"
  },
  "toc": {
   "base_numbering": 1,
   "nav_menu": {},
   "number_sections": true,
   "sideBar": true,
   "skip_h1_title": false,
   "title_cell": "Table of Contents",
   "title_sidebar": "Contents",
   "toc_cell": false,
   "toc_position": {
    "height": "calc(100% - 180px)",
    "left": "10px",
    "top": "150px",
    "width": "303.825px"
   },
   "toc_section_display": true,
   "toc_window_display": true
  }
 },
 "nbformat": 4,
 "nbformat_minor": 5
}
