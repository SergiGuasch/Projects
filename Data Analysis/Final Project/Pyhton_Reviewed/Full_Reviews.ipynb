{
 "cells": [
  {
   "cell_type": "markdown",
   "id": "056a4069",
   "metadata": {},
   "source": [
    "# SCRAPING THE REVIEWS FROM TRIPADVISOR OF CERVECERÍA CATALANA"
   ]
  },
  {
   "cell_type": "code",
   "execution_count": 1,
   "id": "911d5bea",
   "metadata": {
    "ExecuteTime": {
     "end_time": "2022-03-20T22:45:52.154094Z",
     "start_time": "2022-03-20T22:45:51.521803Z"
    }
   },
   "outputs": [],
   "source": [
    "#Importing librararies\n",
    "\n",
    "from selenium import webdriver\n",
    "import pandas as pd\n",
    "from bs4 import BeautifulSoup\n",
    "import time\n",
    "from time import sleep\n",
    "from random import randint\n",
    "import re\n",
    "import os\n",
    "\n",
    "import warnings\n",
    "warnings.filterwarnings(\"ignore\")"
   ]
  },
  {
   "cell_type": "code",
   "execution_count": 2,
   "id": "50c84584",
   "metadata": {
    "ExecuteTime": {
     "end_time": "2022-03-20T22:45:52.184037Z",
     "start_time": "2022-03-20T22:45:52.162076Z"
    }
   },
   "outputs": [],
   "source": [
    "#Function to scrap the data\n",
    "\n",
    "def parse_html(html):\n",
    "    data, item = pd.DataFrame(), {}\n",
    "    soup = BeautifulSoup(html,'lxml')\n",
    "    for i, resto in enumerate(soup.find_all('div', class_='ui_column is-9')):\n",
    "        \n",
    "        date = str(resto.find('span',class_='ratingDate'))\n",
    "        item['date'] = BeautifulSoup(date,\"lxml\").get_text() \n",
    "        \n",
    "        review=str(resto.find('p',class_='partial_entry'))\n",
    "        item['reviews']=BeautifulSoup(review, \"lxml\").get_text()\n",
    "        \n",
    "        rating_review=resto.select('.innerBubble .ui_bubble_rating')\n",
    "        item['rating_review'] = rating_review[0]['class']\n",
    "        \n",
    "        data[i] = pd.Series(item)\n",
    "    return data.T"
   ]
  },
  {
   "cell_type": "code",
   "execution_count": 3,
   "id": "d4642563",
   "metadata": {
    "ExecuteTime": {
     "end_time": "2022-03-21T00:01:30.552969Z",
     "start_time": "2022-03-20T22:45:52.186009Z"
    },
    "scrolled": true
   },
   "outputs": [
    {
     "name": "stdout",
     "output_type": "stream",
     "text": [
      "No more pages left\n"
     ]
    },
    {
     "data": {
      "text/html": [
       "<div>\n",
       "<style scoped>\n",
       "    .dataframe tbody tr th:only-of-type {\n",
       "        vertical-align: middle;\n",
       "    }\n",
       "\n",
       "    .dataframe tbody tr th {\n",
       "        vertical-align: top;\n",
       "    }\n",
       "\n",
       "    .dataframe thead th {\n",
       "        text-align: right;\n",
       "    }\n",
       "</style>\n",
       "<table border=\"1\" class=\"dataframe\">\n",
       "  <thead>\n",
       "    <tr style=\"text-align: right;\">\n",
       "      <th></th>\n",
       "      <th>date</th>\n",
       "      <th>reviews</th>\n",
       "      <th>rating_review</th>\n",
       "    </tr>\n",
       "  </thead>\n",
       "  <tbody>\n",
       "    <tr>\n",
       "      <th>0</th>\n",
       "      <td>Opinión escrita hace una semana</td>\n",
       "      <td>This restaurant was recommended to us by our h...</td>\n",
       "      <td>[ui_bubble_rating, bubble_50]</td>\n",
       "    </tr>\n",
       "    <tr>\n",
       "      <th>1</th>\n",
       "      <td>Opinión escrita hace 2 semanas</td>\n",
       "      <td></td>\n",
       "      <td>[ui_bubble_rating, bubble_40]</td>\n",
       "    </tr>\n",
       "    <tr>\n",
       "      <th>2</th>\n",
       "      <td>Opinión escrita hace 3 semanas</td>\n",
       "      <td></td>\n",
       "      <td>[ui_bubble_rating, bubble_20]</td>\n",
       "    </tr>\n",
       "    <tr>\n",
       "      <th>3</th>\n",
       "      <td>Opinión escrita hace 4 semanas</td>\n",
       "      <td></td>\n",
       "      <td>[ui_bubble_rating, bubble_50]</td>\n",
       "    </tr>\n",
       "    <tr>\n",
       "      <th>4</th>\n",
       "      <td>Opinión escrita hace 4 semanas</td>\n",
       "      <td></td>\n",
       "      <td>[ui_bubble_rating, bubble_50]</td>\n",
       "    </tr>\n",
       "    <tr>\n",
       "      <th>...</th>\n",
       "      <td>...</td>\n",
       "      <td>...</td>\n",
       "      <td>...</td>\n",
       "    </tr>\n",
       "    <tr>\n",
       "      <th>5435</th>\n",
       "      <td>Opinión escrita 6 de enero de 2008</td>\n",
       "      <td>Next to the shops, but very different from the...</td>\n",
       "      <td>[ui_bubble_rating, bubble_40]</td>\n",
       "    </tr>\n",
       "    <tr>\n",
       "      <th>5436</th>\n",
       "      <td>Opinión escrita 28 de diciembre de 2007</td>\n",
       "      <td>Good tapas and always busy. Local place</td>\n",
       "      <td>[ui_bubble_rating, bubble_30]</td>\n",
       "    </tr>\n",
       "    <tr>\n",
       "      <th>5437</th>\n",
       "      <td>Opinión escrita 24 de diciembre de 2007</td>\n",
       "      <td>everytime that I´m visiting Barcelona, got to go!</td>\n",
       "      <td>[ui_bubble_rating, bubble_50]</td>\n",
       "    </tr>\n",
       "    <tr>\n",
       "      <th>5438</th>\n",
       "      <td>Opinión escrita 21 de diciembre de 2007</td>\n",
       "      <td>Very well known for the business men-women. It...</td>\n",
       "      <td>[ui_bubble_rating, bubble_40]</td>\n",
       "    </tr>\n",
       "    <tr>\n",
       "      <th>5439</th>\n",
       "      <td>Opinión escrita 12 de diciembre de 2007</td>\n",
       "      <td>one of my favourite tapas bar</td>\n",
       "      <td>[ui_bubble_rating, bubble_50]</td>\n",
       "    </tr>\n",
       "  </tbody>\n",
       "</table>\n",
       "<p>5440 rows × 3 columns</p>\n",
       "</div>"
      ],
      "text/plain": [
       "                                          date  \\\n",
       "0             Opinión escrita hace una semana    \n",
       "1              Opinión escrita hace 2 semanas    \n",
       "2              Opinión escrita hace 3 semanas    \n",
       "3              Opinión escrita hace 4 semanas    \n",
       "4              Opinión escrita hace 4 semanas    \n",
       "...                                        ...   \n",
       "5435       Opinión escrita 6 de enero de 2008    \n",
       "5436  Opinión escrita 28 de diciembre de 2007    \n",
       "5437  Opinión escrita 24 de diciembre de 2007    \n",
       "5438  Opinión escrita 21 de diciembre de 2007    \n",
       "5439  Opinión escrita 12 de diciembre de 2007    \n",
       "\n",
       "                                                reviews  \\\n",
       "0     This restaurant was recommended to us by our h...   \n",
       "1                                                         \n",
       "2                                                         \n",
       "3                                                         \n",
       "4                                                         \n",
       "...                                                 ...   \n",
       "5435  Next to the shops, but very different from the...   \n",
       "5436            Good tapas and always busy. Local place   \n",
       "5437  everytime that I´m visiting Barcelona, got to go!   \n",
       "5438  Very well known for the business men-women. It...   \n",
       "5439                      one of my favourite tapas bar   \n",
       "\n",
       "                      rating_review  \n",
       "0     [ui_bubble_rating, bubble_50]  \n",
       "1     [ui_bubble_rating, bubble_40]  \n",
       "2     [ui_bubble_rating, bubble_20]  \n",
       "3     [ui_bubble_rating, bubble_50]  \n",
       "4     [ui_bubble_rating, bubble_50]  \n",
       "...                             ...  \n",
       "5435  [ui_bubble_rating, bubble_40]  \n",
       "5436  [ui_bubble_rating, bubble_30]  \n",
       "5437  [ui_bubble_rating, bubble_50]  \n",
       "5438  [ui_bubble_rating, bubble_40]  \n",
       "5439  [ui_bubble_rating, bubble_50]  \n",
       "\n",
       "[5440 rows x 3 columns]"
      ]
     },
     "execution_count": 3,
     "metadata": {},
     "output_type": "execute_result"
    }
   ],
   "source": [
    "#for loop to get the data from each page and save it as a dataframe\n",
    "\n",
    "reviews = pd.DataFrame()\n",
    "driver = webdriver.Chrome()\n",
    "# driver = webdriver.Firefox()\n",
    "driver.maximize_window()\n",
    "\n",
    "url_first_page = 'https://www.tripadvisor.es/Restaurant_Review-g187497-d782944-Reviews-Cerveceria_Catalana-Barcelona_Catalonia.html'\n",
    "driver.get(url_first_page)\n",
    "\n",
    "x = randint(2,6)\n",
    "\n",
    "sleep(x)\n",
    "driver.find_elements_by_xpath(\"//*[@id='onetrust-accept-btn-handler']\")[0].click()\n",
    "\n",
    "sleep(x)\n",
    "driver.find_elements_by_xpath(\"//*[@id='filters_detail_language_filterLang_en']\")[0].click()\n",
    "\n",
    "sleep(x)\n",
    "driver.find_elements_by_xpath(\"//*[contains(@id, 'rn')]\")[0].click()\n",
    "\n",
    "# import time\n",
    "# timeout = time.time() + 40*1 \n",
    "\n",
    "while True:\n",
    "#     if time.time() > timeout:\n",
    "#         break\n",
    "#     else:\n",
    "        next_page_btn = driver.find_elements_by_xpath(\"//*[@id='taplc_location_reviews_list_sur_0']/div/div[10]/div/div/a[2]\")\n",
    "        if len(next_page_btn) < 1:\n",
    "            print(\"No more pages left\")\n",
    "            break\n",
    "        else:\n",
    "            new_data = parse_html(driver.page_source)\n",
    "            reviews = pd.concat([reviews, new_data], ignore_index=True)\n",
    "            next_page_btn[0].click()\n",
    "            x = randint(2,6)\n",
    "            sleep(x)\n",
    "            \n",
    "        \n",
    "\n",
    "driver.close()\n",
    "reviews"
   ]
  },
  {
   "cell_type": "code",
   "execution_count": 4,
   "id": "649ec387",
   "metadata": {
    "ExecuteTime": {
     "end_time": "2022-03-21T00:01:43.377906Z",
     "start_time": "2022-03-21T00:01:30.556956Z"
    },
    "scrolled": true
   },
   "outputs": [],
   "source": [
    "#for loop to get the reviews from the first page and save it as a dataframe (there was a problem scraping the first page, so we needed to fix it creating a new dataframe with the same steps than before)\n",
    "\n",
    "reviews2 = pd.DataFrame()\n",
    "driver = webdriver.Chrome()\n",
    "# driver = webdriver.Firefox()\n",
    "driver.maximize_window()\n",
    "\n",
    "def parse_html2(html):\n",
    "    data, item = pd.DataFrame(), {}\n",
    "    soup = BeautifulSoup(html,'lxml') \n",
    "    for i, resto in enumerate(soup.find_all('div', class_='ui_column is-9')):\n",
    "\n",
    "        review=str(resto.find('p',class_='partial_entry'))\n",
    "        item['reviews2']=BeautifulSoup(review, \"lxml\").get_text()\n",
    "\n",
    "        data[i] = pd.Series(item)\n",
    "    return data.T\n",
    "\n",
    "url_first_page = 'https://www.tripadvisor.es/ShowUserReviews-g187497-d782944-r830535155-Cerveceria_Catalana-Barcelona_Catalonia.html'\n",
    "driver.get(url_first_page)\n",
    "\n",
    "x = randint(2,6)\n",
    "\n",
    "sleep(x)\n",
    "driver.find_elements_by_xpath(\"//*[@id='onetrust-accept-btn-handler']\")[0].click()\n",
    "\n",
    "new_data = parse_html2(driver.page_source)\n",
    "reviews2 = pd.concat([reviews2, new_data], ignore_index=True)\n",
    "driver.close()\n",
    "\n",
    "reviews2\n",
    "reviews2.to_csv('Reviews_scraped_FirstPage.csv',encoding='utf-8-sig')\n"
   ]
  },
  {
   "cell_type": "code",
   "execution_count": 5,
   "id": "a39a6fc6",
   "metadata": {
    "ExecuteTime": {
     "end_time": "2022-03-21T00:01:43.551723Z",
     "start_time": "2022-03-21T00:01:43.377906Z"
    }
   },
   "outputs": [],
   "source": [
    "#Saving the dataframe to csv\n",
    "\n",
    "reviews.to_csv('reviews.csv',encoding='utf-8-sig')\n",
    "reviews.to_csv('Reviews_scraped_Rest.csv',encoding='utf-8-sig')"
   ]
  },
  {
   "cell_type": "code",
   "execution_count": 6,
   "id": "226149f1",
   "metadata": {
    "ExecuteTime": {
     "end_time": "2022-03-21T00:01:43.599698Z",
     "start_time": "2022-03-21T00:01:43.552723Z"
    }
   },
   "outputs": [],
   "source": [
    "#Loading the dataframe\n",
    "\n",
    "reviews=pd.read_csv('reviews.csv')"
   ]
  },
  {
   "cell_type": "code",
   "execution_count": 7,
   "id": "963cddfc",
   "metadata": {
    "ExecuteTime": {
     "end_time": "2022-03-21T00:01:43.615657Z",
     "start_time": "2022-03-21T00:01:43.601716Z"
    }
   },
   "outputs": [],
   "source": [
    "#Fill the null values from the first dataframe with the values of the second one\n",
    "\n",
    "allreviews = pd.DataFrame(reviews['reviews'].fillna(reviews2['reviews2']))\n"
   ]
  },
  {
   "cell_type": "code",
   "execution_count": 8,
   "id": "aed2de71",
   "metadata": {
    "ExecuteTime": {
     "end_time": "2022-03-21T00:01:43.631638Z",
     "start_time": "2022-03-21T00:01:43.616654Z"
    }
   },
   "outputs": [
    {
     "data": {
      "text/html": [
       "<div>\n",
       "<style scoped>\n",
       "    .dataframe tbody tr th:only-of-type {\n",
       "        vertical-align: middle;\n",
       "    }\n",
       "\n",
       "    .dataframe tbody tr th {\n",
       "        vertical-align: top;\n",
       "    }\n",
       "\n",
       "    .dataframe thead th {\n",
       "        text-align: right;\n",
       "    }\n",
       "</style>\n",
       "<table border=\"1\" class=\"dataframe\">\n",
       "  <thead>\n",
       "    <tr style=\"text-align: right;\">\n",
       "      <th></th>\n",
       "      <th>name</th>\n",
       "    </tr>\n",
       "  </thead>\n",
       "  <tbody>\n",
       "    <tr>\n",
       "      <th>0</th>\n",
       "      <td>This restaurant was recommended to us by our h...</td>\n",
       "    </tr>\n",
       "    <tr>\n",
       "      <th>1</th>\n",
       "      <td>Had to wait for a table but glad we did. The f...</td>\n",
       "    </tr>\n",
       "    <tr>\n",
       "      <th>2</th>\n",
       "      <td>We went here on the last night of a 4 night tr...</td>\n",
       "    </tr>\n",
       "    <tr>\n",
       "      <th>3</th>\n",
       "      <td>Our hotel recommended this restaurant. It was ...</td>\n",
       "    </tr>\n",
       "    <tr>\n",
       "      <th>4</th>\n",
       "      <td>Fantastic meal at Cervecería Catalana. Food wa...</td>\n",
       "    </tr>\n",
       "    <tr>\n",
       "      <th>...</th>\n",
       "      <td>...</td>\n",
       "    </tr>\n",
       "    <tr>\n",
       "      <th>5435</th>\n",
       "      <td>Next to the shops, but very different from the...</td>\n",
       "    </tr>\n",
       "    <tr>\n",
       "      <th>5436</th>\n",
       "      <td>Good tapas and always busy. Local place</td>\n",
       "    </tr>\n",
       "    <tr>\n",
       "      <th>5437</th>\n",
       "      <td>everytime that I´m visiting Barcelona, got to go!</td>\n",
       "    </tr>\n",
       "    <tr>\n",
       "      <th>5438</th>\n",
       "      <td>Very well known for the business men-women. It...</td>\n",
       "    </tr>\n",
       "    <tr>\n",
       "      <th>5439</th>\n",
       "      <td>one of my favourite tapas bar</td>\n",
       "    </tr>\n",
       "  </tbody>\n",
       "</table>\n",
       "<p>5440 rows × 1 columns</p>\n",
       "</div>"
      ],
      "text/plain": [
       "                                                   name\n",
       "0     This restaurant was recommended to us by our h...\n",
       "1     Had to wait for a table but glad we did. The f...\n",
       "2     We went here on the last night of a 4 night tr...\n",
       "3     Our hotel recommended this restaurant. It was ...\n",
       "4     Fantastic meal at Cervecería Catalana. Food wa...\n",
       "...                                                 ...\n",
       "5435  Next to the shops, but very different from the...\n",
       "5436            Good tapas and always busy. Local place\n",
       "5437  everytime that I´m visiting Barcelona, got to go!\n",
       "5438  Very well known for the business men-women. It...\n",
       "5439                      one of my favourite tapas bar\n",
       "\n",
       "[5440 rows x 1 columns]"
      ]
     },
     "execution_count": 8,
     "metadata": {},
     "output_type": "execute_result"
    }
   ],
   "source": [
    "#Rename the columns to be able to concat later\n",
    "\n",
    "allreviews.rename(columns={'reviews': 'name'}, inplace=True)\n",
    "allreviews"
   ]
  },
  {
   "cell_type": "code",
   "execution_count": 9,
   "id": "bce38e82",
   "metadata": {
    "ExecuteTime": {
     "end_time": "2022-03-21T00:01:43.647613Z",
     "start_time": "2022-03-21T00:01:43.633611Z"
    }
   },
   "outputs": [
    {
     "data": {
      "text/html": [
       "<div>\n",
       "<style scoped>\n",
       "    .dataframe tbody tr th:only-of-type {\n",
       "        vertical-align: middle;\n",
       "    }\n",
       "\n",
       "    .dataframe tbody tr th {\n",
       "        vertical-align: top;\n",
       "    }\n",
       "\n",
       "    .dataframe thead th {\n",
       "        text-align: right;\n",
       "    }\n",
       "</style>\n",
       "<table border=\"1\" class=\"dataframe\">\n",
       "  <thead>\n",
       "    <tr style=\"text-align: right;\">\n",
       "      <th></th>\n",
       "      <th>Unnamed: 0</th>\n",
       "      <th>date</th>\n",
       "      <th>reviews</th>\n",
       "      <th>rating_review</th>\n",
       "      <th>name</th>\n",
       "    </tr>\n",
       "  </thead>\n",
       "  <tbody>\n",
       "    <tr>\n",
       "      <th>0</th>\n",
       "      <td>0</td>\n",
       "      <td>Opinión escrita hace una semana</td>\n",
       "      <td>This restaurant was recommended to us by our h...</td>\n",
       "      <td>['ui_bubble_rating', 'bubble_50']</td>\n",
       "      <td>This restaurant was recommended to us by our h...</td>\n",
       "    </tr>\n",
       "    <tr>\n",
       "      <th>1</th>\n",
       "      <td>1</td>\n",
       "      <td>Opinión escrita hace 2 semanas</td>\n",
       "      <td>NaN</td>\n",
       "      <td>['ui_bubble_rating', 'bubble_40']</td>\n",
       "      <td>Had to wait for a table but glad we did. The f...</td>\n",
       "    </tr>\n",
       "    <tr>\n",
       "      <th>2</th>\n",
       "      <td>2</td>\n",
       "      <td>Opinión escrita hace 3 semanas</td>\n",
       "      <td>NaN</td>\n",
       "      <td>['ui_bubble_rating', 'bubble_20']</td>\n",
       "      <td>We went here on the last night of a 4 night tr...</td>\n",
       "    </tr>\n",
       "    <tr>\n",
       "      <th>3</th>\n",
       "      <td>3</td>\n",
       "      <td>Opinión escrita hace 4 semanas</td>\n",
       "      <td>NaN</td>\n",
       "      <td>['ui_bubble_rating', 'bubble_50']</td>\n",
       "      <td>Our hotel recommended this restaurant. It was ...</td>\n",
       "    </tr>\n",
       "    <tr>\n",
       "      <th>4</th>\n",
       "      <td>4</td>\n",
       "      <td>Opinión escrita hace 4 semanas</td>\n",
       "      <td>NaN</td>\n",
       "      <td>['ui_bubble_rating', 'bubble_50']</td>\n",
       "      <td>Fantastic meal at Cervecería Catalana. Food wa...</td>\n",
       "    </tr>\n",
       "    <tr>\n",
       "      <th>...</th>\n",
       "      <td>...</td>\n",
       "      <td>...</td>\n",
       "      <td>...</td>\n",
       "      <td>...</td>\n",
       "      <td>...</td>\n",
       "    </tr>\n",
       "    <tr>\n",
       "      <th>5435</th>\n",
       "      <td>5435</td>\n",
       "      <td>Opinión escrita 6 de enero de 2008</td>\n",
       "      <td>Next to the shops, but very different from the...</td>\n",
       "      <td>['ui_bubble_rating', 'bubble_40']</td>\n",
       "      <td>Next to the shops, but very different from the...</td>\n",
       "    </tr>\n",
       "    <tr>\n",
       "      <th>5436</th>\n",
       "      <td>5436</td>\n",
       "      <td>Opinión escrita 28 de diciembre de 2007</td>\n",
       "      <td>Good tapas and always busy. Local place</td>\n",
       "      <td>['ui_bubble_rating', 'bubble_30']</td>\n",
       "      <td>Good tapas and always busy. Local place</td>\n",
       "    </tr>\n",
       "    <tr>\n",
       "      <th>5437</th>\n",
       "      <td>5437</td>\n",
       "      <td>Opinión escrita 24 de diciembre de 2007</td>\n",
       "      <td>everytime that I´m visiting Barcelona, got to go!</td>\n",
       "      <td>['ui_bubble_rating', 'bubble_50']</td>\n",
       "      <td>everytime that I´m visiting Barcelona, got to go!</td>\n",
       "    </tr>\n",
       "    <tr>\n",
       "      <th>5438</th>\n",
       "      <td>5438</td>\n",
       "      <td>Opinión escrita 21 de diciembre de 2007</td>\n",
       "      <td>Very well known for the business men-women. It...</td>\n",
       "      <td>['ui_bubble_rating', 'bubble_40']</td>\n",
       "      <td>Very well known for the business men-women. It...</td>\n",
       "    </tr>\n",
       "    <tr>\n",
       "      <th>5439</th>\n",
       "      <td>5439</td>\n",
       "      <td>Opinión escrita 12 de diciembre de 2007</td>\n",
       "      <td>one of my favourite tapas bar</td>\n",
       "      <td>['ui_bubble_rating', 'bubble_50']</td>\n",
       "      <td>one of my favourite tapas bar</td>\n",
       "    </tr>\n",
       "  </tbody>\n",
       "</table>\n",
       "<p>5440 rows × 5 columns</p>\n",
       "</div>"
      ],
      "text/plain": [
       "      Unnamed: 0                                      date  \\\n",
       "0              0          Opinión escrita hace una semana    \n",
       "1              1           Opinión escrita hace 2 semanas    \n",
       "2              2           Opinión escrita hace 3 semanas    \n",
       "3              3           Opinión escrita hace 4 semanas    \n",
       "4              4           Opinión escrita hace 4 semanas    \n",
       "...          ...                                       ...   \n",
       "5435        5435       Opinión escrita 6 de enero de 2008    \n",
       "5436        5436  Opinión escrita 28 de diciembre de 2007    \n",
       "5437        5437  Opinión escrita 24 de diciembre de 2007    \n",
       "5438        5438  Opinión escrita 21 de diciembre de 2007    \n",
       "5439        5439  Opinión escrita 12 de diciembre de 2007    \n",
       "\n",
       "                                                reviews  \\\n",
       "0     This restaurant was recommended to us by our h...   \n",
       "1                                                   NaN   \n",
       "2                                                   NaN   \n",
       "3                                                   NaN   \n",
       "4                                                   NaN   \n",
       "...                                                 ...   \n",
       "5435  Next to the shops, but very different from the...   \n",
       "5436            Good tapas and always busy. Local place   \n",
       "5437  everytime that I´m visiting Barcelona, got to go!   \n",
       "5438  Very well known for the business men-women. It...   \n",
       "5439                      one of my favourite tapas bar   \n",
       "\n",
       "                          rating_review  \\\n",
       "0     ['ui_bubble_rating', 'bubble_50']   \n",
       "1     ['ui_bubble_rating', 'bubble_40']   \n",
       "2     ['ui_bubble_rating', 'bubble_20']   \n",
       "3     ['ui_bubble_rating', 'bubble_50']   \n",
       "4     ['ui_bubble_rating', 'bubble_50']   \n",
       "...                                 ...   \n",
       "5435  ['ui_bubble_rating', 'bubble_40']   \n",
       "5436  ['ui_bubble_rating', 'bubble_30']   \n",
       "5437  ['ui_bubble_rating', 'bubble_50']   \n",
       "5438  ['ui_bubble_rating', 'bubble_40']   \n",
       "5439  ['ui_bubble_rating', 'bubble_50']   \n",
       "\n",
       "                                                   name  \n",
       "0     This restaurant was recommended to us by our h...  \n",
       "1     Had to wait for a table but glad we did. The f...  \n",
       "2     We went here on the last night of a 4 night tr...  \n",
       "3     Our hotel recommended this restaurant. It was ...  \n",
       "4     Fantastic meal at Cervecería Catalana. Food wa...  \n",
       "...                                                 ...  \n",
       "5435  Next to the shops, but very different from the...  \n",
       "5436            Good tapas and always busy. Local place  \n",
       "5437  everytime that I´m visiting Barcelona, got to go!  \n",
       "5438  Very well known for the business men-women. It...  \n",
       "5439                      one of my favourite tapas bar  \n",
       "\n",
       "[5440 rows x 5 columns]"
      ]
     },
     "execution_count": 9,
     "metadata": {},
     "output_type": "execute_result"
    }
   ],
   "source": [
    "#Concat the dataframes\n",
    "\n",
    "reviews=pd.concat([reviews, allreviews['name']], axis=1)\n",
    "reviews"
   ]
  },
  {
   "cell_type": "code",
   "execution_count": 10,
   "id": "269e09eb",
   "metadata": {
    "ExecuteTime": {
     "end_time": "2022-03-21T00:01:43.679486Z",
     "start_time": "2022-03-21T00:01:43.653561Z"
    }
   },
   "outputs": [
    {
     "data": {
      "text/html": [
       "<div>\n",
       "<style scoped>\n",
       "    .dataframe tbody tr th:only-of-type {\n",
       "        vertical-align: middle;\n",
       "    }\n",
       "\n",
       "    .dataframe tbody tr th {\n",
       "        vertical-align: top;\n",
       "    }\n",
       "\n",
       "    .dataframe thead th {\n",
       "        text-align: right;\n",
       "    }\n",
       "</style>\n",
       "<table border=\"1\" class=\"dataframe\">\n",
       "  <thead>\n",
       "    <tr style=\"text-align: right;\">\n",
       "      <th></th>\n",
       "      <th>date</th>\n",
       "      <th>rating_review</th>\n",
       "      <th>reviews</th>\n",
       "    </tr>\n",
       "  </thead>\n",
       "  <tbody>\n",
       "    <tr>\n",
       "      <th>0</th>\n",
       "      <td>Opinión escrita hace una semana</td>\n",
       "      <td>['ui_bubble_rating', 'bubble_50']</td>\n",
       "      <td>This restaurant was recommended to us by our h...</td>\n",
       "    </tr>\n",
       "    <tr>\n",
       "      <th>1</th>\n",
       "      <td>Opinión escrita hace 2 semanas</td>\n",
       "      <td>['ui_bubble_rating', 'bubble_40']</td>\n",
       "      <td>Had to wait for a table but glad we did. The f...</td>\n",
       "    </tr>\n",
       "    <tr>\n",
       "      <th>2</th>\n",
       "      <td>Opinión escrita hace 3 semanas</td>\n",
       "      <td>['ui_bubble_rating', 'bubble_20']</td>\n",
       "      <td>We went here on the last night of a 4 night tr...</td>\n",
       "    </tr>\n",
       "    <tr>\n",
       "      <th>3</th>\n",
       "      <td>Opinión escrita hace 4 semanas</td>\n",
       "      <td>['ui_bubble_rating', 'bubble_50']</td>\n",
       "      <td>Our hotel recommended this restaurant. It was ...</td>\n",
       "    </tr>\n",
       "    <tr>\n",
       "      <th>4</th>\n",
       "      <td>Opinión escrita hace 4 semanas</td>\n",
       "      <td>['ui_bubble_rating', 'bubble_50']</td>\n",
       "      <td>Fantastic meal at Cervecería Catalana. Food wa...</td>\n",
       "    </tr>\n",
       "    <tr>\n",
       "      <th>...</th>\n",
       "      <td>...</td>\n",
       "      <td>...</td>\n",
       "      <td>...</td>\n",
       "    </tr>\n",
       "    <tr>\n",
       "      <th>5435</th>\n",
       "      <td>Opinión escrita 6 de enero de 2008</td>\n",
       "      <td>['ui_bubble_rating', 'bubble_40']</td>\n",
       "      <td>Next to the shops, but very different from the...</td>\n",
       "    </tr>\n",
       "    <tr>\n",
       "      <th>5436</th>\n",
       "      <td>Opinión escrita 28 de diciembre de 2007</td>\n",
       "      <td>['ui_bubble_rating', 'bubble_30']</td>\n",
       "      <td>Good tapas and always busy. Local place</td>\n",
       "    </tr>\n",
       "    <tr>\n",
       "      <th>5437</th>\n",
       "      <td>Opinión escrita 24 de diciembre de 2007</td>\n",
       "      <td>['ui_bubble_rating', 'bubble_50']</td>\n",
       "      <td>everytime that I´m visiting Barcelona, got to go!</td>\n",
       "    </tr>\n",
       "    <tr>\n",
       "      <th>5438</th>\n",
       "      <td>Opinión escrita 21 de diciembre de 2007</td>\n",
       "      <td>['ui_bubble_rating', 'bubble_40']</td>\n",
       "      <td>Very well known for the business men-women. It...</td>\n",
       "    </tr>\n",
       "    <tr>\n",
       "      <th>5439</th>\n",
       "      <td>Opinión escrita 12 de diciembre de 2007</td>\n",
       "      <td>['ui_bubble_rating', 'bubble_50']</td>\n",
       "      <td>one of my favourite tapas bar</td>\n",
       "    </tr>\n",
       "  </tbody>\n",
       "</table>\n",
       "<p>5440 rows × 3 columns</p>\n",
       "</div>"
      ],
      "text/plain": [
       "                                          date  \\\n",
       "0             Opinión escrita hace una semana    \n",
       "1              Opinión escrita hace 2 semanas    \n",
       "2              Opinión escrita hace 3 semanas    \n",
       "3              Opinión escrita hace 4 semanas    \n",
       "4              Opinión escrita hace 4 semanas    \n",
       "...                                        ...   \n",
       "5435       Opinión escrita 6 de enero de 2008    \n",
       "5436  Opinión escrita 28 de diciembre de 2007    \n",
       "5437  Opinión escrita 24 de diciembre de 2007    \n",
       "5438  Opinión escrita 21 de diciembre de 2007    \n",
       "5439  Opinión escrita 12 de diciembre de 2007    \n",
       "\n",
       "                          rating_review  \\\n",
       "0     ['ui_bubble_rating', 'bubble_50']   \n",
       "1     ['ui_bubble_rating', 'bubble_40']   \n",
       "2     ['ui_bubble_rating', 'bubble_20']   \n",
       "3     ['ui_bubble_rating', 'bubble_50']   \n",
       "4     ['ui_bubble_rating', 'bubble_50']   \n",
       "...                                 ...   \n",
       "5435  ['ui_bubble_rating', 'bubble_40']   \n",
       "5436  ['ui_bubble_rating', 'bubble_30']   \n",
       "5437  ['ui_bubble_rating', 'bubble_50']   \n",
       "5438  ['ui_bubble_rating', 'bubble_40']   \n",
       "5439  ['ui_bubble_rating', 'bubble_50']   \n",
       "\n",
       "                                                reviews  \n",
       "0     This restaurant was recommended to us by our h...  \n",
       "1     Had to wait for a table but glad we did. The f...  \n",
       "2     We went here on the last night of a 4 night tr...  \n",
       "3     Our hotel recommended this restaurant. It was ...  \n",
       "4     Fantastic meal at Cervecería Catalana. Food wa...  \n",
       "...                                                 ...  \n",
       "5435  Next to the shops, but very different from the...  \n",
       "5436            Good tapas and always busy. Local place  \n",
       "5437  everytime that I´m visiting Barcelona, got to go!  \n",
       "5438  Very well known for the business men-women. It...  \n",
       "5439                      one of my favourite tapas bar  \n",
       "\n",
       "[5440 rows x 3 columns]"
      ]
     },
     "execution_count": 10,
     "metadata": {},
     "output_type": "execute_result"
    }
   ],
   "source": [
    "#Standarise the headers, and drop usless columns\n",
    "\n",
    "reviews.drop(['Unnamed: 0','reviews'], axis = 1, inplace = True)\n",
    "reviews.rename(columns={'name': 'reviews'}, inplace=True)\n",
    "reviews"
   ]
  },
  {
   "cell_type": "code",
   "execution_count": 11,
   "id": "d3eca857",
   "metadata": {
    "ExecuteTime": {
     "end_time": "2022-03-21T00:01:43.694447Z",
     "start_time": "2022-03-21T00:01:43.681482Z"
    },
    "scrolled": true
   },
   "outputs": [
    {
     "name": "stdout",
     "output_type": "stream",
     "text": [
      "<class 'pandas.core.frame.DataFrame'>\n",
      "RangeIndex: 5440 entries, 0 to 5439\n",
      "Data columns (total 3 columns):\n",
      " #   Column         Non-Null Count  Dtype \n",
      "---  ------         --------------  ----- \n",
      " 0   date           5440 non-null   object\n",
      " 1   rating_review  5440 non-null   object\n",
      " 2   reviews        5440 non-null   object\n",
      "dtypes: object(3)\n",
      "memory usage: 127.6+ KB\n"
     ]
    }
   ],
   "source": [
    "reviews.info()"
   ]
  },
  {
   "cell_type": "code",
   "execution_count": 12,
   "id": "463cc969",
   "metadata": {
    "ExecuteTime": {
     "end_time": "2022-03-21T00:01:43.724366Z",
     "start_time": "2022-03-21T00:01:43.696441Z"
    }
   },
   "outputs": [
    {
     "data": {
      "text/html": [
       "<div>\n",
       "<style scoped>\n",
       "    .dataframe tbody tr th:only-of-type {\n",
       "        vertical-align: middle;\n",
       "    }\n",
       "\n",
       "    .dataframe tbody tr th {\n",
       "        vertical-align: top;\n",
       "    }\n",
       "\n",
       "    .dataframe thead th {\n",
       "        text-align: right;\n",
       "    }\n",
       "</style>\n",
       "<table border=\"1\" class=\"dataframe\">\n",
       "  <thead>\n",
       "    <tr style=\"text-align: right;\">\n",
       "      <th></th>\n",
       "      <th>date</th>\n",
       "      <th>rating_review</th>\n",
       "      <th>reviews</th>\n",
       "    </tr>\n",
       "  </thead>\n",
       "  <tbody>\n",
       "    <tr>\n",
       "      <th>0</th>\n",
       "      <td>Opinión escrita hace una semana</td>\n",
       "      <td>['ui_bubble_rating', 'bubble_50']</td>\n",
       "      <td>This restaurant was recommended to us by our h...</td>\n",
       "    </tr>\n",
       "    <tr>\n",
       "      <th>1</th>\n",
       "      <td>Opinión escrita hace 2 semanas</td>\n",
       "      <td>['ui_bubble_rating', 'bubble_40']</td>\n",
       "      <td>Had to wait for a table but glad we did. The f...</td>\n",
       "    </tr>\n",
       "    <tr>\n",
       "      <th>2</th>\n",
       "      <td>Opinión escrita hace 3 semanas</td>\n",
       "      <td>['ui_bubble_rating', 'bubble_20']</td>\n",
       "      <td>We went here on the last night of a 4 night tr...</td>\n",
       "    </tr>\n",
       "    <tr>\n",
       "      <th>3</th>\n",
       "      <td>Opinión escrita hace 4 semanas</td>\n",
       "      <td>['ui_bubble_rating', 'bubble_50']</td>\n",
       "      <td>Our hotel recommended this restaurant. It was ...</td>\n",
       "    </tr>\n",
       "    <tr>\n",
       "      <th>4</th>\n",
       "      <td>Opinión escrita hace 4 semanas</td>\n",
       "      <td>['ui_bubble_rating', 'bubble_50']</td>\n",
       "      <td>Fantastic meal at Cervecería Catalana. Food wa...</td>\n",
       "    </tr>\n",
       "    <tr>\n",
       "      <th>...</th>\n",
       "      <td>...</td>\n",
       "      <td>...</td>\n",
       "      <td>...</td>\n",
       "    </tr>\n",
       "    <tr>\n",
       "      <th>5435</th>\n",
       "      <td>Opinión escrita 6 de enero de 2008</td>\n",
       "      <td>['ui_bubble_rating', 'bubble_40']</td>\n",
       "      <td>Next to the shops, but very different from the...</td>\n",
       "    </tr>\n",
       "    <tr>\n",
       "      <th>5436</th>\n",
       "      <td>Opinión escrita 28 de diciembre de 2007</td>\n",
       "      <td>['ui_bubble_rating', 'bubble_30']</td>\n",
       "      <td>Good tapas and always busy. Local place</td>\n",
       "    </tr>\n",
       "    <tr>\n",
       "      <th>5437</th>\n",
       "      <td>Opinión escrita 24 de diciembre de 2007</td>\n",
       "      <td>['ui_bubble_rating', 'bubble_50']</td>\n",
       "      <td>everytime that I´m visiting Barcelona, got to go!</td>\n",
       "    </tr>\n",
       "    <tr>\n",
       "      <th>5438</th>\n",
       "      <td>Opinión escrita 21 de diciembre de 2007</td>\n",
       "      <td>['ui_bubble_rating', 'bubble_40']</td>\n",
       "      <td>Very well known for the business men-women. It...</td>\n",
       "    </tr>\n",
       "    <tr>\n",
       "      <th>5439</th>\n",
       "      <td>Opinión escrita 12 de diciembre de 2007</td>\n",
       "      <td>['ui_bubble_rating', 'bubble_50']</td>\n",
       "      <td>one of my favourite tapas bar</td>\n",
       "    </tr>\n",
       "  </tbody>\n",
       "</table>\n",
       "<p>5440 rows × 3 columns</p>\n",
       "</div>"
      ],
      "text/plain": [
       "                                          date  \\\n",
       "0             Opinión escrita hace una semana    \n",
       "1              Opinión escrita hace 2 semanas    \n",
       "2              Opinión escrita hace 3 semanas    \n",
       "3              Opinión escrita hace 4 semanas    \n",
       "4              Opinión escrita hace 4 semanas    \n",
       "...                                        ...   \n",
       "5435       Opinión escrita 6 de enero de 2008    \n",
       "5436  Opinión escrita 28 de diciembre de 2007    \n",
       "5437  Opinión escrita 24 de diciembre de 2007    \n",
       "5438  Opinión escrita 21 de diciembre de 2007    \n",
       "5439  Opinión escrita 12 de diciembre de 2007    \n",
       "\n",
       "                          rating_review  \\\n",
       "0     ['ui_bubble_rating', 'bubble_50']   \n",
       "1     ['ui_bubble_rating', 'bubble_40']   \n",
       "2     ['ui_bubble_rating', 'bubble_20']   \n",
       "3     ['ui_bubble_rating', 'bubble_50']   \n",
       "4     ['ui_bubble_rating', 'bubble_50']   \n",
       "...                                 ...   \n",
       "5435  ['ui_bubble_rating', 'bubble_40']   \n",
       "5436  ['ui_bubble_rating', 'bubble_30']   \n",
       "5437  ['ui_bubble_rating', 'bubble_50']   \n",
       "5438  ['ui_bubble_rating', 'bubble_40']   \n",
       "5439  ['ui_bubble_rating', 'bubble_50']   \n",
       "\n",
       "                                                reviews  \n",
       "0     This restaurant was recommended to us by our h...  \n",
       "1     Had to wait for a table but glad we did. The f...  \n",
       "2     We went here on the last night of a 4 night tr...  \n",
       "3     Our hotel recommended this restaurant. It was ...  \n",
       "4     Fantastic meal at Cervecería Catalana. Food wa...  \n",
       "...                                                 ...  \n",
       "5435  Next to the shops, but very different from the...  \n",
       "5436            Good tapas and always busy. Local place  \n",
       "5437  everytime that I´m visiting Barcelona, got to go!  \n",
       "5438  Very well known for the business men-women. It...  \n",
       "5439                      one of my favourite tapas bar  \n",
       "\n",
       "[5440 rows x 3 columns]"
      ]
     },
     "execution_count": 12,
     "metadata": {},
     "output_type": "execute_result"
    }
   ],
   "source": [
    "# pd.set_option(\"display.max_colwidth\", None)\n",
    "# pd.set_option('display.max_rows', None)\n",
    "reviews"
   ]
  },
  {
   "cell_type": "code",
   "execution_count": 13,
   "id": "6880714a",
   "metadata": {
    "ExecuteTime": {
     "end_time": "2022-03-21T00:01:43.740351Z",
     "start_time": "2022-03-21T00:01:43.726361Z"
    }
   },
   "outputs": [
    {
     "data": {
      "text/plain": [
       "pandas.core.series.Series"
      ]
     },
     "execution_count": 13,
     "metadata": {},
     "output_type": "execute_result"
    }
   ],
   "source": [
    "type(reviews['rating_review'])"
   ]
  },
  {
   "cell_type": "code",
   "execution_count": 14,
   "id": "b3620140",
   "metadata": {
    "ExecuteTime": {
     "end_time": "2022-03-21T00:01:43.755313Z",
     "start_time": "2022-03-21T00:01:43.741355Z"
    }
   },
   "outputs": [
    {
     "data": {
      "text/plain": [
       "0       ['ui_bubble_rating', 'bubble_50']\n",
       "1       ['ui_bubble_rating', 'bubble_40']\n",
       "2       ['ui_bubble_rating', 'bubble_20']\n",
       "3       ['ui_bubble_rating', 'bubble_50']\n",
       "4       ['ui_bubble_rating', 'bubble_50']\n",
       "                      ...                \n",
       "5435    ['ui_bubble_rating', 'bubble_40']\n",
       "5436    ['ui_bubble_rating', 'bubble_30']\n",
       "5437    ['ui_bubble_rating', 'bubble_50']\n",
       "5438    ['ui_bubble_rating', 'bubble_40']\n",
       "5439    ['ui_bubble_rating', 'bubble_50']\n",
       "Name: rating_review, Length: 5440, dtype: object"
      ]
     },
     "execution_count": 14,
     "metadata": {},
     "output_type": "execute_result"
    }
   ],
   "source": [
    "#We transform the column to string in order to get the number later\n",
    "\n",
    "reviews['rating_review']=reviews['rating_review'].apply(str)\n",
    "reviews['rating_review']"
   ]
  },
  {
   "cell_type": "code",
   "execution_count": 15,
   "id": "a84efdf6",
   "metadata": {
    "ExecuteTime": {
     "end_time": "2022-03-21T00:01:43.786225Z",
     "start_time": "2022-03-21T00:01:43.756309Z"
    }
   },
   "outputs": [
    {
     "data": {
      "text/html": [
       "<div>\n",
       "<style scoped>\n",
       "    .dataframe tbody tr th:only-of-type {\n",
       "        vertical-align: middle;\n",
       "    }\n",
       "\n",
       "    .dataframe tbody tr th {\n",
       "        vertical-align: top;\n",
       "    }\n",
       "\n",
       "    .dataframe thead th {\n",
       "        text-align: right;\n",
       "    }\n",
       "</style>\n",
       "<table border=\"1\" class=\"dataframe\">\n",
       "  <thead>\n",
       "    <tr style=\"text-align: right;\">\n",
       "      <th></th>\n",
       "      <th>date</th>\n",
       "      <th>rating_review</th>\n",
       "      <th>reviews</th>\n",
       "    </tr>\n",
       "  </thead>\n",
       "  <tbody>\n",
       "    <tr>\n",
       "      <th>0</th>\n",
       "      <td>Opinión escrita hace una semana</td>\n",
       "      <td>50</td>\n",
       "      <td>This restaurant was recommended to us by our h...</td>\n",
       "    </tr>\n",
       "    <tr>\n",
       "      <th>1</th>\n",
       "      <td>Opinión escrita hace 2 semanas</td>\n",
       "      <td>40</td>\n",
       "      <td>Had to wait for a table but glad we did. The f...</td>\n",
       "    </tr>\n",
       "    <tr>\n",
       "      <th>2</th>\n",
       "      <td>Opinión escrita hace 3 semanas</td>\n",
       "      <td>20</td>\n",
       "      <td>We went here on the last night of a 4 night tr...</td>\n",
       "    </tr>\n",
       "    <tr>\n",
       "      <th>3</th>\n",
       "      <td>Opinión escrita hace 4 semanas</td>\n",
       "      <td>50</td>\n",
       "      <td>Our hotel recommended this restaurant. It was ...</td>\n",
       "    </tr>\n",
       "    <tr>\n",
       "      <th>4</th>\n",
       "      <td>Opinión escrita hace 4 semanas</td>\n",
       "      <td>50</td>\n",
       "      <td>Fantastic meal at Cervecería Catalana. Food wa...</td>\n",
       "    </tr>\n",
       "    <tr>\n",
       "      <th>...</th>\n",
       "      <td>...</td>\n",
       "      <td>...</td>\n",
       "      <td>...</td>\n",
       "    </tr>\n",
       "    <tr>\n",
       "      <th>5435</th>\n",
       "      <td>Opinión escrita 6 de enero de 2008</td>\n",
       "      <td>40</td>\n",
       "      <td>Next to the shops, but very different from the...</td>\n",
       "    </tr>\n",
       "    <tr>\n",
       "      <th>5436</th>\n",
       "      <td>Opinión escrita 28 de diciembre de 2007</td>\n",
       "      <td>30</td>\n",
       "      <td>Good tapas and always busy. Local place</td>\n",
       "    </tr>\n",
       "    <tr>\n",
       "      <th>5437</th>\n",
       "      <td>Opinión escrita 24 de diciembre de 2007</td>\n",
       "      <td>50</td>\n",
       "      <td>everytime that I´m visiting Barcelona, got to go!</td>\n",
       "    </tr>\n",
       "    <tr>\n",
       "      <th>5438</th>\n",
       "      <td>Opinión escrita 21 de diciembre de 2007</td>\n",
       "      <td>40</td>\n",
       "      <td>Very well known for the business men-women. It...</td>\n",
       "    </tr>\n",
       "    <tr>\n",
       "      <th>5439</th>\n",
       "      <td>Opinión escrita 12 de diciembre de 2007</td>\n",
       "      <td>50</td>\n",
       "      <td>one of my favourite tapas bar</td>\n",
       "    </tr>\n",
       "  </tbody>\n",
       "</table>\n",
       "<p>5440 rows × 3 columns</p>\n",
       "</div>"
      ],
      "text/plain": [
       "                                          date rating_review  \\\n",
       "0             Opinión escrita hace una semana             50   \n",
       "1              Opinión escrita hace 2 semanas             40   \n",
       "2              Opinión escrita hace 3 semanas             20   \n",
       "3              Opinión escrita hace 4 semanas             50   \n",
       "4              Opinión escrita hace 4 semanas             50   \n",
       "...                                        ...           ...   \n",
       "5435       Opinión escrita 6 de enero de 2008             40   \n",
       "5436  Opinión escrita 28 de diciembre de 2007             30   \n",
       "5437  Opinión escrita 24 de diciembre de 2007             50   \n",
       "5438  Opinión escrita 21 de diciembre de 2007             40   \n",
       "5439  Opinión escrita 12 de diciembre de 2007             50   \n",
       "\n",
       "                                                reviews  \n",
       "0     This restaurant was recommended to us by our h...  \n",
       "1     Had to wait for a table but glad we did. The f...  \n",
       "2     We went here on the last night of a 4 night tr...  \n",
       "3     Our hotel recommended this restaurant. It was ...  \n",
       "4     Fantastic meal at Cervecería Catalana. Food wa...  \n",
       "...                                                 ...  \n",
       "5435  Next to the shops, but very different from the...  \n",
       "5436            Good tapas and always busy. Local place  \n",
       "5437  everytime that I´m visiting Barcelona, got to go!  \n",
       "5438  Very well known for the business men-women. It...  \n",
       "5439                      one of my favourite tapas bar  \n",
       "\n",
       "[5440 rows x 3 columns]"
      ]
     },
     "execution_count": 15,
     "metadata": {},
     "output_type": "execute_result"
    }
   ],
   "source": [
    "#Extract the number with the function extract()\n",
    "\n",
    "reviews['rating_review']=reviews['rating_review'].str.extract(pat = '([0-9].)')\n",
    "reviews"
   ]
  },
  {
   "cell_type": "code",
   "execution_count": 16,
   "id": "16e96e8e",
   "metadata": {
    "ExecuteTime": {
     "end_time": "2022-03-21T00:01:43.818115Z",
     "start_time": "2022-03-21T00:01:43.787198Z"
    }
   },
   "outputs": [
    {
     "data": {
      "text/plain": [
       "0       This restaurant was recommended to us by our h...\n",
       "1       Had to wait for a table but glad we did. The f...\n",
       "2       We went here on the last night of a 4 night tr...\n",
       "3       Our hotel recommended this restaurant. It was ...\n",
       "4       Fantastic meal at Cervecería Catalana. Food wa...\n",
       "                              ...                        \n",
       "5435    Next to the shops, but very different from the...\n",
       "5436              Good tapas and always busy. Local place\n",
       "5437    everytime that I´m visiting Barcelona, got to go!\n",
       "5438    Very well known for the business men-women. It...\n",
       "5439                        one of my favourite tapas bar\n",
       "Name: reviews, Length: 5440, dtype: object"
      ]
     },
     "execution_count": 16,
     "metadata": {},
     "output_type": "execute_result"
    }
   ],
   "source": [
    "#Transform the review column to string in order to later visualize the full review\n",
    "\n",
    "reviews['reviews'].apply(str)"
   ]
  },
  {
   "cell_type": "code",
   "execution_count": 17,
   "id": "a3aaf3f3",
   "metadata": {
    "ExecuteTime": {
     "end_time": "2022-03-21T00:01:43.834074Z",
     "start_time": "2022-03-21T00:01:43.820139Z"
    }
   },
   "outputs": [],
   "source": [
    "#To visualize the full review\n",
    "\n",
    "pd.set_option(\"display.max_colwidth\", None)"
   ]
  },
  {
   "cell_type": "code",
   "execution_count": 18,
   "id": "fc9e6a7e",
   "metadata": {
    "ExecuteTime": {
     "end_time": "2022-03-21T00:01:43.850058Z",
     "start_time": "2022-03-21T00:01:43.836069Z"
    }
   },
   "outputs": [
    {
     "data": {
      "text/plain": [
       "0                                                                                                                                                                                                                                                                                                                                                                                                      This restaurant was recommended to us by our hotel. The atmosphere was lively and busy and the food was excellent, a good mix of standard tapas and \"fresh today\" dishes. Well priced and worth a visit. \n",
       "1                                                                                                                                                                                                 Had to wait for a table but glad we did. The food was really good, mixture of locals and tourists but nice atmosphere. We has a good selection of tapas including calamari’s, mixed fried fish, iberico ham and beef with foie gras along with tomato bread. Bill for 2 with a beer 4 large glasses of white wine and water plus all the tapas was 58 euros. Good value for great quality food. Give it a try.\n",
       "2       We went here on the last night of a 4 night trip to Barcelona and were very disappointed. We arrived early (so we didn't have to queue!)- sat in the back, annoyed the waiter by asking for water (tiniest bottles ever!) and ordered all of our faves- shrimp in garlic (good), tomato bread (average), tortilla (average), ham (good)....overall, I would definitely not go back. Felt super touristy and food was so very average- almost like cafeteria food! We had much better tapas at other places on our trip. Very disappointed for our last meal there. Don't get what all the hype is about!\n",
       "3                                                                                                                                                                                                                                                                                                                                                                 Our hotel recommended this restaurant. It was fabulous! Great tapas at a very reasonable price. We were here twice and had different items each time. All were excellent! Nice atmosphere too. There’s usually a que, but well worth the wait!\n",
       "4                                                                                                                                                                                                                                                                                                                                                                                                                                          Fantastic meal at Cervecería Catalana. Food was excellent, service good and really cool atmosphere. Great selection of tapas and reasonably priced. Highly recommend.\n",
       "                                                                                                                                                                                                                                                                                                          ...                                                                                                                                                                                                                                                                                                   \n",
       "5435                                                                                                                                                                                                                                                                                                                                                   Next to the shops, but very different from the turist traps you find everywhere. Service is good and fast, the place is cosy and food - yummy! The best dish (tapas) was the one that had fish and cheese in a pepper. So good I need to get there again!\n",
       "5436                                                                                                                                                                                                                                                                                                                                                                                                                                                                                                                                                                     Good tapas and always busy. Local place\n",
       "5437                                                                                                                                                                                                                                                                                                                                                                                                                                                                                                                                                           everytime that I´m visiting Barcelona, got to go!\n",
       "5438                                                                                                                                                                                                                                                                                                                                                                                                                                                                                                 Very well known for the business men-women. It's always plenty of 25-30 years old people after day-working!\n",
       "5439                                                                                                                                                                                                                                                                                                                                                                                                                                                                                                                                                                               one of my favourite tapas bar\n",
       "Name: reviews, Length: 5440, dtype: object"
      ]
     },
     "execution_count": 18,
     "metadata": {},
     "output_type": "execute_result"
    }
   ],
   "source": [
    "reviews['reviews']"
   ]
  },
  {
   "cell_type": "code",
   "execution_count": 19,
   "id": "7569e0b0",
   "metadata": {
    "ExecuteTime": {
     "end_time": "2022-03-21T00:01:43.866010Z",
     "start_time": "2022-03-21T00:01:43.852047Z"
    }
   },
   "outputs": [
    {
     "data": {
      "text/html": [
       "<div>\n",
       "<style scoped>\n",
       "    .dataframe tbody tr th:only-of-type {\n",
       "        vertical-align: middle;\n",
       "    }\n",
       "\n",
       "    .dataframe tbody tr th {\n",
       "        vertical-align: top;\n",
       "    }\n",
       "\n",
       "    .dataframe thead th {\n",
       "        text-align: right;\n",
       "    }\n",
       "</style>\n",
       "<table border=\"1\" class=\"dataframe\">\n",
       "  <thead>\n",
       "    <tr style=\"text-align: right;\">\n",
       "      <th></th>\n",
       "      <th>date</th>\n",
       "      <th>rating_review</th>\n",
       "      <th>reviews</th>\n",
       "    </tr>\n",
       "  </thead>\n",
       "  <tbody>\n",
       "    <tr>\n",
       "      <th>0</th>\n",
       "      <td>Opinión escrita hace una semana</td>\n",
       "      <td>50</td>\n",
       "      <td>This restaurant was recommended to us by our hotel. The atmosphere was lively and busy and the food was excellent, a good mix of standard tapas and \"fresh today\" dishes. Well priced and worth a visit.</td>\n",
       "    </tr>\n",
       "    <tr>\n",
       "      <th>1</th>\n",
       "      <td>Opinión escrita hace 2 semanas</td>\n",
       "      <td>40</td>\n",
       "      <td>Had to wait for a table but glad we did. The food was really good, mixture of locals and tourists but nice atmosphere. We has a good selection of tapas including calamari’s, mixed fried fish, iberico ham and beef with foie gras along with tomato bread. Bill for 2 with a beer 4 large glasses of white wine and water plus all the tapas was 58 euros. Good value for great quality food. Give it a try.</td>\n",
       "    </tr>\n",
       "    <tr>\n",
       "      <th>2</th>\n",
       "      <td>Opinión escrita hace 3 semanas</td>\n",
       "      <td>20</td>\n",
       "      <td>We went here on the last night of a 4 night trip to Barcelona and were very disappointed. We arrived early (so we didn't have to queue!)- sat in the back, annoyed the waiter by asking for water (tiniest bottles ever!) and ordered all of our faves- shrimp in garlic (good), tomato bread (average), tortilla (average), ham (good)....overall, I would definitely not go back. Felt super touristy and food was so very average- almost like cafeteria food! We had much better tapas at other places on our trip. Very disappointed for our last meal there. Don't get what all the hype is about!</td>\n",
       "    </tr>\n",
       "    <tr>\n",
       "      <th>3</th>\n",
       "      <td>Opinión escrita hace 4 semanas</td>\n",
       "      <td>50</td>\n",
       "      <td>Our hotel recommended this restaurant. It was fabulous! Great tapas at a very reasonable price. We were here twice and had different items each time. All were excellent! Nice atmosphere too. There’s usually a que, but well worth the wait!</td>\n",
       "    </tr>\n",
       "    <tr>\n",
       "      <th>4</th>\n",
       "      <td>Opinión escrita hace 4 semanas</td>\n",
       "      <td>50</td>\n",
       "      <td>Fantastic meal at Cervecería Catalana. Food was excellent, service good and really cool atmosphere. Great selection of tapas and reasonably priced. Highly recommend.</td>\n",
       "    </tr>\n",
       "    <tr>\n",
       "      <th>...</th>\n",
       "      <td>...</td>\n",
       "      <td>...</td>\n",
       "      <td>...</td>\n",
       "    </tr>\n",
       "    <tr>\n",
       "      <th>5435</th>\n",
       "      <td>Opinión escrita 6 de enero de 2008</td>\n",
       "      <td>40</td>\n",
       "      <td>Next to the shops, but very different from the turist traps you find everywhere. Service is good and fast, the place is cosy and food - yummy! The best dish (tapas) was the one that had fish and cheese in a pepper. So good I need to get there again!</td>\n",
       "    </tr>\n",
       "    <tr>\n",
       "      <th>5436</th>\n",
       "      <td>Opinión escrita 28 de diciembre de 2007</td>\n",
       "      <td>30</td>\n",
       "      <td>Good tapas and always busy. Local place</td>\n",
       "    </tr>\n",
       "    <tr>\n",
       "      <th>5437</th>\n",
       "      <td>Opinión escrita 24 de diciembre de 2007</td>\n",
       "      <td>50</td>\n",
       "      <td>everytime that I´m visiting Barcelona, got to go!</td>\n",
       "    </tr>\n",
       "    <tr>\n",
       "      <th>5438</th>\n",
       "      <td>Opinión escrita 21 de diciembre de 2007</td>\n",
       "      <td>40</td>\n",
       "      <td>Very well known for the business men-women. It's always plenty of 25-30 years old people after day-working!</td>\n",
       "    </tr>\n",
       "    <tr>\n",
       "      <th>5439</th>\n",
       "      <td>Opinión escrita 12 de diciembre de 2007</td>\n",
       "      <td>50</td>\n",
       "      <td>one of my favourite tapas bar</td>\n",
       "    </tr>\n",
       "  </tbody>\n",
       "</table>\n",
       "<p>5440 rows × 3 columns</p>\n",
       "</div>"
      ],
      "text/plain": [
       "                                          date rating_review  \\\n",
       "0             Opinión escrita hace una semana             50   \n",
       "1              Opinión escrita hace 2 semanas             40   \n",
       "2              Opinión escrita hace 3 semanas             20   \n",
       "3              Opinión escrita hace 4 semanas             50   \n",
       "4              Opinión escrita hace 4 semanas             50   \n",
       "...                                        ...           ...   \n",
       "5435       Opinión escrita 6 de enero de 2008             40   \n",
       "5436  Opinión escrita 28 de diciembre de 2007             30   \n",
       "5437  Opinión escrita 24 de diciembre de 2007             50   \n",
       "5438  Opinión escrita 21 de diciembre de 2007             40   \n",
       "5439  Opinión escrita 12 de diciembre de 2007             50   \n",
       "\n",
       "                                                                                                                                                                                                                                                                                                                                                                                                                                                                                                                                                                                                       reviews  \n",
       "0                                                                                                                                                                                                                                                                                                                                                                                                    This restaurant was recommended to us by our hotel. The atmosphere was lively and busy and the food was excellent, a good mix of standard tapas and \"fresh today\" dishes. Well priced and worth a visit.   \n",
       "1                                                                                                                                                                                               Had to wait for a table but glad we did. The food was really good, mixture of locals and tourists but nice atmosphere. We has a good selection of tapas including calamari’s, mixed fried fish, iberico ham and beef with foie gras along with tomato bread. Bill for 2 with a beer 4 large glasses of white wine and water plus all the tapas was 58 euros. Good value for great quality food. Give it a try.  \n",
       "2     We went here on the last night of a 4 night trip to Barcelona and were very disappointed. We arrived early (so we didn't have to queue!)- sat in the back, annoyed the waiter by asking for water (tiniest bottles ever!) and ordered all of our faves- shrimp in garlic (good), tomato bread (average), tortilla (average), ham (good)....overall, I would definitely not go back. Felt super touristy and food was so very average- almost like cafeteria food! We had much better tapas at other places on our trip. Very disappointed for our last meal there. Don't get what all the hype is about!  \n",
       "3                                                                                                                                                                                                                                                                                                                                                               Our hotel recommended this restaurant. It was fabulous! Great tapas at a very reasonable price. We were here twice and had different items each time. All were excellent! Nice atmosphere too. There’s usually a que, but well worth the wait!  \n",
       "4                                                                                                                                                                                                                                                                                                                                                                                                                                        Fantastic meal at Cervecería Catalana. Food was excellent, service good and really cool atmosphere. Great selection of tapas and reasonably priced. Highly recommend.  \n",
       "...                                                                                                                                                                                                                                                                                                                                                                                                                                                                                                                                                                                                        ...  \n",
       "5435                                                                                                                                                                                                                                                                                                                                                 Next to the shops, but very different from the turist traps you find everywhere. Service is good and fast, the place is cosy and food - yummy! The best dish (tapas) was the one that had fish and cheese in a pepper. So good I need to get there again!  \n",
       "5436                                                                                                                                                                                                                                                                                                                                                                                                                                                                                                                                                                   Good tapas and always busy. Local place  \n",
       "5437                                                                                                                                                                                                                                                                                                                                                                                                                                                                                                                                                         everytime that I´m visiting Barcelona, got to go!  \n",
       "5438                                                                                                                                                                                                                                                                                                                                                                                                                                                                                               Very well known for the business men-women. It's always plenty of 25-30 years old people after day-working!  \n",
       "5439                                                                                                                                                                                                                                                                                                                                                                                                                                                                                                                                                                             one of my favourite tapas bar  \n",
       "\n",
       "[5440 rows x 3 columns]"
      ]
     },
     "execution_count": 19,
     "metadata": {},
     "output_type": "execute_result"
    }
   ],
   "source": [
    "reviews"
   ]
  },
  {
   "cell_type": "code",
   "execution_count": 20,
   "id": "3aac11d8",
   "metadata": {
    "ExecuteTime": {
     "end_time": "2022-03-21T00:01:44.263614Z",
     "start_time": "2022-03-21T00:01:43.868974Z"
    },
    "scrolled": false
   },
   "outputs": [
    {
     "data": {
      "text/html": [
       "<div>\n",
       "<style scoped>\n",
       "    .dataframe tbody tr th:only-of-type {\n",
       "        vertical-align: middle;\n",
       "    }\n",
       "\n",
       "    .dataframe tbody tr th {\n",
       "        vertical-align: top;\n",
       "    }\n",
       "\n",
       "    .dataframe thead th {\n",
       "        text-align: right;\n",
       "    }\n",
       "</style>\n",
       "<table border=\"1\" class=\"dataframe\">\n",
       "  <thead>\n",
       "    <tr style=\"text-align: right;\">\n",
       "      <th></th>\n",
       "      <th>date</th>\n",
       "      <th>rating_review</th>\n",
       "      <th>reviews</th>\n",
       "    </tr>\n",
       "  </thead>\n",
       "  <tbody>\n",
       "    <tr>\n",
       "      <th>0</th>\n",
       "      <td>7 day</td>\n",
       "      <td>50</td>\n",
       "      <td>This restaurant was recommended to us by our hotel. The atmosphere was lively and busy and the food was excellent, a good mix of standard tapas and \"fresh today\" dishes. Well priced and worth a visit.</td>\n",
       "    </tr>\n",
       "    <tr>\n",
       "      <th>1</th>\n",
       "      <td>2 week</td>\n",
       "      <td>40</td>\n",
       "      <td>Had to wait for a table but glad we did. The food was really good, mixture of locals and tourists but nice atmosphere. We has a good selection of tapas including calamari’s, mixed fried fish, iberico ham and beef with foie gras along with tomato bread. Bill for 2 with a beer 4 large glasses of white wine and water plus all the tapas was 58 euros. Good value for great quality food. Give it a try.</td>\n",
       "    </tr>\n",
       "    <tr>\n",
       "      <th>2</th>\n",
       "      <td>3 week</td>\n",
       "      <td>20</td>\n",
       "      <td>We went here on the last night of a 4 night trip to Barcelona and were very disappointed. We arrived early (so we didn't have to queue!)- sat in the back, annoyed the waiter by asking for water (tiniest bottles ever!) and ordered all of our faves- shrimp in garlic (good), tomato bread (average), tortilla (average), ham (good)....overall, I would definitely not go back. Felt super touristy and food was so very average- almost like cafeteria food! We had much better tapas at other places on our trip. Very disappointed for our last meal there. Don't get what all the hype is about!</td>\n",
       "    </tr>\n",
       "    <tr>\n",
       "      <th>3</th>\n",
       "      <td>4 week</td>\n",
       "      <td>50</td>\n",
       "      <td>Our hotel recommended this restaurant. It was fabulous! Great tapas at a very reasonable price. We were here twice and had different items each time. All were excellent! Nice atmosphere too. There’s usually a que, but well worth the wait!</td>\n",
       "    </tr>\n",
       "    <tr>\n",
       "      <th>4</th>\n",
       "      <td>4 week</td>\n",
       "      <td>50</td>\n",
       "      <td>Fantastic meal at Cervecería Catalana. Food was excellent, service good and really cool atmosphere. Great selection of tapas and reasonably priced. Highly recommend.</td>\n",
       "    </tr>\n",
       "    <tr>\n",
       "      <th>...</th>\n",
       "      <td>...</td>\n",
       "      <td>...</td>\n",
       "      <td>...</td>\n",
       "    </tr>\n",
       "    <tr>\n",
       "      <th>5435</th>\n",
       "      <td>6-01-2008</td>\n",
       "      <td>40</td>\n",
       "      <td>Next to the shops, but very different from the turist traps you find everywhere. Service is good and fast, the place is cosy and food - yummy! The best dish (tapas) was the one that had fish and cheese in a pepper. So good I need to get there again!</td>\n",
       "    </tr>\n",
       "    <tr>\n",
       "      <th>5436</th>\n",
       "      <td>28-12-2007</td>\n",
       "      <td>30</td>\n",
       "      <td>Good tapas and always busy. Local place</td>\n",
       "    </tr>\n",
       "    <tr>\n",
       "      <th>5437</th>\n",
       "      <td>24-12-2007</td>\n",
       "      <td>50</td>\n",
       "      <td>everytime that I´m visiting Barcelona, got to go!</td>\n",
       "    </tr>\n",
       "    <tr>\n",
       "      <th>5438</th>\n",
       "      <td>21-12-2007</td>\n",
       "      <td>40</td>\n",
       "      <td>Very well known for the business men-women. It's always plenty of 25-30 years old people after day-working!</td>\n",
       "    </tr>\n",
       "    <tr>\n",
       "      <th>5439</th>\n",
       "      <td>12-12-2007</td>\n",
       "      <td>50</td>\n",
       "      <td>one of my favourite tapas bar</td>\n",
       "    </tr>\n",
       "  </tbody>\n",
       "</table>\n",
       "<p>5440 rows × 3 columns</p>\n",
       "</div>"
      ],
      "text/plain": [
       "             date rating_review  \\\n",
       "0          7 day             50   \n",
       "1         2 week             40   \n",
       "2         3 week             20   \n",
       "3         4 week             50   \n",
       "4         4 week             50   \n",
       "...           ...           ...   \n",
       "5435   6-01-2008             40   \n",
       "5436  28-12-2007             30   \n",
       "5437  24-12-2007             50   \n",
       "5438  21-12-2007             40   \n",
       "5439  12-12-2007             50   \n",
       "\n",
       "                                                                                                                                                                                                                                                                                                                                                                                                                                                                                                                                                                                                       reviews  \n",
       "0                                                                                                                                                                                                                                                                                                                                                                                                    This restaurant was recommended to us by our hotel. The atmosphere was lively and busy and the food was excellent, a good mix of standard tapas and \"fresh today\" dishes. Well priced and worth a visit.   \n",
       "1                                                                                                                                                                                               Had to wait for a table but glad we did. The food was really good, mixture of locals and tourists but nice atmosphere. We has a good selection of tapas including calamari’s, mixed fried fish, iberico ham and beef with foie gras along with tomato bread. Bill for 2 with a beer 4 large glasses of white wine and water plus all the tapas was 58 euros. Good value for great quality food. Give it a try.  \n",
       "2     We went here on the last night of a 4 night trip to Barcelona and were very disappointed. We arrived early (so we didn't have to queue!)- sat in the back, annoyed the waiter by asking for water (tiniest bottles ever!) and ordered all of our faves- shrimp in garlic (good), tomato bread (average), tortilla (average), ham (good)....overall, I would definitely not go back. Felt super touristy and food was so very average- almost like cafeteria food! We had much better tapas at other places on our trip. Very disappointed for our last meal there. Don't get what all the hype is about!  \n",
       "3                                                                                                                                                                                                                                                                                                                                                               Our hotel recommended this restaurant. It was fabulous! Great tapas at a very reasonable price. We were here twice and had different items each time. All were excellent! Nice atmosphere too. There’s usually a que, but well worth the wait!  \n",
       "4                                                                                                                                                                                                                                                                                                                                                                                                                                        Fantastic meal at Cervecería Catalana. Food was excellent, service good and really cool atmosphere. Great selection of tapas and reasonably priced. Highly recommend.  \n",
       "...                                                                                                                                                                                                                                                                                                                                                                                                                                                                                                                                                                                                        ...  \n",
       "5435                                                                                                                                                                                                                                                                                                                                                 Next to the shops, but very different from the turist traps you find everywhere. Service is good and fast, the place is cosy and food - yummy! The best dish (tapas) was the one that had fish and cheese in a pepper. So good I need to get there again!  \n",
       "5436                                                                                                                                                                                                                                                                                                                                                                                                                                                                                                                                                                   Good tapas and always busy. Local place  \n",
       "5437                                                                                                                                                                                                                                                                                                                                                                                                                                                                                                                                                         everytime that I´m visiting Barcelona, got to go!  \n",
       "5438                                                                                                                                                                                                                                                                                                                                                                                                                                                                                               Very well known for the business men-women. It's always plenty of 25-30 years old people after day-working!  \n",
       "5439                                                                                                                                                                                                                                                                                                                                                                                                                                                                                                                                                                             one of my favourite tapas bar  \n",
       "\n",
       "[5440 rows x 3 columns]"
      ]
     },
     "execution_count": 20,
     "metadata": {},
     "output_type": "execute_result"
    }
   ],
   "source": [
    "# Applying replace to transform the string dates in datetime\n",
    "\n",
    "reviews = reviews.replace(r'Opinión escrita ', '', regex = True)\n",
    "reviews = reviews.replace(r'hace ', '', regex = True)\n",
    "reviews = reviews.replace(r' de enero de ', '-01-', regex = True)\n",
    "reviews = reviews.replace(r' de febrero de ', '-02-', regex = True)\n",
    "reviews = reviews.replace(r' de marzo de ', '-03-', regex = True)\n",
    "reviews = reviews.replace(r' de abril de ', '-04-', regex = True)\n",
    "reviews = reviews.replace(r' de mayo de ', '-05-', regex = True)\n",
    "reviews = reviews.replace(r' de junio de ', '-06-', regex = True)\n",
    "reviews = reviews.replace(r' de julio de ', '-07-', regex = True)\n",
    "reviews = reviews.replace(r' de agosto de ', '-08-', regex = True)\n",
    "reviews = reviews.replace(r' de septiembre de ', '-09-', regex = True)\n",
    "reviews = reviews.replace(r' de octubre de ', '-10-', regex = True)\n",
    "reviews = reviews.replace(r' de noviembre de ', '-11-', regex = True)\n",
    "reviews = reviews.replace(r' de diciembre de ', '-12-', regex = True)\n",
    "reviews = reviews.replace(r'un día', '1 day', regex = True)\n",
    "reviews = reviews.replace(r'días', 'day', regex = True)\n",
    "reviews = reviews.replace(r'una semana', '7 day', regex = True)\n",
    "reviews = reviews.replace(r'semanas', 'week', regex = True)\n",
    "reviews"
   ]
  },
  {
   "cell_type": "code",
   "execution_count": 21,
   "id": "25f8246d",
   "metadata": {
    "ExecuteTime": {
     "end_time": "2022-03-21T00:01:44.295585Z",
     "start_time": "2022-03-21T00:01:44.265610Z"
    }
   },
   "outputs": [
    {
     "data": {
      "text/html": [
       "<div>\n",
       "<style scoped>\n",
       "    .dataframe tbody tr th:only-of-type {\n",
       "        vertical-align: middle;\n",
       "    }\n",
       "\n",
       "    .dataframe tbody tr th {\n",
       "        vertical-align: top;\n",
       "    }\n",
       "\n",
       "    .dataframe thead th {\n",
       "        text-align: right;\n",
       "    }\n",
       "</style>\n",
       "<table border=\"1\" class=\"dataframe\">\n",
       "  <thead>\n",
       "    <tr style=\"text-align: right;\">\n",
       "      <th></th>\n",
       "      <th>date</th>\n",
       "      <th>rating_review</th>\n",
       "      <th>reviews</th>\n",
       "    </tr>\n",
       "  </thead>\n",
       "  <tbody>\n",
       "    <tr>\n",
       "      <th>0</th>\n",
       "      <td>7 day</td>\n",
       "      <td>50</td>\n",
       "      <td>This restaurant was recommended to us by our hotel. The atmosphere was lively and busy and the food was excellent, a good mix of standard tapas and \"fresh today\" dishes. Well priced and worth a visit.</td>\n",
       "    </tr>\n",
       "  </tbody>\n",
       "</table>\n",
       "</div>"
      ],
      "text/plain": [
       "     date rating_review  \\\n",
       "0  7 day             50   \n",
       "\n",
       "                                                                                                                                                                                                     reviews  \n",
       "0  This restaurant was recommended to us by our hotel. The atmosphere was lively and busy and the food was excellent, a good mix of standard tapas and \"fresh today\" dishes. Well priced and worth a visit.   "
      ]
     },
     "execution_count": 21,
     "metadata": {},
     "output_type": "execute_result"
    }
   ],
   "source": [
    "day=reviews[reviews['date'].str.contains(r'day')]\n",
    "day"
   ]
  },
  {
   "cell_type": "code",
   "execution_count": 22,
   "id": "2e72255a",
   "metadata": {
    "ExecuteTime": {
     "end_time": "2022-03-21T00:01:44.326514Z",
     "start_time": "2022-03-21T00:01:44.298575Z"
    }
   },
   "outputs": [
    {
     "data": {
      "text/html": [
       "<div>\n",
       "<style scoped>\n",
       "    .dataframe tbody tr th:only-of-type {\n",
       "        vertical-align: middle;\n",
       "    }\n",
       "\n",
       "    .dataframe tbody tr th {\n",
       "        vertical-align: top;\n",
       "    }\n",
       "\n",
       "    .dataframe thead th {\n",
       "        text-align: right;\n",
       "    }\n",
       "</style>\n",
       "<table border=\"1\" class=\"dataframe\">\n",
       "  <thead>\n",
       "    <tr style=\"text-align: right;\">\n",
       "      <th></th>\n",
       "      <th>date</th>\n",
       "      <th>rating_review</th>\n",
       "      <th>reviews</th>\n",
       "    </tr>\n",
       "  </thead>\n",
       "  <tbody>\n",
       "    <tr>\n",
       "      <th>1</th>\n",
       "      <td>2 week</td>\n",
       "      <td>40</td>\n",
       "      <td>Had to wait for a table but glad we did. The food was really good, mixture of locals and tourists but nice atmosphere. We has a good selection of tapas including calamari’s, mixed fried fish, iberico ham and beef with foie gras along with tomato bread. Bill for 2 with a beer 4 large glasses of white wine and water plus all the tapas was 58 euros. Good value for great quality food. Give it a try.</td>\n",
       "    </tr>\n",
       "    <tr>\n",
       "      <th>2</th>\n",
       "      <td>3 week</td>\n",
       "      <td>20</td>\n",
       "      <td>We went here on the last night of a 4 night trip to Barcelona and were very disappointed. We arrived early (so we didn't have to queue!)- sat in the back, annoyed the waiter by asking for water (tiniest bottles ever!) and ordered all of our faves- shrimp in garlic (good), tomato bread (average), tortilla (average), ham (good)....overall, I would definitely not go back. Felt super touristy and food was so very average- almost like cafeteria food! We had much better tapas at other places on our trip. Very disappointed for our last meal there. Don't get what all the hype is about!</td>\n",
       "    </tr>\n",
       "    <tr>\n",
       "      <th>3</th>\n",
       "      <td>4 week</td>\n",
       "      <td>50</td>\n",
       "      <td>Our hotel recommended this restaurant. It was fabulous! Great tapas at a very reasonable price. We were here twice and had different items each time. All were excellent! Nice atmosphere too. There’s usually a que, but well worth the wait!</td>\n",
       "    </tr>\n",
       "    <tr>\n",
       "      <th>4</th>\n",
       "      <td>4 week</td>\n",
       "      <td>50</td>\n",
       "      <td>Fantastic meal at Cervecería Catalana. Food was excellent, service good and really cool atmosphere. Great selection of tapas and reasonably priced. Highly recommend.</td>\n",
       "    </tr>\n",
       "  </tbody>\n",
       "</table>\n",
       "</div>"
      ],
      "text/plain": [
       "      date rating_review  \\\n",
       "1  2 week             40   \n",
       "2  3 week             20   \n",
       "3  4 week             50   \n",
       "4  4 week             50   \n",
       "\n",
       "                                                                                                                                                                                                                                                                                                                                                                                                                                                                                                                                                                                                    reviews  \n",
       "1                                                                                                                                                                                            Had to wait for a table but glad we did. The food was really good, mixture of locals and tourists but nice atmosphere. We has a good selection of tapas including calamari’s, mixed fried fish, iberico ham and beef with foie gras along with tomato bread. Bill for 2 with a beer 4 large glasses of white wine and water plus all the tapas was 58 euros. Good value for great quality food. Give it a try.  \n",
       "2  We went here on the last night of a 4 night trip to Barcelona and were very disappointed. We arrived early (so we didn't have to queue!)- sat in the back, annoyed the waiter by asking for water (tiniest bottles ever!) and ordered all of our faves- shrimp in garlic (good), tomato bread (average), tortilla (average), ham (good)....overall, I would definitely not go back. Felt super touristy and food was so very average- almost like cafeteria food! We had much better tapas at other places on our trip. Very disappointed for our last meal there. Don't get what all the hype is about!  \n",
       "3                                                                                                                                                                                                                                                                                                                                                            Our hotel recommended this restaurant. It was fabulous! Great tapas at a very reasonable price. We were here twice and had different items each time. All were excellent! Nice atmosphere too. There’s usually a que, but well worth the wait!  \n",
       "4                                                                                                                                                                                                                                                                                                                                                                                                                                     Fantastic meal at Cervecería Catalana. Food was excellent, service good and really cool atmosphere. Great selection of tapas and reasonably priced. Highly recommend.  "
      ]
     },
     "execution_count": 22,
     "metadata": {},
     "output_type": "execute_result"
    }
   ],
   "source": [
    "week=reviews[reviews['date'].str.contains(r'week')]\n",
    "week"
   ]
  },
  {
   "cell_type": "code",
   "execution_count": 23,
   "id": "8d5aa7e3",
   "metadata": {
    "ExecuteTime": {
     "end_time": "2022-03-21T00:01:44.705468Z",
     "start_time": "2022-03-21T00:01:44.329476Z"
    }
   },
   "outputs": [
    {
     "data": {
      "text/html": [
       "<div>\n",
       "<style scoped>\n",
       "    .dataframe tbody tr th:only-of-type {\n",
       "        vertical-align: middle;\n",
       "    }\n",
       "\n",
       "    .dataframe tbody tr th {\n",
       "        vertical-align: top;\n",
       "    }\n",
       "\n",
       "    .dataframe thead th {\n",
       "        text-align: right;\n",
       "    }\n",
       "</style>\n",
       "<table border=\"1\" class=\"dataframe\">\n",
       "  <thead>\n",
       "    <tr style=\"text-align: right;\">\n",
       "      <th></th>\n",
       "      <th>date</th>\n",
       "      <th>rating_review</th>\n",
       "      <th>reviews</th>\n",
       "    </tr>\n",
       "  </thead>\n",
       "  <tbody>\n",
       "    <tr>\n",
       "      <th>0</th>\n",
       "      <td>7</td>\n",
       "      <td>50</td>\n",
       "      <td>This restaurant was recommended to us by our hotel. The atmosphere was lively and busy and the food was excellent, a good mix of standard tapas and \"fresh today\" dishes. Well priced and worth a visit.</td>\n",
       "    </tr>\n",
       "  </tbody>\n",
       "</table>\n",
       "</div>"
      ],
      "text/plain": [
       "  date rating_review  \\\n",
       "0   7             50   \n",
       "\n",
       "                                                                                                                                                                                                     reviews  \n",
       "0  This restaurant was recommended to us by our hotel. The atmosphere was lively and busy and the food was excellent, a good mix of standard tapas and \"fresh today\" dishes. Well priced and worth a visit.   "
      ]
     },
     "execution_count": 23,
     "metadata": {},
     "output_type": "execute_result"
    }
   ],
   "source": [
    "day['date'] = day['date'].replace(r' day', '', regex = True)\n",
    "day"
   ]
  },
  {
   "cell_type": "code",
   "execution_count": 24,
   "id": "2f6fbbca",
   "metadata": {
    "ExecuteTime": {
     "end_time": "2022-03-21T00:01:44.751347Z",
     "start_time": "2022-03-21T00:01:44.706466Z"
    }
   },
   "outputs": [
    {
     "data": {
      "text/html": [
       "<div>\n",
       "<style scoped>\n",
       "    .dataframe tbody tr th:only-of-type {\n",
       "        vertical-align: middle;\n",
       "    }\n",
       "\n",
       "    .dataframe tbody tr th {\n",
       "        vertical-align: top;\n",
       "    }\n",
       "\n",
       "    .dataframe thead th {\n",
       "        text-align: right;\n",
       "    }\n",
       "</style>\n",
       "<table border=\"1\" class=\"dataframe\">\n",
       "  <thead>\n",
       "    <tr style=\"text-align: right;\">\n",
       "      <th></th>\n",
       "      <th>date</th>\n",
       "      <th>rating_review</th>\n",
       "      <th>reviews</th>\n",
       "    </tr>\n",
       "  </thead>\n",
       "  <tbody>\n",
       "    <tr>\n",
       "      <th>1</th>\n",
       "      <td>14</td>\n",
       "      <td>40</td>\n",
       "      <td>Had to wait for a table but glad we did. The food was really good, mixture of locals and tourists but nice atmosphere. We has a good selection of tapas including calamari’s, mixed fried fish, iberico ham and beef with foie gras along with tomato bread. Bill for 2 with a beer 4 large glasses of white wine and water plus all the tapas was 58 euros. Good value for great quality food. Give it a try.</td>\n",
       "    </tr>\n",
       "    <tr>\n",
       "      <th>2</th>\n",
       "      <td>21</td>\n",
       "      <td>20</td>\n",
       "      <td>We went here on the last night of a 4 night trip to Barcelona and were very disappointed. We arrived early (so we didn't have to queue!)- sat in the back, annoyed the waiter by asking for water (tiniest bottles ever!) and ordered all of our faves- shrimp in garlic (good), tomato bread (average), tortilla (average), ham (good)....overall, I would definitely not go back. Felt super touristy and food was so very average- almost like cafeteria food! We had much better tapas at other places on our trip. Very disappointed for our last meal there. Don't get what all the hype is about!</td>\n",
       "    </tr>\n",
       "    <tr>\n",
       "      <th>3</th>\n",
       "      <td>28</td>\n",
       "      <td>50</td>\n",
       "      <td>Our hotel recommended this restaurant. It was fabulous! Great tapas at a very reasonable price. We were here twice and had different items each time. All were excellent! Nice atmosphere too. There’s usually a que, but well worth the wait!</td>\n",
       "    </tr>\n",
       "    <tr>\n",
       "      <th>4</th>\n",
       "      <td>28</td>\n",
       "      <td>50</td>\n",
       "      <td>Fantastic meal at Cervecería Catalana. Food was excellent, service good and really cool atmosphere. Great selection of tapas and reasonably priced. Highly recommend.</td>\n",
       "    </tr>\n",
       "  </tbody>\n",
       "</table>\n",
       "</div>"
      ],
      "text/plain": [
       "   date rating_review  \\\n",
       "1    14            40   \n",
       "2    21            20   \n",
       "3    28            50   \n",
       "4    28            50   \n",
       "\n",
       "                                                                                                                                                                                                                                                                                                                                                                                                                                                                                                                                                                                                    reviews  \n",
       "1                                                                                                                                                                                            Had to wait for a table but glad we did. The food was really good, mixture of locals and tourists but nice atmosphere. We has a good selection of tapas including calamari’s, mixed fried fish, iberico ham and beef with foie gras along with tomato bread. Bill for 2 with a beer 4 large glasses of white wine and water plus all the tapas was 58 euros. Good value for great quality food. Give it a try.  \n",
       "2  We went here on the last night of a 4 night trip to Barcelona and were very disappointed. We arrived early (so we didn't have to queue!)- sat in the back, annoyed the waiter by asking for water (tiniest bottles ever!) and ordered all of our faves- shrimp in garlic (good), tomato bread (average), tortilla (average), ham (good)....overall, I would definitely not go back. Felt super touristy and food was so very average- almost like cafeteria food! We had much better tapas at other places on our trip. Very disappointed for our last meal there. Don't get what all the hype is about!  \n",
       "3                                                                                                                                                                                                                                                                                                                                                            Our hotel recommended this restaurant. It was fabulous! Great tapas at a very reasonable price. We were here twice and had different items each time. All were excellent! Nice atmosphere too. There’s usually a que, but well worth the wait!  \n",
       "4                                                                                                                                                                                                                                                                                                                                                                                                                                     Fantastic meal at Cervecería Catalana. Food was excellent, service good and really cool atmosphere. Great selection of tapas and reasonably priced. Highly recommend.  "
      ]
     },
     "execution_count": 24,
     "metadata": {},
     "output_type": "execute_result"
    }
   ],
   "source": [
    "week['date']=week['date'].replace(r' week','',regex = True)\n",
    "week['date']=week['date'].astype(int)\n",
    "week['date']=week['date']*7\n",
    "week"
   ]
  },
  {
   "cell_type": "code",
   "execution_count": 25,
   "id": "dbfe280c",
   "metadata": {
    "ExecuteTime": {
     "end_time": "2022-03-21T00:01:44.767302Z",
     "start_time": "2022-03-21T00:01:44.753339Z"
    },
    "scrolled": true
   },
   "outputs": [
    {
     "data": {
      "text/html": [
       "<div>\n",
       "<style scoped>\n",
       "    .dataframe tbody tr th:only-of-type {\n",
       "        vertical-align: middle;\n",
       "    }\n",
       "\n",
       "    .dataframe tbody tr th {\n",
       "        vertical-align: top;\n",
       "    }\n",
       "\n",
       "    .dataframe thead th {\n",
       "        text-align: right;\n",
       "    }\n",
       "</style>\n",
       "<table border=\"1\" class=\"dataframe\">\n",
       "  <thead>\n",
       "    <tr style=\"text-align: right;\">\n",
       "      <th></th>\n",
       "      <th>date</th>\n",
       "      <th>rating_review</th>\n",
       "      <th>reviews</th>\n",
       "    </tr>\n",
       "  </thead>\n",
       "  <tbody>\n",
       "    <tr>\n",
       "      <th>0</th>\n",
       "      <td>7</td>\n",
       "      <td>50</td>\n",
       "      <td>This restaurant was recommended to us by our hotel. The atmosphere was lively and busy and the food was excellent, a good mix of standard tapas and \"fresh today\" dishes. Well priced and worth a visit.</td>\n",
       "    </tr>\n",
       "    <tr>\n",
       "      <th>1</th>\n",
       "      <td>14</td>\n",
       "      <td>40</td>\n",
       "      <td>Had to wait for a table but glad we did. The food was really good, mixture of locals and tourists but nice atmosphere. We has a good selection of tapas including calamari’s, mixed fried fish, iberico ham and beef with foie gras along with tomato bread. Bill for 2 with a beer 4 large glasses of white wine and water plus all the tapas was 58 euros. Good value for great quality food. Give it a try.</td>\n",
       "    </tr>\n",
       "    <tr>\n",
       "      <th>2</th>\n",
       "      <td>21</td>\n",
       "      <td>20</td>\n",
       "      <td>We went here on the last night of a 4 night trip to Barcelona and were very disappointed. We arrived early (so we didn't have to queue!)- sat in the back, annoyed the waiter by asking for water (tiniest bottles ever!) and ordered all of our faves- shrimp in garlic (good), tomato bread (average), tortilla (average), ham (good)....overall, I would definitely not go back. Felt super touristy and food was so very average- almost like cafeteria food! We had much better tapas at other places on our trip. Very disappointed for our last meal there. Don't get what all the hype is about!</td>\n",
       "    </tr>\n",
       "    <tr>\n",
       "      <th>3</th>\n",
       "      <td>28</td>\n",
       "      <td>50</td>\n",
       "      <td>Our hotel recommended this restaurant. It was fabulous! Great tapas at a very reasonable price. We were here twice and had different items each time. All were excellent! Nice atmosphere too. There’s usually a que, but well worth the wait!</td>\n",
       "    </tr>\n",
       "    <tr>\n",
       "      <th>4</th>\n",
       "      <td>28</td>\n",
       "      <td>50</td>\n",
       "      <td>Fantastic meal at Cervecería Catalana. Food was excellent, service good and really cool atmosphere. Great selection of tapas and reasonably priced. Highly recommend.</td>\n",
       "    </tr>\n",
       "  </tbody>\n",
       "</table>\n",
       "</div>"
      ],
      "text/plain": [
       "  date rating_review  \\\n",
       "0   7             50   \n",
       "1   14            40   \n",
       "2   21            20   \n",
       "3   28            50   \n",
       "4   28            50   \n",
       "\n",
       "                                                                                                                                                                                                                                                                                                                                                                                                                                                                                                                                                                                                    reviews  \n",
       "0                                                                                                                                                                                                                                                                                                                                                                                                 This restaurant was recommended to us by our hotel. The atmosphere was lively and busy and the food was excellent, a good mix of standard tapas and \"fresh today\" dishes. Well priced and worth a visit.   \n",
       "1                                                                                                                                                                                            Had to wait for a table but glad we did. The food was really good, mixture of locals and tourists but nice atmosphere. We has a good selection of tapas including calamari’s, mixed fried fish, iberico ham and beef with foie gras along with tomato bread. Bill for 2 with a beer 4 large glasses of white wine and water plus all the tapas was 58 euros. Good value for great quality food. Give it a try.  \n",
       "2  We went here on the last night of a 4 night trip to Barcelona and were very disappointed. We arrived early (so we didn't have to queue!)- sat in the back, annoyed the waiter by asking for water (tiniest bottles ever!) and ordered all of our faves- shrimp in garlic (good), tomato bread (average), tortilla (average), ham (good)....overall, I would definitely not go back. Felt super touristy and food was so very average- almost like cafeteria food! We had much better tapas at other places on our trip. Very disappointed for our last meal there. Don't get what all the hype is about!  \n",
       "3                                                                                                                                                                                                                                                                                                                                                            Our hotel recommended this restaurant. It was fabulous! Great tapas at a very reasonable price. We were here twice and had different items each time. All were excellent! Nice atmosphere too. There’s usually a que, but well worth the wait!  \n",
       "4                                                                                                                                                                                                                                                                                                                                                                                                                                     Fantastic meal at Cervecería Catalana. Food was excellent, service good and really cool atmosphere. Great selection of tapas and reasonably priced. Highly recommend.  "
      ]
     },
     "execution_count": 25,
     "metadata": {},
     "output_type": "execute_result"
    }
   ],
   "source": [
    "dayweek=pd.concat([day, week], ignore_index=True)\n",
    "dayweek"
   ]
  },
  {
   "cell_type": "code",
   "execution_count": 26,
   "id": "500b36ed",
   "metadata": {
    "ExecuteTime": {
     "end_time": "2022-03-21T00:01:44.783259Z",
     "start_time": "2022-03-21T00:01:44.769297Z"
    }
   },
   "outputs": [
    {
     "data": {
      "text/plain": [
       "dtype('O')"
      ]
     },
     "execution_count": 26,
     "metadata": {},
     "output_type": "execute_result"
    }
   ],
   "source": [
    "dayweek['date'].dtype"
   ]
  },
  {
   "cell_type": "code",
   "execution_count": 27,
   "id": "f4c90c59",
   "metadata": {
    "ExecuteTime": {
     "end_time": "2022-03-21T00:01:44.799218Z",
     "start_time": "2022-03-21T00:01:44.785267Z"
    },
    "scrolled": false
   },
   "outputs": [],
   "source": [
    "dw=dayweek['date'].astype(int)"
   ]
  },
  {
   "cell_type": "code",
   "execution_count": 28,
   "id": "b0fbee3b",
   "metadata": {
    "ExecuteTime": {
     "end_time": "2022-03-21T00:01:44.815175Z",
     "start_time": "2022-03-21T00:01:44.804203Z"
    }
   },
   "outputs": [
    {
     "data": {
      "text/plain": [
       "0     7\n",
       "1    14\n",
       "2    21\n",
       "3    28\n",
       "4    28\n",
       "Name: date, dtype: int32"
      ]
     },
     "execution_count": 28,
     "metadata": {},
     "output_type": "execute_result"
    }
   ],
   "source": [
    "dw"
   ]
  },
  {
   "cell_type": "code",
   "execution_count": 29,
   "id": "65332053",
   "metadata": {
    "ExecuteTime": {
     "end_time": "2022-03-21T00:01:44.831132Z",
     "start_time": "2022-03-21T00:01:44.818166Z"
    }
   },
   "outputs": [
    {
     "data": {
      "text/html": [
       "<div>\n",
       "<style scoped>\n",
       "    .dataframe tbody tr th:only-of-type {\n",
       "        vertical-align: middle;\n",
       "    }\n",
       "\n",
       "    .dataframe tbody tr th {\n",
       "        vertical-align: top;\n",
       "    }\n",
       "\n",
       "    .dataframe thead th {\n",
       "        text-align: right;\n",
       "    }\n",
       "</style>\n",
       "<table border=\"1\" class=\"dataframe\">\n",
       "  <thead>\n",
       "    <tr style=\"text-align: right;\">\n",
       "      <th></th>\n",
       "      <th>date</th>\n",
       "      <th>rating_review</th>\n",
       "      <th>reviews</th>\n",
       "    </tr>\n",
       "  </thead>\n",
       "  <tbody>\n",
       "    <tr>\n",
       "      <th>0</th>\n",
       "      <td>14-03-2022</td>\n",
       "      <td>50</td>\n",
       "      <td>This restaurant was recommended to us by our hotel. The atmosphere was lively and busy and the food was excellent, a good mix of standard tapas and \"fresh today\" dishes. Well priced and worth a visit.</td>\n",
       "    </tr>\n",
       "    <tr>\n",
       "      <th>1</th>\n",
       "      <td>07-03-2022</td>\n",
       "      <td>40</td>\n",
       "      <td>Had to wait for a table but glad we did. The food was really good, mixture of locals and tourists but nice atmosphere. We has a good selection of tapas including calamari’s, mixed fried fish, iberico ham and beef with foie gras along with tomato bread. Bill for 2 with a beer 4 large glasses of white wine and water plus all the tapas was 58 euros. Good value for great quality food. Give it a try.</td>\n",
       "    </tr>\n",
       "    <tr>\n",
       "      <th>2</th>\n",
       "      <td>28-02-2022</td>\n",
       "      <td>20</td>\n",
       "      <td>We went here on the last night of a 4 night trip to Barcelona and were very disappointed. We arrived early (so we didn't have to queue!)- sat in the back, annoyed the waiter by asking for water (tiniest bottles ever!) and ordered all of our faves- shrimp in garlic (good), tomato bread (average), tortilla (average), ham (good)....overall, I would definitely not go back. Felt super touristy and food was so very average- almost like cafeteria food! We had much better tapas at other places on our trip. Very disappointed for our last meal there. Don't get what all the hype is about!</td>\n",
       "    </tr>\n",
       "    <tr>\n",
       "      <th>3</th>\n",
       "      <td>21-02-2022</td>\n",
       "      <td>50</td>\n",
       "      <td>Our hotel recommended this restaurant. It was fabulous! Great tapas at a very reasonable price. We were here twice and had different items each time. All were excellent! Nice atmosphere too. There’s usually a que, but well worth the wait!</td>\n",
       "    </tr>\n",
       "    <tr>\n",
       "      <th>4</th>\n",
       "      <td>21-02-2022</td>\n",
       "      <td>50</td>\n",
       "      <td>Fantastic meal at Cervecería Catalana. Food was excellent, service good and really cool atmosphere. Great selection of tapas and reasonably priced. Highly recommend.</td>\n",
       "    </tr>\n",
       "  </tbody>\n",
       "</table>\n",
       "</div>"
      ],
      "text/plain": [
       "         date rating_review  \\\n",
       "0  14-03-2022            50   \n",
       "1  07-03-2022            40   \n",
       "2  28-02-2022            20   \n",
       "3  21-02-2022            50   \n",
       "4  21-02-2022            50   \n",
       "\n",
       "                                                                                                                                                                                                                                                                                                                                                                                                                                                                                                                                                                                                    reviews  \n",
       "0                                                                                                                                                                                                                                                                                                                                                                                                 This restaurant was recommended to us by our hotel. The atmosphere was lively and busy and the food was excellent, a good mix of standard tapas and \"fresh today\" dishes. Well priced and worth a visit.   \n",
       "1                                                                                                                                                                                            Had to wait for a table but glad we did. The food was really good, mixture of locals and tourists but nice atmosphere. We has a good selection of tapas including calamari’s, mixed fried fish, iberico ham and beef with foie gras along with tomato bread. Bill for 2 with a beer 4 large glasses of white wine and water plus all the tapas was 58 euros. Good value for great quality food. Give it a try.  \n",
       "2  We went here on the last night of a 4 night trip to Barcelona and were very disappointed. We arrived early (so we didn't have to queue!)- sat in the back, annoyed the waiter by asking for water (tiniest bottles ever!) and ordered all of our faves- shrimp in garlic (good), tomato bread (average), tortilla (average), ham (good)....overall, I would definitely not go back. Felt super touristy and food was so very average- almost like cafeteria food! We had much better tapas at other places on our trip. Very disappointed for our last meal there. Don't get what all the hype is about!  \n",
       "3                                                                                                                                                                                                                                                                                                                                                            Our hotel recommended this restaurant. It was fabulous! Great tapas at a very reasonable price. We were here twice and had different items each time. All were excellent! Nice atmosphere too. There’s usually a que, but well worth the wait!  \n",
       "4                                                                                                                                                                                                                                                                                                                                                                                                                                     Fantastic meal at Cervecería Catalana. Food was excellent, service good and really cool atmosphere. Great selection of tapas and reasonably priced. Highly recommend.  "
      ]
     },
     "execution_count": 29,
     "metadata": {},
     "output_type": "execute_result"
    }
   ],
   "source": [
    "#We import the datetime library to get the current time to calculate the date from the string.\n",
    "\n",
    "import datetime\n",
    "\n",
    "today = datetime.date.today()\n",
    "listdw=[]\n",
    "\n",
    "for i in dw:\n",
    "    original_date = today - datetime.timedelta(days=i)\n",
    "    formatted_date = original_date.strftime(\"%d-%m-%Y\")\n",
    "    listdw.append(formatted_date)\n",
    "    \n",
    "dayweek['date'] = listdw\n",
    "dayweek"
   ]
  },
  {
   "cell_type": "code",
   "execution_count": 30,
   "id": "bbbe8c5c",
   "metadata": {
    "ExecuteTime": {
     "end_time": "2022-03-21T00:01:44.863045Z",
     "start_time": "2022-03-21T00:01:44.833126Z"
    }
   },
   "outputs": [
    {
     "data": {
      "text/html": [
       "<div>\n",
       "<style scoped>\n",
       "    .dataframe tbody tr th:only-of-type {\n",
       "        vertical-align: middle;\n",
       "    }\n",
       "\n",
       "    .dataframe tbody tr th {\n",
       "        vertical-align: top;\n",
       "    }\n",
       "\n",
       "    .dataframe thead th {\n",
       "        text-align: right;\n",
       "    }\n",
       "</style>\n",
       "<table border=\"1\" class=\"dataframe\">\n",
       "  <thead>\n",
       "    <tr style=\"text-align: right;\">\n",
       "      <th></th>\n",
       "      <th>date</th>\n",
       "      <th>rating_review</th>\n",
       "      <th>reviews</th>\n",
       "    </tr>\n",
       "  </thead>\n",
       "  <tbody>\n",
       "    <tr>\n",
       "      <th>5</th>\n",
       "      <td>7-02-2022</td>\n",
       "      <td>50</td>\n",
       "      <td>I’d seen the reviews online and had a friend recommendation to try here and I’m glad I did! The garlic prawns with tomato bread were the best! I also had some ham/cheese tapas, a beer and finished with some churos. It was 25 euros so well worth it. Would definitely go back! The inside is more bright and modern than I was expecting but it had a nice atmosphere and great food.</td>\n",
       "    </tr>\n",
       "    <tr>\n",
       "      <th>6</th>\n",
       "      <td>29-01-2022</td>\n",
       "      <td>50</td>\n",
       "      <td>That’s an excellent place. High quality small dishes, with a very wide offer. It is always full, you need to queue. Go with plenty of time. The atmosphere is great, service is fast and prices are reasonable. You can have a taste of the local cuisine with several small dishes. You will not go there only once.</td>\n",
       "    </tr>\n",
       "    <tr>\n",
       "      <th>7</th>\n",
       "      <td>25-01-2022</td>\n",
       "      <td>50</td>\n",
       "      <td>We found this restaurant by chance and we loved it! Very good place with quality food and very good treatment by the waiters. For dessert I ordered the crema catalana and it is the best I've ever tasted, it was only 2.95 euros, amazing!</td>\n",
       "    </tr>\n",
       "    <tr>\n",
       "      <th>8</th>\n",
       "      <td>20-01-2022</td>\n",
       "      <td>50</td>\n",
       "      <td>The Cerveceria Catalana was simply 5 Stars in any category. The Tapas were outstanding. The service was outstanding. And the prices were excellent. We were in Barcelona 2 nights and ate there both nights. We really enjoyed our experience.</td>\n",
       "    </tr>\n",
       "    <tr>\n",
       "      <th>9</th>\n",
       "      <td>29-12-2021</td>\n",
       "      <td>40</td>\n",
       "      <td>Great ' classic' tapas, almost all dished we ordered were amazing. Food comes very quickly, best to not order too much at the same time. Staff is friendly, however can appear a bit rushed as this place seems to have a waiting line outside most of the time. But really a must-try!</td>\n",
       "    </tr>\n",
       "    <tr>\n",
       "      <th>...</th>\n",
       "      <td>...</td>\n",
       "      <td>...</td>\n",
       "      <td>...</td>\n",
       "    </tr>\n",
       "    <tr>\n",
       "      <th>5435</th>\n",
       "      <td>6-01-2008</td>\n",
       "      <td>40</td>\n",
       "      <td>Next to the shops, but very different from the turist traps you find everywhere. Service is good and fast, the place is cosy and food - yummy! The best dish (tapas) was the one that had fish and cheese in a pepper. So good I need to get there again!</td>\n",
       "    </tr>\n",
       "    <tr>\n",
       "      <th>5436</th>\n",
       "      <td>28-12-2007</td>\n",
       "      <td>30</td>\n",
       "      <td>Good tapas and always busy. Local place</td>\n",
       "    </tr>\n",
       "    <tr>\n",
       "      <th>5437</th>\n",
       "      <td>24-12-2007</td>\n",
       "      <td>50</td>\n",
       "      <td>everytime that I´m visiting Barcelona, got to go!</td>\n",
       "    </tr>\n",
       "    <tr>\n",
       "      <th>5438</th>\n",
       "      <td>21-12-2007</td>\n",
       "      <td>40</td>\n",
       "      <td>Very well known for the business men-women. It's always plenty of 25-30 years old people after day-working!</td>\n",
       "    </tr>\n",
       "    <tr>\n",
       "      <th>5439</th>\n",
       "      <td>12-12-2007</td>\n",
       "      <td>50</td>\n",
       "      <td>one of my favourite tapas bar</td>\n",
       "    </tr>\n",
       "  </tbody>\n",
       "</table>\n",
       "<p>5435 rows × 3 columns</p>\n",
       "</div>"
      ],
      "text/plain": [
       "             date rating_review  \\\n",
       "5      7-02-2022             50   \n",
       "6     29-01-2022             50   \n",
       "7     25-01-2022             50   \n",
       "8     20-01-2022             50   \n",
       "9     29-12-2021             40   \n",
       "...           ...           ...   \n",
       "5435   6-01-2008             40   \n",
       "5436  28-12-2007             30   \n",
       "5437  24-12-2007             50   \n",
       "5438  21-12-2007             40   \n",
       "5439  12-12-2007             50   \n",
       "\n",
       "                                                                                                                                                                                                                                                                                                                                                                                        reviews  \n",
       "5     I’d seen the reviews online and had a friend recommendation to try here and I’m glad I did! The garlic prawns with tomato bread were the best! I also had some ham/cheese tapas, a beer and finished with some churos. It was 25 euros so well worth it. Would definitely go back! The inside is more bright and modern than I was expecting but it had a nice atmosphere and great food.  \n",
       "6                                                                         That’s an excellent place. High quality small dishes, with a very wide offer. It is always full, you need to queue. Go with plenty of time. The atmosphere is great, service is fast and prices are reasonable. You can have a taste of the local cuisine with several small dishes. You will not go there only once.  \n",
       "7                                                                                                                                                  We found this restaurant by chance and we loved it! Very good place with quality food and very good treatment by the waiters. For dessert I ordered the crema catalana and it is the best I've ever tasted, it was only 2.95 euros, amazing!  \n",
       "8                                                                                                                                                The Cerveceria Catalana was simply 5 Stars in any category. The Tapas were outstanding. The service was outstanding. And the prices were excellent. We were in Barcelona 2 nights and ate there both nights. We really enjoyed our experience.  \n",
       "9                                                                                                       Great ' classic' tapas, almost all dished we ordered were amazing. Food comes very quickly, best to not order too much at the same time. Staff is friendly, however can appear a bit rushed as this place seems to have a waiting line outside most of the time. But really a must-try!  \n",
       "...                                                                                                                                                                                                                                                                                                                                                                                         ...  \n",
       "5435                                                                                                                                  Next to the shops, but very different from the turist traps you find everywhere. Service is good and fast, the place is cosy and food - yummy! The best dish (tapas) was the one that had fish and cheese in a pepper. So good I need to get there again!  \n",
       "5436                                                                                                                                                                                                                                                                                                                                                    Good tapas and always busy. Local place  \n",
       "5437                                                                                                                                                                                                                                                                                                                                          everytime that I´m visiting Barcelona, got to go!  \n",
       "5438                                                                                                                                                                                                                                                                                Very well known for the business men-women. It's always plenty of 25-30 years old people after day-working!  \n",
       "5439                                                                                                                                                                                                                                                                                                                                                              one of my favourite tapas bar  \n",
       "\n",
       "[5435 rows x 3 columns]"
      ]
     },
     "execution_count": 30,
     "metadata": {},
     "output_type": "execute_result"
    }
   ],
   "source": [
    "rest_dayweek=reviews[~reviews['date'].str.contains(r'day|week')]\n",
    "rest_dayweek"
   ]
  },
  {
   "cell_type": "code",
   "execution_count": 31,
   "id": "da94d7be",
   "metadata": {
    "ExecuteTime": {
     "end_time": "2022-03-21T00:01:44.879003Z",
     "start_time": "2022-03-21T00:01:44.865040Z"
    }
   },
   "outputs": [
    {
     "data": {
      "text/plain": [
       "dtype('O')"
      ]
     },
     "execution_count": 31,
     "metadata": {},
     "output_type": "execute_result"
    }
   ],
   "source": [
    "rest_dayweek['date'].dtypes"
   ]
  },
  {
   "cell_type": "code",
   "execution_count": 32,
   "id": "424a8f25",
   "metadata": {
    "ExecuteTime": {
     "end_time": "2022-03-21T00:01:44.894961Z",
     "start_time": "2022-03-21T00:01:44.881005Z"
    }
   },
   "outputs": [
    {
     "data": {
      "text/plain": [
       "dtype('O')"
      ]
     },
     "execution_count": 32,
     "metadata": {},
     "output_type": "execute_result"
    }
   ],
   "source": [
    "dayweek['date'].dtypes"
   ]
  },
  {
   "cell_type": "code",
   "execution_count": 33,
   "id": "fdb0167b",
   "metadata": {
    "ExecuteTime": {
     "end_time": "2022-03-21T00:01:44.926876Z",
     "start_time": "2022-03-21T00:01:44.897953Z"
    }
   },
   "outputs": [
    {
     "data": {
      "text/html": [
       "<div>\n",
       "<style scoped>\n",
       "    .dataframe tbody tr th:only-of-type {\n",
       "        vertical-align: middle;\n",
       "    }\n",
       "\n",
       "    .dataframe tbody tr th {\n",
       "        vertical-align: top;\n",
       "    }\n",
       "\n",
       "    .dataframe thead th {\n",
       "        text-align: right;\n",
       "    }\n",
       "</style>\n",
       "<table border=\"1\" class=\"dataframe\">\n",
       "  <thead>\n",
       "    <tr style=\"text-align: right;\">\n",
       "      <th></th>\n",
       "      <th>date</th>\n",
       "      <th>rating_review</th>\n",
       "      <th>reviews</th>\n",
       "    </tr>\n",
       "  </thead>\n",
       "  <tbody>\n",
       "    <tr>\n",
       "      <th>0</th>\n",
       "      <td>14-03-2022</td>\n",
       "      <td>50</td>\n",
       "      <td>This restaurant was recommended to us by our hotel. The atmosphere was lively and busy and the food was excellent, a good mix of standard tapas and \"fresh today\" dishes. Well priced and worth a visit.</td>\n",
       "    </tr>\n",
       "    <tr>\n",
       "      <th>1</th>\n",
       "      <td>07-03-2022</td>\n",
       "      <td>40</td>\n",
       "      <td>Had to wait for a table but glad we did. The food was really good, mixture of locals and tourists but nice atmosphere. We has a good selection of tapas including calamari’s, mixed fried fish, iberico ham and beef with foie gras along with tomato bread. Bill for 2 with a beer 4 large glasses of white wine and water plus all the tapas was 58 euros. Good value for great quality food. Give it a try.</td>\n",
       "    </tr>\n",
       "    <tr>\n",
       "      <th>2</th>\n",
       "      <td>28-02-2022</td>\n",
       "      <td>20</td>\n",
       "      <td>We went here on the last night of a 4 night trip to Barcelona and were very disappointed. We arrived early (so we didn't have to queue!)- sat in the back, annoyed the waiter by asking for water (tiniest bottles ever!) and ordered all of our faves- shrimp in garlic (good), tomato bread (average), tortilla (average), ham (good)....overall, I would definitely not go back. Felt super touristy and food was so very average- almost like cafeteria food! We had much better tapas at other places on our trip. Very disappointed for our last meal there. Don't get what all the hype is about!</td>\n",
       "    </tr>\n",
       "    <tr>\n",
       "      <th>3</th>\n",
       "      <td>21-02-2022</td>\n",
       "      <td>50</td>\n",
       "      <td>Our hotel recommended this restaurant. It was fabulous! Great tapas at a very reasonable price. We were here twice and had different items each time. All were excellent! Nice atmosphere too. There’s usually a que, but well worth the wait!</td>\n",
       "    </tr>\n",
       "    <tr>\n",
       "      <th>4</th>\n",
       "      <td>21-02-2022</td>\n",
       "      <td>50</td>\n",
       "      <td>Fantastic meal at Cervecería Catalana. Food was excellent, service good and really cool atmosphere. Great selection of tapas and reasonably priced. Highly recommend.</td>\n",
       "    </tr>\n",
       "    <tr>\n",
       "      <th>...</th>\n",
       "      <td>...</td>\n",
       "      <td>...</td>\n",
       "      <td>...</td>\n",
       "    </tr>\n",
       "    <tr>\n",
       "      <th>5435</th>\n",
       "      <td>6-01-2008</td>\n",
       "      <td>40</td>\n",
       "      <td>Next to the shops, but very different from the turist traps you find everywhere. Service is good and fast, the place is cosy and food - yummy! The best dish (tapas) was the one that had fish and cheese in a pepper. So good I need to get there again!</td>\n",
       "    </tr>\n",
       "    <tr>\n",
       "      <th>5436</th>\n",
       "      <td>28-12-2007</td>\n",
       "      <td>30</td>\n",
       "      <td>Good tapas and always busy. Local place</td>\n",
       "    </tr>\n",
       "    <tr>\n",
       "      <th>5437</th>\n",
       "      <td>24-12-2007</td>\n",
       "      <td>50</td>\n",
       "      <td>everytime that I´m visiting Barcelona, got to go!</td>\n",
       "    </tr>\n",
       "    <tr>\n",
       "      <th>5438</th>\n",
       "      <td>21-12-2007</td>\n",
       "      <td>40</td>\n",
       "      <td>Very well known for the business men-women. It's always plenty of 25-30 years old people after day-working!</td>\n",
       "    </tr>\n",
       "    <tr>\n",
       "      <th>5439</th>\n",
       "      <td>12-12-2007</td>\n",
       "      <td>50</td>\n",
       "      <td>one of my favourite tapas bar</td>\n",
       "    </tr>\n",
       "  </tbody>\n",
       "</table>\n",
       "<p>5440 rows × 3 columns</p>\n",
       "</div>"
      ],
      "text/plain": [
       "             date rating_review  \\\n",
       "0      14-03-2022            50   \n",
       "1      07-03-2022            40   \n",
       "2      28-02-2022            20   \n",
       "3      21-02-2022            50   \n",
       "4      21-02-2022            50   \n",
       "...           ...           ...   \n",
       "5435   6-01-2008             40   \n",
       "5436  28-12-2007             30   \n",
       "5437  24-12-2007             50   \n",
       "5438  21-12-2007             40   \n",
       "5439  12-12-2007             50   \n",
       "\n",
       "                                                                                                                                                                                                                                                                                                                                                                                                                                                                                                                                                                                                       reviews  \n",
       "0                                                                                                                                                                                                                                                                                                                                                                                                    This restaurant was recommended to us by our hotel. The atmosphere was lively and busy and the food was excellent, a good mix of standard tapas and \"fresh today\" dishes. Well priced and worth a visit.   \n",
       "1                                                                                                                                                                                               Had to wait for a table but glad we did. The food was really good, mixture of locals and tourists but nice atmosphere. We has a good selection of tapas including calamari’s, mixed fried fish, iberico ham and beef with foie gras along with tomato bread. Bill for 2 with a beer 4 large glasses of white wine and water plus all the tapas was 58 euros. Good value for great quality food. Give it a try.  \n",
       "2     We went here on the last night of a 4 night trip to Barcelona and were very disappointed. We arrived early (so we didn't have to queue!)- sat in the back, annoyed the waiter by asking for water (tiniest bottles ever!) and ordered all of our faves- shrimp in garlic (good), tomato bread (average), tortilla (average), ham (good)....overall, I would definitely not go back. Felt super touristy and food was so very average- almost like cafeteria food! We had much better tapas at other places on our trip. Very disappointed for our last meal there. Don't get what all the hype is about!  \n",
       "3                                                                                                                                                                                                                                                                                                                                                               Our hotel recommended this restaurant. It was fabulous! Great tapas at a very reasonable price. We were here twice and had different items each time. All were excellent! Nice atmosphere too. There’s usually a que, but well worth the wait!  \n",
       "4                                                                                                                                                                                                                                                                                                                                                                                                                                        Fantastic meal at Cervecería Catalana. Food was excellent, service good and really cool atmosphere. Great selection of tapas and reasonably priced. Highly recommend.  \n",
       "...                                                                                                                                                                                                                                                                                                                                                                                                                                                                                                                                                                                                        ...  \n",
       "5435                                                                                                                                                                                                                                                                                                                                                 Next to the shops, but very different from the turist traps you find everywhere. Service is good and fast, the place is cosy and food - yummy! The best dish (tapas) was the one that had fish and cheese in a pepper. So good I need to get there again!  \n",
       "5436                                                                                                                                                                                                                                                                                                                                                                                                                                                                                                                                                                   Good tapas and always busy. Local place  \n",
       "5437                                                                                                                                                                                                                                                                                                                                                                                                                                                                                                                                                         everytime that I´m visiting Barcelona, got to go!  \n",
       "5438                                                                                                                                                                                                                                                                                                                                                                                                                                                                                               Very well known for the business men-women. It's always plenty of 25-30 years old people after day-working!  \n",
       "5439                                                                                                                                                                                                                                                                                                                                                                                                                                                                                                                                                                             one of my favourite tapas bar  \n",
       "\n",
       "[5440 rows x 3 columns]"
      ]
     },
     "execution_count": 33,
     "metadata": {},
     "output_type": "execute_result"
    }
   ],
   "source": [
    "#After some steps dealing with the datetime, we concat the dataframes created to get again a unique dataframe. \n",
    "\n",
    "review_final=pd.concat([dayweek, rest_dayweek], axis=0)\n",
    "review_final"
   ]
  },
  {
   "cell_type": "code",
   "execution_count": 34,
   "id": "f07d9f41",
   "metadata": {
    "ExecuteTime": {
     "end_time": "2022-03-21T00:01:44.957792Z",
     "start_time": "2022-03-21T00:01:44.928877Z"
    }
   },
   "outputs": [
    {
     "data": {
      "text/html": [
       "<div>\n",
       "<style scoped>\n",
       "    .dataframe tbody tr th:only-of-type {\n",
       "        vertical-align: middle;\n",
       "    }\n",
       "\n",
       "    .dataframe tbody tr th {\n",
       "        vertical-align: top;\n",
       "    }\n",
       "\n",
       "    .dataframe thead th {\n",
       "        text-align: right;\n",
       "    }\n",
       "</style>\n",
       "<table border=\"1\" class=\"dataframe\">\n",
       "  <thead>\n",
       "    <tr style=\"text-align: right;\">\n",
       "      <th></th>\n",
       "      <th>date</th>\n",
       "      <th>rating_review</th>\n",
       "      <th>reviews</th>\n",
       "    </tr>\n",
       "  </thead>\n",
       "  <tbody>\n",
       "    <tr>\n",
       "      <th>0</th>\n",
       "      <td>14-03-2022</td>\n",
       "      <td>5.0</td>\n",
       "      <td>This restaurant was recommended to us by our hotel. The atmosphere was lively and busy and the food was excellent, a good mix of standard tapas and \"fresh today\" dishes. Well priced and worth a visit.</td>\n",
       "    </tr>\n",
       "    <tr>\n",
       "      <th>1</th>\n",
       "      <td>07-03-2022</td>\n",
       "      <td>4.0</td>\n",
       "      <td>Had to wait for a table but glad we did. The food was really good, mixture of locals and tourists but nice atmosphere. We has a good selection of tapas including calamari’s, mixed fried fish, iberico ham and beef with foie gras along with tomato bread. Bill for 2 with a beer 4 large glasses of white wine and water plus all the tapas was 58 euros. Good value for great quality food. Give it a try.</td>\n",
       "    </tr>\n",
       "    <tr>\n",
       "      <th>2</th>\n",
       "      <td>28-02-2022</td>\n",
       "      <td>2.0</td>\n",
       "      <td>We went here on the last night of a 4 night trip to Barcelona and were very disappointed. We arrived early (so we didn't have to queue!)- sat in the back, annoyed the waiter by asking for water (tiniest bottles ever!) and ordered all of our faves- shrimp in garlic (good), tomato bread (average), tortilla (average), ham (good)....overall, I would definitely not go back. Felt super touristy and food was so very average- almost like cafeteria food! We had much better tapas at other places on our trip. Very disappointed for our last meal there. Don't get what all the hype is about!</td>\n",
       "    </tr>\n",
       "    <tr>\n",
       "      <th>3</th>\n",
       "      <td>21-02-2022</td>\n",
       "      <td>5.0</td>\n",
       "      <td>Our hotel recommended this restaurant. It was fabulous! Great tapas at a very reasonable price. We were here twice and had different items each time. All were excellent! Nice atmosphere too. There’s usually a que, but well worth the wait!</td>\n",
       "    </tr>\n",
       "    <tr>\n",
       "      <th>4</th>\n",
       "      <td>21-02-2022</td>\n",
       "      <td>5.0</td>\n",
       "      <td>Fantastic meal at Cervecería Catalana. Food was excellent, service good and really cool atmosphere. Great selection of tapas and reasonably priced. Highly recommend.</td>\n",
       "    </tr>\n",
       "    <tr>\n",
       "      <th>...</th>\n",
       "      <td>...</td>\n",
       "      <td>...</td>\n",
       "      <td>...</td>\n",
       "    </tr>\n",
       "    <tr>\n",
       "      <th>5435</th>\n",
       "      <td>6-01-2008</td>\n",
       "      <td>4.0</td>\n",
       "      <td>Next to the shops, but very different from the turist traps you find everywhere. Service is good and fast, the place is cosy and food - yummy! The best dish (tapas) was the one that had fish and cheese in a pepper. So good I need to get there again!</td>\n",
       "    </tr>\n",
       "    <tr>\n",
       "      <th>5436</th>\n",
       "      <td>28-12-2007</td>\n",
       "      <td>3.0</td>\n",
       "      <td>Good tapas and always busy. Local place</td>\n",
       "    </tr>\n",
       "    <tr>\n",
       "      <th>5437</th>\n",
       "      <td>24-12-2007</td>\n",
       "      <td>5.0</td>\n",
       "      <td>everytime that I´m visiting Barcelona, got to go!</td>\n",
       "    </tr>\n",
       "    <tr>\n",
       "      <th>5438</th>\n",
       "      <td>21-12-2007</td>\n",
       "      <td>4.0</td>\n",
       "      <td>Very well known for the business men-women. It's always plenty of 25-30 years old people after day-working!</td>\n",
       "    </tr>\n",
       "    <tr>\n",
       "      <th>5439</th>\n",
       "      <td>12-12-2007</td>\n",
       "      <td>5.0</td>\n",
       "      <td>one of my favourite tapas bar</td>\n",
       "    </tr>\n",
       "  </tbody>\n",
       "</table>\n",
       "<p>5440 rows × 3 columns</p>\n",
       "</div>"
      ],
      "text/plain": [
       "             date  rating_review  \\\n",
       "0      14-03-2022            5.0   \n",
       "1      07-03-2022            4.0   \n",
       "2      28-02-2022            2.0   \n",
       "3      21-02-2022            5.0   \n",
       "4      21-02-2022            5.0   \n",
       "...           ...            ...   \n",
       "5435   6-01-2008             4.0   \n",
       "5436  28-12-2007             3.0   \n",
       "5437  24-12-2007             5.0   \n",
       "5438  21-12-2007             4.0   \n",
       "5439  12-12-2007             5.0   \n",
       "\n",
       "                                                                                                                                                                                                                                                                                                                                                                                                                                                                                                                                                                                                       reviews  \n",
       "0                                                                                                                                                                                                                                                                                                                                                                                                    This restaurant was recommended to us by our hotel. The atmosphere was lively and busy and the food was excellent, a good mix of standard tapas and \"fresh today\" dishes. Well priced and worth a visit.   \n",
       "1                                                                                                                                                                                               Had to wait for a table but glad we did. The food was really good, mixture of locals and tourists but nice atmosphere. We has a good selection of tapas including calamari’s, mixed fried fish, iberico ham and beef with foie gras along with tomato bread. Bill for 2 with a beer 4 large glasses of white wine and water plus all the tapas was 58 euros. Good value for great quality food. Give it a try.  \n",
       "2     We went here on the last night of a 4 night trip to Barcelona and were very disappointed. We arrived early (so we didn't have to queue!)- sat in the back, annoyed the waiter by asking for water (tiniest bottles ever!) and ordered all of our faves- shrimp in garlic (good), tomato bread (average), tortilla (average), ham (good)....overall, I would definitely not go back. Felt super touristy and food was so very average- almost like cafeteria food! We had much better tapas at other places on our trip. Very disappointed for our last meal there. Don't get what all the hype is about!  \n",
       "3                                                                                                                                                                                                                                                                                                                                                               Our hotel recommended this restaurant. It was fabulous! Great tapas at a very reasonable price. We were here twice and had different items each time. All were excellent! Nice atmosphere too. There’s usually a que, but well worth the wait!  \n",
       "4                                                                                                                                                                                                                                                                                                                                                                                                                                        Fantastic meal at Cervecería Catalana. Food was excellent, service good and really cool atmosphere. Great selection of tapas and reasonably priced. Highly recommend.  \n",
       "...                                                                                                                                                                                                                                                                                                                                                                                                                                                                                                                                                                                                        ...  \n",
       "5435                                                                                                                                                                                                                                                                                                                                                 Next to the shops, but very different from the turist traps you find everywhere. Service is good and fast, the place is cosy and food - yummy! The best dish (tapas) was the one that had fish and cheese in a pepper. So good I need to get there again!  \n",
       "5436                                                                                                                                                                                                                                                                                                                                                                                                                                                                                                                                                                   Good tapas and always busy. Local place  \n",
       "5437                                                                                                                                                                                                                                                                                                                                                                                                                                                                                                                                                         everytime that I´m visiting Barcelona, got to go!  \n",
       "5438                                                                                                                                                                                                                                                                                                                                                                                                                                                                                               Very well known for the business men-women. It's always plenty of 25-30 years old people after day-working!  \n",
       "5439                                                                                                                                                                                                                                                                                                                                                                                                                                                                                                                                                                             one of my favourite tapas bar  \n",
       "\n",
       "[5440 rows x 3 columns]"
      ]
     },
     "execution_count": 34,
     "metadata": {},
     "output_type": "execute_result"
    }
   ],
   "source": [
    "#Transform the rating column to number and we diveded by 10 to visualize as a float\n",
    "\n",
    "review_final['rating_review']=review_final['rating_review'].astype(int)\n",
    "review_final['rating_review']=review_final['rating_review']/10\n",
    "review_final"
   ]
  },
  {
   "cell_type": "code",
   "execution_count": 35,
   "id": "61567b1d",
   "metadata": {
    "ExecuteTime": {
     "end_time": "2022-03-21T00:01:45.052540Z",
     "start_time": "2022-03-21T00:01:44.959788Z"
    }
   },
   "outputs": [],
   "source": [
    "review_final.to_csv('Reviews_clean.csv',encoding='utf-8-sig')\n",
    "os.remove('reviews.csv')"
   ]
  },
  {
   "cell_type": "markdown",
   "id": "e579b20d",
   "metadata": {},
   "source": [
    "# SENTIMENT ANALYSIS"
   ]
  },
  {
   "cell_type": "code",
   "execution_count": 36,
   "id": "ae88f3eb",
   "metadata": {
    "ExecuteTime": {
     "end_time": "2022-03-21T00:01:46.091201Z",
     "start_time": "2022-03-21T00:01:45.054542Z"
    }
   },
   "outputs": [],
   "source": [
    "#Importing libraries\n",
    "\n",
    "import nltk\n",
    "from nltk.tokenize import word_tokenize\n",
    "from nltk.corpus import stopwords\n",
    "from nltk.text import Text"
   ]
  },
  {
   "cell_type": "code",
   "execution_count": 37,
   "id": "1c99a049",
   "metadata": {
    "ExecuteTime": {
     "end_time": "2022-03-21T00:01:46.106692Z",
     "start_time": "2022-03-21T00:01:46.093728Z"
    }
   },
   "outputs": [],
   "source": [
    "#nltk.download('all')"
   ]
  },
  {
   "cell_type": "code",
   "execution_count": 38,
   "id": "8831d55b",
   "metadata": {
    "ExecuteTime": {
     "end_time": "2022-03-21T00:01:46.122650Z",
     "start_time": "2022-03-21T00:01:46.108689Z"
    }
   },
   "outputs": [],
   "source": [
    "#Getting the stopwords from english\n",
    "\n",
    "stop_words=stopwords.words('english')"
   ]
  },
  {
   "cell_type": "code",
   "execution_count": 39,
   "id": "32872fec",
   "metadata": {
    "ExecuteTime": {
     "end_time": "2022-03-21T00:01:51.505936Z",
     "start_time": "2022-03-21T00:01:46.123669Z"
    }
   },
   "outputs": [
    {
     "data": {
      "text/plain": [
       "0                                                                                                                                                                                                                                       restaurant recommended u hotel atmosphere lively busy food excellent good mix standard tapa fresh today dish well priced worth visit\n",
       "1                                                                                                  wait table glad food really good mixture local tourist nice atmosphere good selection tapa including calamari mixed fried fish iberico ham beef foie gras along tomato bread bill beer large glass white wine water plus tapa euro good value great quality food give try\n",
       "2       went last night night trip barcelona disappointed arrived early didnt queue sat back annoyed waiter asking water tiniest bottle ever ordered shrimp garlic good tomato bread average tortilla average ham good overall would definitely go back felt super touristy food almost like cafeteria food much better tapa place trip disappointed last meal dont get hype\n",
       "3                                                                                                                                                                                                                          hotel recommended restaurant fabulous great tapa reasonable price twice different item time excellent nice atmosphere usually que well worth wait\n",
       "4                                                                                                                                                                                                                              fantastic meal cervecería catalana food excellent service good really cool atmosphere great selection tapa reasonably priced highly recommend\n",
       "                                                                                                                                                                                        ...                                                                                                                                                                                 \n",
       "5435                                                                                                                                                                                                                             next shop different turist trap find everywhere service good fast place cosy food yummy best dish tapa one fish cheese pepper good need get\n",
       "5436                                                                                                                                                                                                                                                                                                                                       good tapa always busy local place\n",
       "5437                                                                                                                                                                                                                                                                                                                                     everytime visiting barcelona got go\n",
       "5438                                                                                                                                                                                                                                                                                                                       well known business always plenty year old people\n",
       "5439                                                                                                                                                                                                                                                                                                                                                  one favourite tapa bar\n",
       "Name: reviews, Length: 5440, dtype: object"
      ]
     },
     "execution_count": 39,
     "metadata": {},
     "output_type": "execute_result"
    }
   ],
   "source": [
    "df=review_final\n",
    "\n",
    "#Tokenize\n",
    "\n",
    "from nltk.stem import WordNetLemmatizer\n",
    "\n",
    "def cleaning(data):\n",
    "    #1. Tokenize\n",
    "    text_tokens = word_tokenize(data.replace(\"'\",\"\").lower())\n",
    "    #2. Remove Puncs\n",
    "    tokens_without_punc = [w for w in text_tokens if w.isalpha()]\n",
    "    #3. Removing Stopwords\n",
    "    tokens_without_sw = [t for t in tokens_without_punc if t not in stop_words]\n",
    "    #4. lemma\n",
    "    text_cleaned = [WordNetLemmatizer().lemmatize(t) for t in tokens_without_sw]\n",
    "    #joining\n",
    "    return \" \".join(text_cleaned)\n",
    "\n",
    "\n",
    "df['reviews'] = df['reviews'].apply(cleaning)\n",
    "df['reviews']"
   ]
  },
  {
   "cell_type": "code",
   "execution_count": 40,
   "id": "d408f52b",
   "metadata": {
    "ExecuteTime": {
     "end_time": "2022-03-21T00:01:54.350875Z",
     "start_time": "2022-03-21T00:01:51.507930Z"
    }
   },
   "outputs": [
    {
     "data": {
      "text/html": [
       "<div>\n",
       "<style scoped>\n",
       "    .dataframe tbody tr th:only-of-type {\n",
       "        vertical-align: middle;\n",
       "    }\n",
       "\n",
       "    .dataframe tbody tr th {\n",
       "        vertical-align: top;\n",
       "    }\n",
       "\n",
       "    .dataframe thead th {\n",
       "        text-align: right;\n",
       "    }\n",
       "</style>\n",
       "<table border=\"1\" class=\"dataframe\">\n",
       "  <thead>\n",
       "    <tr style=\"text-align: right;\">\n",
       "      <th></th>\n",
       "      <th>date</th>\n",
       "      <th>rating_review</th>\n",
       "      <th>reviews</th>\n",
       "      <th>polarity_score</th>\n",
       "      <th>subjectivity_score</th>\n",
       "    </tr>\n",
       "  </thead>\n",
       "  <tbody>\n",
       "    <tr>\n",
       "      <th>0</th>\n",
       "      <td>14-03-2022</td>\n",
       "      <td>5.0</td>\n",
       "      <td>restaurant recommended u hotel atmosphere lively busy food excellent good mix standard tapa fresh today dish well priced worth visit</td>\n",
       "      <td>0.400000</td>\n",
       "      <td>0.416667</td>\n",
       "    </tr>\n",
       "    <tr>\n",
       "      <th>1</th>\n",
       "      <td>07-03-2022</td>\n",
       "      <td>4.0</td>\n",
       "      <td>wait table glad food really good mixture local tourist nice atmosphere good selection tapa including calamari mixed fried fish iberico ham beef foie gras along tomato bread bill beer large glass white wine water plus tapa euro good value great quality food give try</td>\n",
       "      <td>0.421429</td>\n",
       "      <td>0.522857</td>\n",
       "    </tr>\n",
       "    <tr>\n",
       "      <th>2</th>\n",
       "      <td>28-02-2022</td>\n",
       "      <td>2.0</td>\n",
       "      <td>went last night night trip barcelona disappointed arrived early didnt queue sat back annoyed waiter asking water tiniest bottle ever ordered shrimp garlic good tomato bread average tortilla average ham good overall would definitely go back felt super touristy food almost like cafeteria food much better tapa place trip disappointed last meal dont get hype</td>\n",
       "      <td>0.008889</td>\n",
       "      <td>0.393333</td>\n",
       "    </tr>\n",
       "    <tr>\n",
       "      <th>3</th>\n",
       "      <td>21-02-2022</td>\n",
       "      <td>5.0</td>\n",
       "      <td>hotel recommended restaurant fabulous great tapa reasonable price twice different item time excellent nice atmosphere usually que well worth wait</td>\n",
       "      <td>0.381250</td>\n",
       "      <td>0.662500</td>\n",
       "    </tr>\n",
       "    <tr>\n",
       "      <th>4</th>\n",
       "      <td>21-02-2022</td>\n",
       "      <td>5.0</td>\n",
       "      <td>fantastic meal cervecería catalana food excellent service good really cool atmosphere great selection tapa reasonably priced highly recommend</td>\n",
       "      <td>0.515714</td>\n",
       "      <td>0.720000</td>\n",
       "    </tr>\n",
       "    <tr>\n",
       "      <th>...</th>\n",
       "      <td>...</td>\n",
       "      <td>...</td>\n",
       "      <td>...</td>\n",
       "      <td>...</td>\n",
       "      <td>...</td>\n",
       "    </tr>\n",
       "    <tr>\n",
       "      <th>5435</th>\n",
       "      <td>6-01-2008</td>\n",
       "      <td>4.0</td>\n",
       "      <td>next shop different turist trap find everywhere service good fast place cosy food yummy best dish tapa one fish cheese pepper good need get</td>\n",
       "      <td>0.433333</td>\n",
       "      <td>0.450000</td>\n",
       "    </tr>\n",
       "    <tr>\n",
       "      <th>5436</th>\n",
       "      <td>28-12-2007</td>\n",
       "      <td>3.0</td>\n",
       "      <td>good tapa always busy local place</td>\n",
       "      <td>0.266667</td>\n",
       "      <td>0.300000</td>\n",
       "    </tr>\n",
       "    <tr>\n",
       "      <th>5437</th>\n",
       "      <td>24-12-2007</td>\n",
       "      <td>5.0</td>\n",
       "      <td>everytime visiting barcelona got go</td>\n",
       "      <td>0.000000</td>\n",
       "      <td>0.000000</td>\n",
       "    </tr>\n",
       "    <tr>\n",
       "      <th>5438</th>\n",
       "      <td>21-12-2007</td>\n",
       "      <td>4.0</td>\n",
       "      <td>well known business always plenty year old people</td>\n",
       "      <td>0.100000</td>\n",
       "      <td>0.200000</td>\n",
       "    </tr>\n",
       "    <tr>\n",
       "      <th>5439</th>\n",
       "      <td>12-12-2007</td>\n",
       "      <td>5.0</td>\n",
       "      <td>one favourite tapa bar</td>\n",
       "      <td>0.000000</td>\n",
       "      <td>0.000000</td>\n",
       "    </tr>\n",
       "  </tbody>\n",
       "</table>\n",
       "<p>5440 rows × 5 columns</p>\n",
       "</div>"
      ],
      "text/plain": [
       "             date  rating_review  \\\n",
       "0      14-03-2022            5.0   \n",
       "1      07-03-2022            4.0   \n",
       "2      28-02-2022            2.0   \n",
       "3      21-02-2022            5.0   \n",
       "4      21-02-2022            5.0   \n",
       "...           ...            ...   \n",
       "5435   6-01-2008             4.0   \n",
       "5436  28-12-2007             3.0   \n",
       "5437  24-12-2007             5.0   \n",
       "5438  21-12-2007             4.0   \n",
       "5439  12-12-2007             5.0   \n",
       "\n",
       "                                                                                                                                                                                                                                                                                                                                                                   reviews  \\\n",
       "0                                                                                                                                                                                                                                     restaurant recommended u hotel atmosphere lively busy food excellent good mix standard tapa fresh today dish well priced worth visit   \n",
       "1                                                                                                wait table glad food really good mixture local tourist nice atmosphere good selection tapa including calamari mixed fried fish iberico ham beef foie gras along tomato bread bill beer large glass white wine water plus tapa euro good value great quality food give try   \n",
       "2     went last night night trip barcelona disappointed arrived early didnt queue sat back annoyed waiter asking water tiniest bottle ever ordered shrimp garlic good tomato bread average tortilla average ham good overall would definitely go back felt super touristy food almost like cafeteria food much better tapa place trip disappointed last meal dont get hype   \n",
       "3                                                                                                                                                                                                                        hotel recommended restaurant fabulous great tapa reasonable price twice different item time excellent nice atmosphere usually que well worth wait   \n",
       "4                                                                                                                                                                                                                            fantastic meal cervecería catalana food excellent service good really cool atmosphere great selection tapa reasonably priced highly recommend   \n",
       "...                                                                                                                                                                                                                                                                                                                                                                    ...   \n",
       "5435                                                                                                                                                                                                                           next shop different turist trap find everywhere service good fast place cosy food yummy best dish tapa one fish cheese pepper good need get   \n",
       "5436                                                                                                                                                                                                                                                                                                                                     good tapa always busy local place   \n",
       "5437                                                                                                                                                                                                                                                                                                                                   everytime visiting barcelona got go   \n",
       "5438                                                                                                                                                                                                                                                                                                                     well known business always plenty year old people   \n",
       "5439                                                                                                                                                                                                                                                                                                                                                one favourite tapa bar   \n",
       "\n",
       "      polarity_score  subjectivity_score  \n",
       "0           0.400000            0.416667  \n",
       "1           0.421429            0.522857  \n",
       "2           0.008889            0.393333  \n",
       "3           0.381250            0.662500  \n",
       "4           0.515714            0.720000  \n",
       "...              ...                 ...  \n",
       "5435        0.433333            0.450000  \n",
       "5436        0.266667            0.300000  \n",
       "5437        0.000000            0.000000  \n",
       "5438        0.100000            0.200000  \n",
       "5439        0.000000            0.000000  \n",
       "\n",
       "[5440 rows x 5 columns]"
      ]
     },
     "execution_count": 40,
     "metadata": {},
     "output_type": "execute_result"
    }
   ],
   "source": [
    "#Importing library and applying the method to get the polarity\n",
    "\n",
    "from textblob import TextBlob\n",
    "\n",
    "df['polarity_score'] = df['reviews'].apply(lambda x:TextBlob(str(x)).sentiment.polarity)\n",
    "df['subjectivity_score'] = df['reviews'].apply(lambda x:TextBlob(x).sentiment.subjectivity)\n",
    "df"
   ]
  },
  {
   "cell_type": "code",
   "execution_count": 41,
   "id": "a035f35b",
   "metadata": {
    "ExecuteTime": {
     "end_time": "2022-03-21T00:01:54.370185Z",
     "start_time": "2022-03-21T00:01:54.352844Z"
    },
    "scrolled": true
   },
   "outputs": [
    {
     "data": {
      "text/html": [
       "<div>\n",
       "<style scoped>\n",
       "    .dataframe tbody tr th:only-of-type {\n",
       "        vertical-align: middle;\n",
       "    }\n",
       "\n",
       "    .dataframe tbody tr th {\n",
       "        vertical-align: top;\n",
       "    }\n",
       "\n",
       "    .dataframe thead th {\n",
       "        text-align: right;\n",
       "    }\n",
       "</style>\n",
       "<table border=\"1\" class=\"dataframe\">\n",
       "  <thead>\n",
       "    <tr style=\"text-align: right;\">\n",
       "      <th></th>\n",
       "      <th>rating_review</th>\n",
       "      <th>polarity_score</th>\n",
       "      <th>subjectivity_score</th>\n",
       "    </tr>\n",
       "  </thead>\n",
       "  <tbody>\n",
       "    <tr>\n",
       "      <th>count</th>\n",
       "      <td>5440.000000</td>\n",
       "      <td>5440.000000</td>\n",
       "      <td>5440.000000</td>\n",
       "    </tr>\n",
       "    <tr>\n",
       "      <th>mean</th>\n",
       "      <td>4.432353</td>\n",
       "      <td>0.335487</td>\n",
       "      <td>0.540319</td>\n",
       "    </tr>\n",
       "    <tr>\n",
       "      <th>std</th>\n",
       "      <td>0.905653</td>\n",
       "      <td>0.189082</td>\n",
       "      <td>0.139406</td>\n",
       "    </tr>\n",
       "    <tr>\n",
       "      <th>min</th>\n",
       "      <td>1.000000</td>\n",
       "      <td>-0.750000</td>\n",
       "      <td>0.000000</td>\n",
       "    </tr>\n",
       "    <tr>\n",
       "      <th>25%</th>\n",
       "      <td>4.000000</td>\n",
       "      <td>0.222727</td>\n",
       "      <td>0.454859</td>\n",
       "    </tr>\n",
       "    <tr>\n",
       "      <th>50%</th>\n",
       "      <td>5.000000</td>\n",
       "      <td>0.328604</td>\n",
       "      <td>0.535046</td>\n",
       "    </tr>\n",
       "    <tr>\n",
       "      <th>75%</th>\n",
       "      <td>5.000000</td>\n",
       "      <td>0.445913</td>\n",
       "      <td>0.623906</td>\n",
       "    </tr>\n",
       "    <tr>\n",
       "      <th>max</th>\n",
       "      <td>5.000000</td>\n",
       "      <td>1.000000</td>\n",
       "      <td>1.000000</td>\n",
       "    </tr>\n",
       "  </tbody>\n",
       "</table>\n",
       "</div>"
      ],
      "text/plain": [
       "       rating_review  polarity_score  subjectivity_score\n",
       "count    5440.000000     5440.000000         5440.000000\n",
       "mean        4.432353        0.335487            0.540319\n",
       "std         0.905653        0.189082            0.139406\n",
       "min         1.000000       -0.750000            0.000000\n",
       "25%         4.000000        0.222727            0.454859\n",
       "50%         5.000000        0.328604            0.535046\n",
       "75%         5.000000        0.445913            0.623906\n",
       "max         5.000000        1.000000            1.000000"
      ]
     },
     "execution_count": 41,
     "metadata": {},
     "output_type": "execute_result"
    }
   ],
   "source": [
    "df.describe()"
   ]
  },
  {
   "cell_type": "code",
   "execution_count": 42,
   "id": "eee520fa",
   "metadata": {
    "ExecuteTime": {
     "end_time": "2022-03-21T00:01:54.386170Z",
     "start_time": "2022-03-21T00:01:54.372184Z"
    }
   },
   "outputs": [
    {
     "data": {
      "text/html": [
       "<div>\n",
       "<style scoped>\n",
       "    .dataframe tbody tr th:only-of-type {\n",
       "        vertical-align: middle;\n",
       "    }\n",
       "\n",
       "    .dataframe tbody tr th {\n",
       "        vertical-align: top;\n",
       "    }\n",
       "\n",
       "    .dataframe thead th {\n",
       "        text-align: right;\n",
       "    }\n",
       "</style>\n",
       "<table border=\"1\" class=\"dataframe\">\n",
       "  <thead>\n",
       "    <tr style=\"text-align: right;\">\n",
       "      <th></th>\n",
       "      <th>88</th>\n",
       "    </tr>\n",
       "  </thead>\n",
       "  <tbody>\n",
       "    <tr>\n",
       "      <th>date</th>\n",
       "      <td>28-01-2020</td>\n",
       "    </tr>\n",
       "    <tr>\n",
       "      <th>rating_review</th>\n",
       "      <td>5.0</td>\n",
       "    </tr>\n",
       "    <tr>\n",
       "      <th>reviews</th>\n",
       "      <td>found best tapa place term taste mini burger padrone</td>\n",
       "    </tr>\n",
       "    <tr>\n",
       "      <th>polarity_score</th>\n",
       "      <td>1.0</td>\n",
       "    </tr>\n",
       "    <tr>\n",
       "      <th>subjectivity_score</th>\n",
       "      <td>0.3</td>\n",
       "    </tr>\n",
       "  </tbody>\n",
       "</table>\n",
       "</div>"
      ],
      "text/plain": [
       "                                                                      88\n",
       "date                                                         28-01-2020 \n",
       "rating_review                                                        5.0\n",
       "reviews             found best tapa place term taste mini burger padrone\n",
       "polarity_score                                                       1.0\n",
       "subjectivity_score                                                   0.3"
      ]
     },
     "execution_count": 42,
     "metadata": {},
     "output_type": "execute_result"
    }
   ],
   "source": [
    "#To get the review with the highest polarity\n",
    "\n",
    "max_score=df.iloc[df['polarity_score'].idxmax()]\n",
    "pd.DataFrame(max_score)"
   ]
  },
  {
   "cell_type": "code",
   "execution_count": 43,
   "id": "f514c8c8",
   "metadata": {
    "ExecuteTime": {
     "end_time": "2022-03-21T00:01:54.448927Z",
     "start_time": "2022-03-21T00:01:54.389138Z"
    }
   },
   "outputs": [
    {
     "data": {
      "text/html": [
       "<div>\n",
       "<style scoped>\n",
       "    .dataframe tbody tr th:only-of-type {\n",
       "        vertical-align: middle;\n",
       "    }\n",
       "\n",
       "    .dataframe tbody tr th {\n",
       "        vertical-align: top;\n",
       "    }\n",
       "\n",
       "    .dataframe thead th {\n",
       "        text-align: right;\n",
       "    }\n",
       "</style>\n",
       "<table border=\"1\" class=\"dataframe\">\n",
       "  <thead>\n",
       "    <tr style=\"text-align: right;\">\n",
       "      <th></th>\n",
       "      <th>2826</th>\n",
       "    </tr>\n",
       "  </thead>\n",
       "  <tbody>\n",
       "    <tr>\n",
       "      <th>date</th>\n",
       "      <td>23-09-2015</td>\n",
       "    </tr>\n",
       "    <tr>\n",
       "      <th>rating_review</th>\n",
       "      <td>2.0</td>\n",
       "    </tr>\n",
       "    <tr>\n",
       "      <th>reviews</th>\n",
       "      <td>may choice wrong food tasty ordered beef steak mushroom assortment sea food terrible</td>\n",
       "    </tr>\n",
       "    <tr>\n",
       "      <th>polarity_score</th>\n",
       "      <td>-0.75</td>\n",
       "    </tr>\n",
       "    <tr>\n",
       "      <th>subjectivity_score</th>\n",
       "      <td>0.95</td>\n",
       "    </tr>\n",
       "  </tbody>\n",
       "</table>\n",
       "</div>"
      ],
      "text/plain": [
       "                                                                                                    2826\n",
       "date                                                                                         23-09-2015 \n",
       "rating_review                                                                                        2.0\n",
       "reviews             may choice wrong food tasty ordered beef steak mushroom assortment sea food terrible\n",
       "polarity_score                                                                                     -0.75\n",
       "subjectivity_score                                                                                  0.95"
      ]
     },
     "execution_count": 43,
     "metadata": {},
     "output_type": "execute_result"
    }
   ],
   "source": [
    "#To get the review with the lowest polarity\n",
    "\n",
    "min_score=df.iloc[df['polarity_score'].idxmin()]\n",
    "pd.DataFrame(min_score)"
   ]
  },
  {
   "cell_type": "code",
   "execution_count": 44,
   "id": "ffd175c3",
   "metadata": {
    "ExecuteTime": {
     "end_time": "2022-03-21T00:01:54.463887Z",
     "start_time": "2022-03-21T00:01:54.450922Z"
    }
   },
   "outputs": [
    {
     "data": {
      "text/plain": [
       "date                  158\n",
       "rating_review         158\n",
       "reviews               158\n",
       "polarity_score        158\n",
       "subjectivity_score    158\n",
       "dtype: int64"
      ]
     },
     "execution_count": 44,
     "metadata": {},
     "output_type": "execute_result"
    }
   ],
   "source": [
    "#Checking the overall. How many are positive, negative or neutral\n",
    "\n",
    "df[df['polarity_score'] < 0].count()"
   ]
  },
  {
   "cell_type": "code",
   "execution_count": 45,
   "id": "b4de787b",
   "metadata": {
    "ExecuteTime": {
     "end_time": "2022-03-21T00:01:54.495830Z",
     "start_time": "2022-03-21T00:01:54.467877Z"
    },
    "scrolled": true
   },
   "outputs": [
    {
     "data": {
      "text/plain": [
       "date                  5251\n",
       "rating_review         5251\n",
       "reviews               5251\n",
       "polarity_score        5251\n",
       "subjectivity_score    5251\n",
       "dtype: int64"
      ]
     },
     "execution_count": 45,
     "metadata": {},
     "output_type": "execute_result"
    }
   ],
   "source": [
    "df[df['polarity_score'] > 0].count()"
   ]
  },
  {
   "cell_type": "code",
   "execution_count": 46,
   "id": "11f4be5a",
   "metadata": {
    "ExecuteTime": {
     "end_time": "2022-03-21T00:01:54.511787Z",
     "start_time": "2022-03-21T00:01:54.498799Z"
    }
   },
   "outputs": [
    {
     "data": {
      "text/plain": [
       "date                  31\n",
       "rating_review         31\n",
       "reviews               31\n",
       "polarity_score        31\n",
       "subjectivity_score    31\n",
       "dtype: int64"
      ]
     },
     "execution_count": 46,
     "metadata": {},
     "output_type": "execute_result"
    }
   ],
   "source": [
    "df[df['polarity_score'] == 0].count()"
   ]
  },
  {
   "cell_type": "code",
   "execution_count": 47,
   "id": "0e6fff56",
   "metadata": {
    "ExecuteTime": {
     "end_time": "2022-03-21T00:01:54.542677Z",
     "start_time": "2022-03-21T00:01:54.513753Z"
    }
   },
   "outputs": [
    {
     "data": {
      "text/plain": [
       "0.3354868964497138"
      ]
     },
     "execution_count": 47,
     "metadata": {},
     "output_type": "execute_result"
    }
   ],
   "source": [
    "df['polarity_score'].mean() # from -1 to 1 --- 0.33 is positive more than the half (half is 0, neutral) -- 66,5 positive"
   ]
  },
  {
   "cell_type": "code",
   "execution_count": 48,
   "id": "42e0753c",
   "metadata": {
    "ExecuteTime": {
     "end_time": "2022-03-21T00:01:54.558667Z",
     "start_time": "2022-03-21T00:01:54.544672Z"
    }
   },
   "outputs": [
    {
     "data": {
      "text/plain": [
       "5.0    3386\n",
       "4.0    1417\n",
       "3.0     372\n",
       "2.0     133\n",
       "1.0     132\n",
       "Name: rating_review, dtype: int64"
      ]
     },
     "execution_count": 48,
     "metadata": {},
     "output_type": "execute_result"
    }
   ],
   "source": [
    "df['rating_review'].value_counts()"
   ]
  },
  {
   "cell_type": "code",
   "execution_count": 49,
   "id": "2f73b781",
   "metadata": {
    "ExecuteTime": {
     "end_time": "2022-03-21T00:01:54.573593Z",
     "start_time": "2022-03-21T00:01:54.561651Z"
    }
   },
   "outputs": [
    {
     "data": {
      "text/plain": [
       "4.432352941176471"
      ]
     },
     "execution_count": 49,
     "metadata": {},
     "output_type": "execute_result"
    }
   ],
   "source": [
    "df['rating_review'].mean() # from 1 to 5 --- 4.43 is positive more than the half (half is 2.5) -- 88,6 positive"
   ]
  },
  {
   "cell_type": "code",
   "execution_count": 50,
   "id": "456959a7",
   "metadata": {
    "ExecuteTime": {
     "end_time": "2022-03-21T00:01:54.651413Z",
     "start_time": "2022-03-21T00:01:54.576587Z"
    }
   },
   "outputs": [],
   "source": [
    "df.to_csv('SentimentAnalysis.csv',encoding='utf-8-sig')"
   ]
  },
  {
   "cell_type": "markdown",
   "id": "dbdfb8f1",
   "metadata": {},
   "source": [
    "# LEXICAL ANALYSIS"
   ]
  },
  {
   "cell_type": "code",
   "execution_count": 51,
   "id": "b7a14497",
   "metadata": {
    "ExecuteTime": {
     "end_time": "2022-03-21T00:01:55.449471Z",
     "start_time": "2022-03-21T00:01:54.652384Z"
    }
   },
   "outputs": [
    {
     "data": {
      "text/plain": [
       "0                                                                                                                                                                                                                                                                          [restaurant, recommended, u, hotel, atmosphere, lively, busy, food, excellent, good, mix, standard, tapa, fresh, today, dish, well, priced, worth, visit]\n",
       "1                                                                                                             [wait, table, glad, food, really, good, mixture, local, tourist, nice, atmosphere, good, selection, tapa, including, calamari, mixed, fried, fish, iberico, ham, beef, foie, gras, along, tomato, bread, bill, beer, large, glass, white, wine, water, plus, tapa, euro, good, value, great, quality, food, give, try]\n",
       "2       [went, last, night, night, trip, barcelona, disappointed, arrived, early, didnt, queue, sat, back, annoyed, waiter, asking, water, tiniest, bottle, ever, ordered, shrimp, garlic, good, tomato, bread, average, tortilla, average, ham, good, overall, would, definitely, go, back, felt, super, touristy, food, almost, like, cafeteria, food, much, better, tapa, place, trip, disappointed, last, meal, dont, get, hype]\n",
       "3                                                                                                                                                                                                                                                             [hotel, recommended, restaurant, fabulous, great, tapa, reasonable, price, twice, different, item, time, excellent, nice, atmosphere, usually, que, well, worth, wait]\n",
       "4                                                                                                                                                                                                                                                                   [fantastic, meal, cervecería, catalana, food, excellent, service, good, really, cool, atmosphere, great, selection, tapa, reasonably, priced, highly, recommend]\n",
       "                                                                                                                                                                                                                    ...                                                                                                                                                                                                             \n",
       "5435                                                                                                                                                                                                                                                            [next, shop, different, turist, trap, find, everywhere, service, good, fast, place, cosy, food, yummy, best, dish, tapa, one, fish, cheese, pepper, good, need, get]\n",
       "5436                                                                                                                                                                                                                                                                                                                                                                                        [good, tapa, always, busy, local, place]\n",
       "5437                                                                                                                                                                                                                                                                                                                                                                                       [everytime, visiting, barcelona, got, go]\n",
       "5438                                                                                                                                                                                                                                                                                                                                                                      [well, known, business, always, plenty, year, old, people]\n",
       "5439                                                                                                                                                                                                                                                                                                                                                                                                     [one, favourite, tapa, bar]\n",
       "Name: reviews, Length: 5440, dtype: object"
      ]
     },
     "execution_count": 51,
     "metadata": {},
     "output_type": "execute_result"
    }
   ],
   "source": [
    "#Tokenize the reviews. (to separate all the words)\n",
    "\n",
    "tokens=df['reviews'].apply(word_tokenize)\n",
    "tokens"
   ]
  },
  {
   "cell_type": "code",
   "execution_count": 52,
   "id": "60622341",
   "metadata": {
    "ExecuteTime": {
     "end_time": "2022-03-21T00:01:55.464430Z",
     "start_time": "2022-03-21T00:01:55.451438Z"
    }
   },
   "outputs": [
    {
     "data": {
      "text/plain": [
       "pandas.core.series.Series"
      ]
     },
     "execution_count": 52,
     "metadata": {},
     "output_type": "execute_result"
    }
   ],
   "source": [
    "type(tokens)"
   ]
  },
  {
   "cell_type": "code",
   "execution_count": null,
   "id": "9a898ed2",
   "metadata": {
    "ExecuteTime": {
     "end_time": "2022-03-21T00:01:55.496347Z",
     "start_time": "2022-03-21T00:01:55.466397Z"
    }
   },
   "outputs": [],
   "source": [
    "#Group all words from diferent reviews that were tokenized in a big list\n",
    "\n",
    "result = []\n",
    "[result.extend(i) for i in tokens] \n",
    "result"
   ]
  },
  {
   "cell_type": "code",
   "execution_count": 54,
   "id": "412788f5",
   "metadata": {
    "ExecuteTime": {
     "end_time": "2022-03-21T00:01:55.527234Z",
     "start_time": "2022-03-21T00:01:55.498315Z"
    }
   },
   "outputs": [],
   "source": [
    "#Tokens to lower case\n",
    "\n",
    "tokens_lower=[token.lower() for token in result]"
   ]
  },
  {
   "cell_type": "code",
   "execution_count": null,
   "id": "d5b3ecf2",
   "metadata": {
    "ExecuteTime": {
     "end_time": "2022-03-21T00:01:55.574108Z",
     "start_time": "2022-03-21T00:01:55.529229Z"
    }
   },
   "outputs": [],
   "source": [
    "tokens_lower"
   ]
  },
  {
   "cell_type": "code",
   "execution_count": 56,
   "id": "20b688bf",
   "metadata": {
    "ExecuteTime": {
     "end_time": "2022-03-21T00:01:55.589070Z",
     "start_time": "2022-03-21T00:01:55.576109Z"
    }
   },
   "outputs": [
    {
     "data": {
      "text/plain": [
       "200202"
      ]
     },
     "execution_count": 56,
     "metadata": {},
     "output_type": "execute_result"
    }
   ],
   "source": [
    "len(tokens_lower)"
   ]
  },
  {
   "cell_type": "code",
   "execution_count": 57,
   "id": "ff10d2de",
   "metadata": {
    "ExecuteTime": {
     "end_time": "2022-03-21T00:01:55.620984Z",
     "start_time": "2022-03-21T00:01:55.591064Z"
    }
   },
   "outputs": [],
   "source": [
    "#Remove punctuation\n",
    "clean_tokens_lower=[word for word in tokens_lower if word.isalpha()]"
   ]
  },
  {
   "cell_type": "code",
   "execution_count": null,
   "id": "ddd909d3",
   "metadata": {
    "ExecuteTime": {
     "end_time": "2022-03-21T00:01:55.651901Z",
     "start_time": "2022-03-21T00:01:55.623981Z"
    }
   },
   "outputs": [],
   "source": [
    "clean_tokens_lower"
   ]
  },
  {
   "cell_type": "code",
   "execution_count": 59,
   "id": "9d0e063b",
   "metadata": {
    "ExecuteTime": {
     "end_time": "2022-03-21T00:01:55.666861Z",
     "start_time": "2022-03-21T00:01:55.653896Z"
    }
   },
   "outputs": [],
   "source": [
    "#Word frequency summary"
   ]
  },
  {
   "cell_type": "code",
   "execution_count": 60,
   "id": "a45f0b3c",
   "metadata": {
    "ExecuteTime": {
     "end_time": "2022-03-21T00:01:55.682819Z",
     "start_time": "2022-03-21T00:01:55.668856Z"
    }
   },
   "outputs": [
    {
     "data": {
      "text/plain": [
       "200202"
      ]
     },
     "execution_count": 60,
     "metadata": {},
     "output_type": "execute_result"
    }
   ],
   "source": [
    "len(tokens_lower)"
   ]
  },
  {
   "cell_type": "code",
   "execution_count": 61,
   "id": "24cc954b",
   "metadata": {
    "ExecuteTime": {
     "end_time": "2022-03-21T00:01:55.698775Z",
     "start_time": "2022-03-21T00:01:55.684814Z"
    }
   },
   "outputs": [
    {
     "data": {
      "text/plain": [
       "200202"
      ]
     },
     "execution_count": 61,
     "metadata": {},
     "output_type": "execute_result"
    }
   ],
   "source": [
    "len(clean_tokens_lower)"
   ]
  },
  {
   "cell_type": "code",
   "execution_count": 62,
   "id": "b2082ed5",
   "metadata": {
    "ExecuteTime": {
     "end_time": "2022-03-21T00:01:55.714733Z",
     "start_time": "2022-03-21T00:01:55.699773Z"
    }
   },
   "outputs": [],
   "source": [
    "#Getting the stopwords from english\n",
    "\n",
    "stop_words=stopwords.words('english')"
   ]
  },
  {
   "cell_type": "code",
   "execution_count": 63,
   "id": "39930654",
   "metadata": {
    "ExecuteTime": {
     "end_time": "2022-03-21T00:01:56.172087Z",
     "start_time": "2022-03-21T00:01:55.717731Z"
    }
   },
   "outputs": [],
   "source": [
    "#Remove stopwords\n",
    "\n",
    "clean_tokens_lower_without_stop=[word for word in clean_tokens_lower if not word in stop_words]"
   ]
  },
  {
   "cell_type": "code",
   "execution_count": 64,
   "id": "675f43c1",
   "metadata": {
    "ExecuteTime": {
     "end_time": "2022-03-21T00:01:56.187419Z",
     "start_time": "2022-03-21T00:01:56.173088Z"
    }
   },
   "outputs": [
    {
     "data": {
      "text/plain": [
       "200090"
      ]
     },
     "execution_count": 64,
     "metadata": {},
     "output_type": "execute_result"
    }
   ],
   "source": [
    "len(clean_tokens_lower_without_stop)"
   ]
  },
  {
   "cell_type": "code",
   "execution_count": 65,
   "id": "a195a21a",
   "metadata": {
    "ExecuteTime": {
     "end_time": "2022-03-21T00:01:56.202794Z",
     "start_time": "2022-03-21T00:01:56.188416Z"
    }
   },
   "outputs": [],
   "source": [
    "#Rename the variable \n",
    "\n",
    "new_words=clean_tokens_lower_without_stop"
   ]
  },
  {
   "cell_type": "code",
   "execution_count": 66,
   "id": "936cd319",
   "metadata": {
    "ExecuteTime": {
     "end_time": "2022-03-21T00:01:56.522023Z",
     "start_time": "2022-03-21T00:01:56.204788Z"
    }
   },
   "outputs": [],
   "source": [
    "#Save the dataframe to csv\n",
    "\n",
    "df_new_words=pd.DataFrame(new_words)\n",
    "df_new_words.to_csv('LexicalAnalysis.csv',encoding='utf-8-sig')"
   ]
  },
  {
   "cell_type": "code",
   "execution_count": 67,
   "id": "7b386076",
   "metadata": {
    "ExecuteTime": {
     "end_time": "2022-03-21T00:01:56.631868Z",
     "start_time": "2022-03-21T00:01:56.523988Z"
    }
   },
   "outputs": [],
   "source": [
    "#Most common words\n",
    "\n",
    "freqdist2=nltk.FreqDist(new_words)"
   ]
  },
  {
   "cell_type": "code",
   "execution_count": 68,
   "id": "3db95052",
   "metadata": {
    "ExecuteTime": {
     "end_time": "2022-03-21T00:01:56.647086Z",
     "start_time": "2022-03-21T00:01:56.633774Z"
    }
   },
   "outputs": [],
   "source": [
    "word_freq2=dict((word,freq) for word, freq in freqdist2.items() if not word.isdigit())"
   ]
  },
  {
   "cell_type": "code",
   "execution_count": 69,
   "id": "05237d6a",
   "metadata": {
    "ExecuteTime": {
     "end_time": "2022-03-21T00:01:56.693970Z",
     "start_time": "2022-03-21T00:01:56.649084Z"
    }
   },
   "outputs": [],
   "source": [
    "sorted_word_freq2=sorted(word_freq2.items(), key=lambda x:x[1], reverse=True)"
   ]
  },
  {
   "cell_type": "code",
   "execution_count": null,
   "id": "fa9295d6",
   "metadata": {
    "ExecuteTime": {
     "end_time": "2022-03-21T00:01:56.756036Z",
     "start_time": "2022-03-21T00:01:56.696157Z"
    }
   },
   "outputs": [],
   "source": [
    "sorted_word_freq2"
   ]
  },
  {
   "cell_type": "code",
   "execution_count": 71,
   "id": "f63f8204",
   "metadata": {
    "ExecuteTime": {
     "end_time": "2022-03-21T00:01:56.771996Z",
     "start_time": "2022-03-21T00:01:56.758031Z"
    }
   },
   "outputs": [],
   "source": [
    "nltktext=Text(new_words)"
   ]
  },
  {
   "cell_type": "code",
   "execution_count": 72,
   "id": "e53429eb",
   "metadata": {
    "ExecuteTime": {
     "end_time": "2022-03-21T00:01:56.788335Z",
     "start_time": "2022-03-21T00:01:56.773990Z"
    }
   },
   "outputs": [
    {
     "data": {
      "text/plain": [
       "list"
      ]
     },
     "execution_count": 72,
     "metadata": {},
     "output_type": "execute_result"
    }
   ],
   "source": [
    "type(new_words)"
   ]
  },
  {
   "cell_type": "code",
   "execution_count": 73,
   "id": "c3a3b60c",
   "metadata": {
    "ExecuteTime": {
     "end_time": "2022-03-21T00:01:57.555611Z",
     "start_time": "2022-03-21T00:01:56.794308Z"
    }
   },
   "outputs": [
    {
     "name": "stdout",
     "output_type": "stream",
     "text": [
      "cerveceria catalana; reasonably priced; patatas bravas; put name;\n",
      "razor clam; get table; worth wait; highly recommend; beef tenderloin;\n",
      "foie gras; best tapa; come back; value money; highly recommended; well\n",
      "worth; take reservation; tapa bar; make sure; one best; seat bar\n"
     ]
    }
   ],
   "source": [
    "#collocations - words that appear next to eachother frequently \n",
    "nltktext.collocations()"
   ]
  },
  {
   "cell_type": "code",
   "execution_count": 75,
   "id": "e8f77a1a",
   "metadata": {
    "ExecuteTime": {
     "end_time": "2022-03-21T06:32:13.049680Z",
     "start_time": "2022-03-21T06:32:13.006766Z"
    }
   },
   "outputs": [
    {
     "name": "stdout",
     "output_type": "stream",
     "text": [
      "Displaying 25 of 4830 matches:\n",
      "usy food excellent good mix standard tapa fresh today dish well priced worth v\n",
      "urist nice atmosphere good selection tapa including calamari mixed fried fish \n",
      "er large glass white wine water plus tapa euro good value great quality food g\n",
      "most like cafeteria food much better tapa place trip disappointed last meal do\n",
      "ecommended restaurant fabulous great tapa reasonable price twice different ite\n",
      "ally cool atmosphere great selection tapa reasonably priced highly recommend s\n",
      " garlic prawn tomato bread best also tapa beer finished churos euro well worth\n",
      "eceria catalana simply star category tapa outstanding service outstanding pric\n",
      "lly enjoyed experience great classic tapa almost dished ordered amazing food c\n",
      " service also good recommend enjoyed tapa restaurant everything good especiall\n",
      "in walk still best recommended place tapa tripadvisor search dont reservation \n",
      "each somewhere quit mesmerizing view tapa served outside table left made even \n",
      "ouple sitting next table also joined tapa discussion added advise double help \n",
      " dip bread shrimp sauce also ordered tapa de mercado suggestion american frien\n",
      "server mawel leaving much want start tapa experience barcelona want taste real\n",
      "bsolute high quality restaurant best tapa ever eat fresh made dessert super w \n",
      "zing place quiet quick serve amazing tapa taste super friendly staff ready hel\n",
      "y vacation barcelona absolutely best tapa restaurant barcelona food fantastic \n",
      "estaurant employee tell poor service tapa amazing waiter helpful suggesting to\n",
      " server best recommended lot popular tapa disappoint good seafood fresh proper\n",
      "slow mediocre ordered different type tapa liked location id suggest trying loc\n",
      "ervice terrible food ordered several tapa waitress decided going place order a\n",
      "time money place find instead better tapa place barcelona staff extremely frie\n",
      "friendly attentive first time trying tapa sure order waiter ordered u suggesti\n",
      "coming back return barcelona perfect tapa incredible nothing else say gamba sh\n"
     ]
    }
   ],
   "source": [
    "# concordance - fragments containing key words - indexed - text around that word\n",
    "nltktext.concordance(\"tapa\")"
   ]
  },
  {
   "cell_type": "code",
   "execution_count": null,
   "id": "98d24071",
   "metadata": {},
   "outputs": [],
   "source": []
  }
 ],
 "metadata": {
  "kernelspec": {
   "display_name": "Python 3 (ipykernel)",
   "language": "python",
   "name": "python3"
  },
  "language_info": {
   "codemirror_mode": {
    "name": "ipython",
    "version": 3
   },
   "file_extension": ".py",
   "mimetype": "text/x-python",
   "name": "python",
   "nbconvert_exporter": "python",
   "pygments_lexer": "ipython3",
   "version": "3.10.2"
  },
  "toc": {
   "base_numbering": 1,
   "nav_menu": {
    "height": "167.997px",
    "width": "583.991px"
   },
   "number_sections": true,
   "sideBar": true,
   "skip_h1_title": false,
   "title_cell": "Table of Contents",
   "title_sidebar": "Contents",
   "toc_cell": false,
   "toc_position": {},
   "toc_section_display": true,
   "toc_window_display": false
  },
  "varInspector": {
   "cols": {
    "lenName": 16,
    "lenType": 16,
    "lenVar": 40
   },
   "kernels_config": {
    "python": {
     "delete_cmd_postfix": "",
     "delete_cmd_prefix": "del ",
     "library": "var_list.py",
     "varRefreshCmd": "print(var_dic_list())"
    },
    "r": {
     "delete_cmd_postfix": ") ",
     "delete_cmd_prefix": "rm(",
     "library": "var_list.r",
     "varRefreshCmd": "cat(var_dic_list()) "
    }
   },
   "types_to_exclude": [
    "module",
    "function",
    "builtin_function_or_method",
    "instance",
    "_Feature"
   ],
   "window_display": false
  }
 },
 "nbformat": 4,
 "nbformat_minor": 5
}
