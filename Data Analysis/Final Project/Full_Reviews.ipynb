{
 "cells": [
  {
   "cell_type": "markdown",
   "id": "056a4069",
   "metadata": {},
   "source": [
    "# SCRAPING THE REVIEWS FROM TRIPADVISOR OF CERVECERÍA CATALANA"
   ]
  },
  {
   "cell_type": "code",
   "execution_count": 1,
   "id": "911d5bea",
   "metadata": {},
   "outputs": [],
   "source": [
    "#Importing librararies\n",
    "\n",
    "from selenium import webdriver\n",
    "import pandas as pd\n",
    "from bs4 import BeautifulSoup\n",
    "import time\n",
    "from time import sleep\n",
    "from random import randint\n",
    "import re\n",
    "\n",
    "import warnings\n",
    "warnings.filterwarnings(\"ignore\")"
   ]
  },
  {
   "cell_type": "code",
   "execution_count": 2,
   "id": "50c84584",
   "metadata": {},
   "outputs": [],
   "source": [
    "#Function to scrap the data\n",
    "\n",
    "def parse_html(html):\n",
    "    data, item = pd.DataFrame(), {}\n",
    "    soup = BeautifulSoup(html,'lxml')\n",
    "    for i, resto in enumerate(soup.find_all('div', class_='ui_column is-9')):\n",
    "        \n",
    "        date = str(resto.find('span',class_='ratingDate'))\n",
    "        item['date'] = BeautifulSoup(date,\"lxml\").get_text() \n",
    "        \n",
    "        review=str(resto.find('p',class_='partial_entry'))\n",
    "        item['reviews']=BeautifulSoup(review, \"lxml\").get_text()\n",
    "        \n",
    "        rating_review=resto.select('.innerBubble .ui_bubble_rating')\n",
    "        item['rating_review'] = rating_review[0]['class']\n",
    "        \n",
    "        data[i] = pd.Series(item)\n",
    "    return data.T"
   ]
  },
  {
   "cell_type": "code",
   "execution_count": null,
   "id": "d4642563",
   "metadata": {
    "scrolled": true
   },
   "outputs": [],
   "source": [
    "#for loop to get the data from each page and save it as a dataframe\n",
    "\n",
    "reviews = pd.DataFrame()\n",
    "driver = webdriver.Chrome()\n",
    "driver.maximize_window()\n",
    "\n",
    "url_first_page = 'https://www.tripadvisor.es/Restaurant_Review-g187497-d782944-Reviews-Cerveceria_Catalana-Barcelona_Catalonia.html'\n",
    "driver.get(url_first_page)\n",
    "\n",
    "x = randint(2,6)\n",
    "\n",
    "sleep(x)\n",
    "driver.find_elements_by_xpath(\"//*[@id='onetrust-accept-btn-handler']\")[0].click()\n",
    "\n",
    "sleep(x)\n",
    "driver.find_elements_by_xpath(\"//*[@id='filters_detail_language_filterLang_en']\")[0].click()\n",
    "\n",
    "sleep(x)\n",
    "driver.find_elements_by_xpath(\"//*[contains(@id, 'rn')]\")[0].click()\n",
    "\n",
    "# import time\n",
    "# timeout = time.time() + 40*1 \n",
    "\n",
    "while True:\n",
    "#     if time.time() > timeout:\n",
    "#         break\n",
    "#     else:\n",
    "        next_page_btn = driver.find_elements_by_xpath(\"//*[@id='taplc_location_reviews_list_sur_0']/div/div[10]/div/div/a[2]\")\n",
    "        if len(next_page_btn) < 1:\n",
    "            print(\"No more pages left\")\n",
    "            break\n",
    "        else:\n",
    "            new_data = parse_html(driver.page_source)\n",
    "            reviews = pd.concat([reviews, new_data], ignore_index=True)\n",
    "            next_page_btn[0].click()\n",
    "            x = randint(2,6)\n",
    "            sleep(x)\n",
    "            \n",
    "        \n",
    "\n",
    "driver.close()\n",
    "reviews"
   ]
  },
  {
   "cell_type": "code",
   "execution_count": 4,
   "id": "649ec387",
   "metadata": {
    "scrolled": true
   },
   "outputs": [
    {
     "data": {
      "text/html": [
       "<div>\n",
       "<style scoped>\n",
       "    .dataframe tbody tr th:only-of-type {\n",
       "        vertical-align: middle;\n",
       "    }\n",
       "\n",
       "    .dataframe tbody tr th {\n",
       "        vertical-align: top;\n",
       "    }\n",
       "\n",
       "    .dataframe thead th {\n",
       "        text-align: right;\n",
       "    }\n",
       "</style>\n",
       "<table border=\"1\" class=\"dataframe\">\n",
       "  <thead>\n",
       "    <tr style=\"text-align: right;\">\n",
       "      <th></th>\n",
       "      <th>reviews2</th>\n",
       "    </tr>\n",
       "  </thead>\n",
       "  <tbody>\n",
       "    <tr>\n",
       "      <th>0</th>\n",
       "      <td>This restaurant was recommended to us by our h...</td>\n",
       "    </tr>\n",
       "    <tr>\n",
       "      <th>1</th>\n",
       "      <td>Had to wait for a table but glad we did. The f...</td>\n",
       "    </tr>\n",
       "    <tr>\n",
       "      <th>2</th>\n",
       "      <td>We went here on the last night of a 4 night tr...</td>\n",
       "    </tr>\n",
       "    <tr>\n",
       "      <th>3</th>\n",
       "      <td>Our hotel recommended this restaurant. It was ...</td>\n",
       "    </tr>\n",
       "    <tr>\n",
       "      <th>4</th>\n",
       "      <td>Fantastic meal at Cervecería Catalana. Food wa...</td>\n",
       "    </tr>\n",
       "  </tbody>\n",
       "</table>\n",
       "</div>"
      ],
      "text/plain": [
       "                                            reviews2\n",
       "0  This restaurant was recommended to us by our h...\n",
       "1  Had to wait for a table but glad we did. The f...\n",
       "2  We went here on the last night of a 4 night tr...\n",
       "3  Our hotel recommended this restaurant. It was ...\n",
       "4  Fantastic meal at Cervecería Catalana. Food wa..."
      ]
     },
     "execution_count": 4,
     "metadata": {},
     "output_type": "execute_result"
    }
   ],
   "source": [
    "#for loop to get the reviews from the first page and save it as a dataframe (there was a problem scraping the first page, so we needed to fix it creating a new dataframe with the same steps than before)\n",
    "\n",
    "reviews2 = pd.DataFrame()\n",
    "driver = webdriver.Chrome()\n",
    "driver.maximize_window()\n",
    "\n",
    "def parse_html2(html):\n",
    "    data, item = pd.DataFrame(), {}\n",
    "    soup = BeautifulSoup(html,'lxml') \n",
    "    for i, resto in enumerate(soup.find_all('div', class_='ui_column is-9')):\n",
    "\n",
    "        review=str(resto.find('p',class_='partial_entry'))\n",
    "        item['reviews2']=BeautifulSoup(review, \"lxml\").get_text()\n",
    "\n",
    "        data[i] = pd.Series(item)\n",
    "    return data.T\n",
    "\n",
    "url_first_page = 'https://www.tripadvisor.es/ShowUserReviews-g187497-d782944-r830535155-Cerveceria_Catalana-Barcelona_Catalonia.html'\n",
    "driver.get(url_first_page)\n",
    "\n",
    "x = randint(2,6)\n",
    "\n",
    "sleep(x)\n",
    "driver.find_elements_by_xpath(\"//*[@id='onetrust-accept-btn-handler']\")[0].click()\n",
    "\n",
    "new_data = parse_html2(driver.page_source)\n",
    "reviews2 = pd.concat([reviews2, new_data], ignore_index=True)\n",
    "driver.close()\n",
    "\n",
    "reviews2\n"
   ]
  },
  {
   "cell_type": "code",
   "execution_count": 5,
   "id": "a39a6fc6",
   "metadata": {},
   "outputs": [],
   "source": [
    "#Saving the dataframe to csv\n",
    "\n",
    "reviews.to_csv('reviews.csv',encoding='utf-8-sig')"
   ]
  },
  {
   "cell_type": "code",
   "execution_count": 6,
   "id": "226149f1",
   "metadata": {},
   "outputs": [],
   "source": [
    "#Loading the dataframe\n",
    "\n",
    "reviews=pd.read_csv('reviews.csv')"
   ]
  },
  {
   "cell_type": "code",
   "execution_count": 7,
   "id": "963cddfc",
   "metadata": {},
   "outputs": [],
   "source": [
    "#Fill the null values from the first dataframe with the values of the second one\n",
    "\n",
    "allreviews = pd.DataFrame(reviews['reviews'].fillna(reviews2['reviews2']))\n"
   ]
  },
  {
   "cell_type": "code",
   "execution_count": 8,
   "id": "aed2de71",
   "metadata": {},
   "outputs": [
    {
     "data": {
      "text/html": [
       "<div>\n",
       "<style scoped>\n",
       "    .dataframe tbody tr th:only-of-type {\n",
       "        vertical-align: middle;\n",
       "    }\n",
       "\n",
       "    .dataframe tbody tr th {\n",
       "        vertical-align: top;\n",
       "    }\n",
       "\n",
       "    .dataframe thead th {\n",
       "        text-align: right;\n",
       "    }\n",
       "</style>\n",
       "<table border=\"1\" class=\"dataframe\">\n",
       "  <thead>\n",
       "    <tr style=\"text-align: right;\">\n",
       "      <th></th>\n",
       "      <th>name</th>\n",
       "    </tr>\n",
       "  </thead>\n",
       "  <tbody>\n",
       "    <tr>\n",
       "      <th>0</th>\n",
       "      <td>This restaurant was recommended to us by our h...</td>\n",
       "    </tr>\n",
       "    <tr>\n",
       "      <th>1</th>\n",
       "      <td>Had to wait for a table but glad we did. The f...</td>\n",
       "    </tr>\n",
       "    <tr>\n",
       "      <th>2</th>\n",
       "      <td>We went here on the last night of a 4 night tr...</td>\n",
       "    </tr>\n",
       "    <tr>\n",
       "      <th>3</th>\n",
       "      <td>Our hotel recommended this restaurant. It was ...</td>\n",
       "    </tr>\n",
       "    <tr>\n",
       "      <th>4</th>\n",
       "      <td>Fantastic meal at Cervecería Catalana. Food wa...</td>\n",
       "    </tr>\n",
       "    <tr>\n",
       "      <th>...</th>\n",
       "      <td>...</td>\n",
       "    </tr>\n",
       "    <tr>\n",
       "      <th>5435</th>\n",
       "      <td>Next to the shops, but very different from the...</td>\n",
       "    </tr>\n",
       "    <tr>\n",
       "      <th>5436</th>\n",
       "      <td>Good tapas and always busy. Local place</td>\n",
       "    </tr>\n",
       "    <tr>\n",
       "      <th>5437</th>\n",
       "      <td>everytime that I´m visiting Barcelona, got to go!</td>\n",
       "    </tr>\n",
       "    <tr>\n",
       "      <th>5438</th>\n",
       "      <td>Very well known for the business men-women. It...</td>\n",
       "    </tr>\n",
       "    <tr>\n",
       "      <th>5439</th>\n",
       "      <td>one of my favourite tapas bar</td>\n",
       "    </tr>\n",
       "  </tbody>\n",
       "</table>\n",
       "<p>5440 rows × 1 columns</p>\n",
       "</div>"
      ],
      "text/plain": [
       "                                                   name\n",
       "0     This restaurant was recommended to us by our h...\n",
       "1     Had to wait for a table but glad we did. The f...\n",
       "2     We went here on the last night of a 4 night tr...\n",
       "3     Our hotel recommended this restaurant. It was ...\n",
       "4     Fantastic meal at Cervecería Catalana. Food wa...\n",
       "...                                                 ...\n",
       "5435  Next to the shops, but very different from the...\n",
       "5436            Good tapas and always busy. Local place\n",
       "5437  everytime that I´m visiting Barcelona, got to go!\n",
       "5438  Very well known for the business men-women. It...\n",
       "5439                      one of my favourite tapas bar\n",
       "\n",
       "[5440 rows x 1 columns]"
      ]
     },
     "execution_count": 8,
     "metadata": {},
     "output_type": "execute_result"
    }
   ],
   "source": [
    "#Rename the columns to be able to concat later\n",
    "\n",
    "allreviews.rename(columns={'reviews': 'name'}, inplace=True)\n",
    "allreviews"
   ]
  },
  {
   "cell_type": "code",
   "execution_count": 9,
   "id": "bce38e82",
   "metadata": {},
   "outputs": [
    {
     "data": {
      "text/html": [
       "<div>\n",
       "<style scoped>\n",
       "    .dataframe tbody tr th:only-of-type {\n",
       "        vertical-align: middle;\n",
       "    }\n",
       "\n",
       "    .dataframe tbody tr th {\n",
       "        vertical-align: top;\n",
       "    }\n",
       "\n",
       "    .dataframe thead th {\n",
       "        text-align: right;\n",
       "    }\n",
       "</style>\n",
       "<table border=\"1\" class=\"dataframe\">\n",
       "  <thead>\n",
       "    <tr style=\"text-align: right;\">\n",
       "      <th></th>\n",
       "      <th>Unnamed: 0</th>\n",
       "      <th>date</th>\n",
       "      <th>reviews</th>\n",
       "      <th>rating_review</th>\n",
       "      <th>name</th>\n",
       "    </tr>\n",
       "  </thead>\n",
       "  <tbody>\n",
       "    <tr>\n",
       "      <th>0</th>\n",
       "      <td>0</td>\n",
       "      <td>Opinión escrita hace una semana</td>\n",
       "      <td>NaN</td>\n",
       "      <td>['ui_bubble_rating', 'bubble_50']</td>\n",
       "      <td>This restaurant was recommended to us by our h...</td>\n",
       "    </tr>\n",
       "    <tr>\n",
       "      <th>1</th>\n",
       "      <td>1</td>\n",
       "      <td>Opinión escrita hace 2 semanas</td>\n",
       "      <td>NaN</td>\n",
       "      <td>['ui_bubble_rating', 'bubble_40']</td>\n",
       "      <td>Had to wait for a table but glad we did. The f...</td>\n",
       "    </tr>\n",
       "    <tr>\n",
       "      <th>2</th>\n",
       "      <td>2</td>\n",
       "      <td>Opinión escrita hace 3 semanas</td>\n",
       "      <td>NaN</td>\n",
       "      <td>['ui_bubble_rating', 'bubble_20']</td>\n",
       "      <td>We went here on the last night of a 4 night tr...</td>\n",
       "    </tr>\n",
       "    <tr>\n",
       "      <th>3</th>\n",
       "      <td>3</td>\n",
       "      <td>Opinión escrita hace 3 semanas</td>\n",
       "      <td>NaN</td>\n",
       "      <td>['ui_bubble_rating', 'bubble_50']</td>\n",
       "      <td>Our hotel recommended this restaurant. It was ...</td>\n",
       "    </tr>\n",
       "    <tr>\n",
       "      <th>4</th>\n",
       "      <td>4</td>\n",
       "      <td>Opinión escrita hace 4 semanas</td>\n",
       "      <td>NaN</td>\n",
       "      <td>['ui_bubble_rating', 'bubble_50']</td>\n",
       "      <td>Fantastic meal at Cervecería Catalana. Food wa...</td>\n",
       "    </tr>\n",
       "    <tr>\n",
       "      <th>...</th>\n",
       "      <td>...</td>\n",
       "      <td>...</td>\n",
       "      <td>...</td>\n",
       "      <td>...</td>\n",
       "      <td>...</td>\n",
       "    </tr>\n",
       "    <tr>\n",
       "      <th>5435</th>\n",
       "      <td>5435</td>\n",
       "      <td>Opinión escrita 6 de enero de 2008</td>\n",
       "      <td>Next to the shops, but very different from the...</td>\n",
       "      <td>['ui_bubble_rating', 'bubble_40']</td>\n",
       "      <td>Next to the shops, but very different from the...</td>\n",
       "    </tr>\n",
       "    <tr>\n",
       "      <th>5436</th>\n",
       "      <td>5436</td>\n",
       "      <td>Opinión escrita 28 de diciembre de 2007</td>\n",
       "      <td>Good tapas and always busy. Local place</td>\n",
       "      <td>['ui_bubble_rating', 'bubble_30']</td>\n",
       "      <td>Good tapas and always busy. Local place</td>\n",
       "    </tr>\n",
       "    <tr>\n",
       "      <th>5437</th>\n",
       "      <td>5437</td>\n",
       "      <td>Opinión escrita 24 de diciembre de 2007</td>\n",
       "      <td>everytime that I´m visiting Barcelona, got to go!</td>\n",
       "      <td>['ui_bubble_rating', 'bubble_50']</td>\n",
       "      <td>everytime that I´m visiting Barcelona, got to go!</td>\n",
       "    </tr>\n",
       "    <tr>\n",
       "      <th>5438</th>\n",
       "      <td>5438</td>\n",
       "      <td>Opinión escrita 21 de diciembre de 2007</td>\n",
       "      <td>Very well known for the business men-women. It...</td>\n",
       "      <td>['ui_bubble_rating', 'bubble_40']</td>\n",
       "      <td>Very well known for the business men-women. It...</td>\n",
       "    </tr>\n",
       "    <tr>\n",
       "      <th>5439</th>\n",
       "      <td>5439</td>\n",
       "      <td>Opinión escrita 12 de diciembre de 2007</td>\n",
       "      <td>one of my favourite tapas bar</td>\n",
       "      <td>['ui_bubble_rating', 'bubble_50']</td>\n",
       "      <td>one of my favourite tapas bar</td>\n",
       "    </tr>\n",
       "  </tbody>\n",
       "</table>\n",
       "<p>5440 rows × 5 columns</p>\n",
       "</div>"
      ],
      "text/plain": [
       "      Unnamed: 0                                      date  \\\n",
       "0              0          Opinión escrita hace una semana    \n",
       "1              1           Opinión escrita hace 2 semanas    \n",
       "2              2           Opinión escrita hace 3 semanas    \n",
       "3              3           Opinión escrita hace 3 semanas    \n",
       "4              4           Opinión escrita hace 4 semanas    \n",
       "...          ...                                       ...   \n",
       "5435        5435       Opinión escrita 6 de enero de 2008    \n",
       "5436        5436  Opinión escrita 28 de diciembre de 2007    \n",
       "5437        5437  Opinión escrita 24 de diciembre de 2007    \n",
       "5438        5438  Opinión escrita 21 de diciembre de 2007    \n",
       "5439        5439  Opinión escrita 12 de diciembre de 2007    \n",
       "\n",
       "                                                reviews  \\\n",
       "0                                                   NaN   \n",
       "1                                                   NaN   \n",
       "2                                                   NaN   \n",
       "3                                                   NaN   \n",
       "4                                                   NaN   \n",
       "...                                                 ...   \n",
       "5435  Next to the shops, but very different from the...   \n",
       "5436            Good tapas and always busy. Local place   \n",
       "5437  everytime that I´m visiting Barcelona, got to go!   \n",
       "5438  Very well known for the business men-women. It...   \n",
       "5439                      one of my favourite tapas bar   \n",
       "\n",
       "                          rating_review  \\\n",
       "0     ['ui_bubble_rating', 'bubble_50']   \n",
       "1     ['ui_bubble_rating', 'bubble_40']   \n",
       "2     ['ui_bubble_rating', 'bubble_20']   \n",
       "3     ['ui_bubble_rating', 'bubble_50']   \n",
       "4     ['ui_bubble_rating', 'bubble_50']   \n",
       "...                                 ...   \n",
       "5435  ['ui_bubble_rating', 'bubble_40']   \n",
       "5436  ['ui_bubble_rating', 'bubble_30']   \n",
       "5437  ['ui_bubble_rating', 'bubble_50']   \n",
       "5438  ['ui_bubble_rating', 'bubble_40']   \n",
       "5439  ['ui_bubble_rating', 'bubble_50']   \n",
       "\n",
       "                                                   name  \n",
       "0     This restaurant was recommended to us by our h...  \n",
       "1     Had to wait for a table but glad we did. The f...  \n",
       "2     We went here on the last night of a 4 night tr...  \n",
       "3     Our hotel recommended this restaurant. It was ...  \n",
       "4     Fantastic meal at Cervecería Catalana. Food wa...  \n",
       "...                                                 ...  \n",
       "5435  Next to the shops, but very different from the...  \n",
       "5436            Good tapas and always busy. Local place  \n",
       "5437  everytime that I´m visiting Barcelona, got to go!  \n",
       "5438  Very well known for the business men-women. It...  \n",
       "5439                      one of my favourite tapas bar  \n",
       "\n",
       "[5440 rows x 5 columns]"
      ]
     },
     "execution_count": 9,
     "metadata": {},
     "output_type": "execute_result"
    }
   ],
   "source": [
    "#Concat the dataframes\n",
    "\n",
    "reviews=pd.concat([reviews, allreviews['name']], axis=1)\n",
    "reviews"
   ]
  },
  {
   "cell_type": "code",
   "execution_count": 10,
   "id": "269e09eb",
   "metadata": {},
   "outputs": [
    {
     "data": {
      "text/html": [
       "<div>\n",
       "<style scoped>\n",
       "    .dataframe tbody tr th:only-of-type {\n",
       "        vertical-align: middle;\n",
       "    }\n",
       "\n",
       "    .dataframe tbody tr th {\n",
       "        vertical-align: top;\n",
       "    }\n",
       "\n",
       "    .dataframe thead th {\n",
       "        text-align: right;\n",
       "    }\n",
       "</style>\n",
       "<table border=\"1\" class=\"dataframe\">\n",
       "  <thead>\n",
       "    <tr style=\"text-align: right;\">\n",
       "      <th></th>\n",
       "      <th>date</th>\n",
       "      <th>rating_review</th>\n",
       "      <th>reviews</th>\n",
       "    </tr>\n",
       "  </thead>\n",
       "  <tbody>\n",
       "    <tr>\n",
       "      <th>0</th>\n",
       "      <td>Opinión escrita hace una semana</td>\n",
       "      <td>['ui_bubble_rating', 'bubble_50']</td>\n",
       "      <td>This restaurant was recommended to us by our h...</td>\n",
       "    </tr>\n",
       "    <tr>\n",
       "      <th>1</th>\n",
       "      <td>Opinión escrita hace 2 semanas</td>\n",
       "      <td>['ui_bubble_rating', 'bubble_40']</td>\n",
       "      <td>Had to wait for a table but glad we did. The f...</td>\n",
       "    </tr>\n",
       "    <tr>\n",
       "      <th>2</th>\n",
       "      <td>Opinión escrita hace 3 semanas</td>\n",
       "      <td>['ui_bubble_rating', 'bubble_20']</td>\n",
       "      <td>We went here on the last night of a 4 night tr...</td>\n",
       "    </tr>\n",
       "    <tr>\n",
       "      <th>3</th>\n",
       "      <td>Opinión escrita hace 3 semanas</td>\n",
       "      <td>['ui_bubble_rating', 'bubble_50']</td>\n",
       "      <td>Our hotel recommended this restaurant. It was ...</td>\n",
       "    </tr>\n",
       "    <tr>\n",
       "      <th>4</th>\n",
       "      <td>Opinión escrita hace 4 semanas</td>\n",
       "      <td>['ui_bubble_rating', 'bubble_50']</td>\n",
       "      <td>Fantastic meal at Cervecería Catalana. Food wa...</td>\n",
       "    </tr>\n",
       "    <tr>\n",
       "      <th>...</th>\n",
       "      <td>...</td>\n",
       "      <td>...</td>\n",
       "      <td>...</td>\n",
       "    </tr>\n",
       "    <tr>\n",
       "      <th>5435</th>\n",
       "      <td>Opinión escrita 6 de enero de 2008</td>\n",
       "      <td>['ui_bubble_rating', 'bubble_40']</td>\n",
       "      <td>Next to the shops, but very different from the...</td>\n",
       "    </tr>\n",
       "    <tr>\n",
       "      <th>5436</th>\n",
       "      <td>Opinión escrita 28 de diciembre de 2007</td>\n",
       "      <td>['ui_bubble_rating', 'bubble_30']</td>\n",
       "      <td>Good tapas and always busy. Local place</td>\n",
       "    </tr>\n",
       "    <tr>\n",
       "      <th>5437</th>\n",
       "      <td>Opinión escrita 24 de diciembre de 2007</td>\n",
       "      <td>['ui_bubble_rating', 'bubble_50']</td>\n",
       "      <td>everytime that I´m visiting Barcelona, got to go!</td>\n",
       "    </tr>\n",
       "    <tr>\n",
       "      <th>5438</th>\n",
       "      <td>Opinión escrita 21 de diciembre de 2007</td>\n",
       "      <td>['ui_bubble_rating', 'bubble_40']</td>\n",
       "      <td>Very well known for the business men-women. It...</td>\n",
       "    </tr>\n",
       "    <tr>\n",
       "      <th>5439</th>\n",
       "      <td>Opinión escrita 12 de diciembre de 2007</td>\n",
       "      <td>['ui_bubble_rating', 'bubble_50']</td>\n",
       "      <td>one of my favourite tapas bar</td>\n",
       "    </tr>\n",
       "  </tbody>\n",
       "</table>\n",
       "<p>5440 rows × 3 columns</p>\n",
       "</div>"
      ],
      "text/plain": [
       "                                          date  \\\n",
       "0             Opinión escrita hace una semana    \n",
       "1              Opinión escrita hace 2 semanas    \n",
       "2              Opinión escrita hace 3 semanas    \n",
       "3              Opinión escrita hace 3 semanas    \n",
       "4              Opinión escrita hace 4 semanas    \n",
       "...                                        ...   \n",
       "5435       Opinión escrita 6 de enero de 2008    \n",
       "5436  Opinión escrita 28 de diciembre de 2007    \n",
       "5437  Opinión escrita 24 de diciembre de 2007    \n",
       "5438  Opinión escrita 21 de diciembre de 2007    \n",
       "5439  Opinión escrita 12 de diciembre de 2007    \n",
       "\n",
       "                          rating_review  \\\n",
       "0     ['ui_bubble_rating', 'bubble_50']   \n",
       "1     ['ui_bubble_rating', 'bubble_40']   \n",
       "2     ['ui_bubble_rating', 'bubble_20']   \n",
       "3     ['ui_bubble_rating', 'bubble_50']   \n",
       "4     ['ui_bubble_rating', 'bubble_50']   \n",
       "...                                 ...   \n",
       "5435  ['ui_bubble_rating', 'bubble_40']   \n",
       "5436  ['ui_bubble_rating', 'bubble_30']   \n",
       "5437  ['ui_bubble_rating', 'bubble_50']   \n",
       "5438  ['ui_bubble_rating', 'bubble_40']   \n",
       "5439  ['ui_bubble_rating', 'bubble_50']   \n",
       "\n",
       "                                                reviews  \n",
       "0     This restaurant was recommended to us by our h...  \n",
       "1     Had to wait for a table but glad we did. The f...  \n",
       "2     We went here on the last night of a 4 night tr...  \n",
       "3     Our hotel recommended this restaurant. It was ...  \n",
       "4     Fantastic meal at Cervecería Catalana. Food wa...  \n",
       "...                                                 ...  \n",
       "5435  Next to the shops, but very different from the...  \n",
       "5436            Good tapas and always busy. Local place  \n",
       "5437  everytime that I´m visiting Barcelona, got to go!  \n",
       "5438  Very well known for the business men-women. It...  \n",
       "5439                      one of my favourite tapas bar  \n",
       "\n",
       "[5440 rows x 3 columns]"
      ]
     },
     "execution_count": 10,
     "metadata": {},
     "output_type": "execute_result"
    }
   ],
   "source": [
    "#Standarise the headers, and drop usless columns\n",
    "\n",
    "reviews.drop(['Unnamed: 0','reviews'], axis = 1, inplace = True)\n",
    "reviews.rename(columns={'name': 'reviews'}, inplace=True)\n",
    "reviews"
   ]
  },
  {
   "cell_type": "code",
   "execution_count": 11,
   "id": "d3eca857",
   "metadata": {
    "scrolled": true
   },
   "outputs": [
    {
     "name": "stdout",
     "output_type": "stream",
     "text": [
      "<class 'pandas.core.frame.DataFrame'>\n",
      "RangeIndex: 5440 entries, 0 to 5439\n",
      "Data columns (total 3 columns):\n",
      " #   Column         Non-Null Count  Dtype \n",
      "---  ------         --------------  ----- \n",
      " 0   date           5440 non-null   object\n",
      " 1   rating_review  5440 non-null   object\n",
      " 2   reviews        5440 non-null   object\n",
      "dtypes: object(3)\n",
      "memory usage: 127.6+ KB\n"
     ]
    }
   ],
   "source": [
    "reviews.info()"
   ]
  },
  {
   "cell_type": "code",
   "execution_count": 12,
   "id": "463cc969",
   "metadata": {},
   "outputs": [
    {
     "data": {
      "text/html": [
       "<div>\n",
       "<style scoped>\n",
       "    .dataframe tbody tr th:only-of-type {\n",
       "        vertical-align: middle;\n",
       "    }\n",
       "\n",
       "    .dataframe tbody tr th {\n",
       "        vertical-align: top;\n",
       "    }\n",
       "\n",
       "    .dataframe thead th {\n",
       "        text-align: right;\n",
       "    }\n",
       "</style>\n",
       "<table border=\"1\" class=\"dataframe\">\n",
       "  <thead>\n",
       "    <tr style=\"text-align: right;\">\n",
       "      <th></th>\n",
       "      <th>date</th>\n",
       "      <th>rating_review</th>\n",
       "      <th>reviews</th>\n",
       "    </tr>\n",
       "  </thead>\n",
       "  <tbody>\n",
       "    <tr>\n",
       "      <th>0</th>\n",
       "      <td>Opinión escrita hace una semana</td>\n",
       "      <td>['ui_bubble_rating', 'bubble_50']</td>\n",
       "      <td>This restaurant was recommended to us by our h...</td>\n",
       "    </tr>\n",
       "    <tr>\n",
       "      <th>1</th>\n",
       "      <td>Opinión escrita hace 2 semanas</td>\n",
       "      <td>['ui_bubble_rating', 'bubble_40']</td>\n",
       "      <td>Had to wait for a table but glad we did. The f...</td>\n",
       "    </tr>\n",
       "    <tr>\n",
       "      <th>2</th>\n",
       "      <td>Opinión escrita hace 3 semanas</td>\n",
       "      <td>['ui_bubble_rating', 'bubble_20']</td>\n",
       "      <td>We went here on the last night of a 4 night tr...</td>\n",
       "    </tr>\n",
       "    <tr>\n",
       "      <th>3</th>\n",
       "      <td>Opinión escrita hace 3 semanas</td>\n",
       "      <td>['ui_bubble_rating', 'bubble_50']</td>\n",
       "      <td>Our hotel recommended this restaurant. It was ...</td>\n",
       "    </tr>\n",
       "    <tr>\n",
       "      <th>4</th>\n",
       "      <td>Opinión escrita hace 4 semanas</td>\n",
       "      <td>['ui_bubble_rating', 'bubble_50']</td>\n",
       "      <td>Fantastic meal at Cervecería Catalana. Food wa...</td>\n",
       "    </tr>\n",
       "    <tr>\n",
       "      <th>...</th>\n",
       "      <td>...</td>\n",
       "      <td>...</td>\n",
       "      <td>...</td>\n",
       "    </tr>\n",
       "    <tr>\n",
       "      <th>5435</th>\n",
       "      <td>Opinión escrita 6 de enero de 2008</td>\n",
       "      <td>['ui_bubble_rating', 'bubble_40']</td>\n",
       "      <td>Next to the shops, but very different from the...</td>\n",
       "    </tr>\n",
       "    <tr>\n",
       "      <th>5436</th>\n",
       "      <td>Opinión escrita 28 de diciembre de 2007</td>\n",
       "      <td>['ui_bubble_rating', 'bubble_30']</td>\n",
       "      <td>Good tapas and always busy. Local place</td>\n",
       "    </tr>\n",
       "    <tr>\n",
       "      <th>5437</th>\n",
       "      <td>Opinión escrita 24 de diciembre de 2007</td>\n",
       "      <td>['ui_bubble_rating', 'bubble_50']</td>\n",
       "      <td>everytime that I´m visiting Barcelona, got to go!</td>\n",
       "    </tr>\n",
       "    <tr>\n",
       "      <th>5438</th>\n",
       "      <td>Opinión escrita 21 de diciembre de 2007</td>\n",
       "      <td>['ui_bubble_rating', 'bubble_40']</td>\n",
       "      <td>Very well known for the business men-women. It...</td>\n",
       "    </tr>\n",
       "    <tr>\n",
       "      <th>5439</th>\n",
       "      <td>Opinión escrita 12 de diciembre de 2007</td>\n",
       "      <td>['ui_bubble_rating', 'bubble_50']</td>\n",
       "      <td>one of my favourite tapas bar</td>\n",
       "    </tr>\n",
       "  </tbody>\n",
       "</table>\n",
       "<p>5440 rows × 3 columns</p>\n",
       "</div>"
      ],
      "text/plain": [
       "                                          date  \\\n",
       "0             Opinión escrita hace una semana    \n",
       "1              Opinión escrita hace 2 semanas    \n",
       "2              Opinión escrita hace 3 semanas    \n",
       "3              Opinión escrita hace 3 semanas    \n",
       "4              Opinión escrita hace 4 semanas    \n",
       "...                                        ...   \n",
       "5435       Opinión escrita 6 de enero de 2008    \n",
       "5436  Opinión escrita 28 de diciembre de 2007    \n",
       "5437  Opinión escrita 24 de diciembre de 2007    \n",
       "5438  Opinión escrita 21 de diciembre de 2007    \n",
       "5439  Opinión escrita 12 de diciembre de 2007    \n",
       "\n",
       "                          rating_review  \\\n",
       "0     ['ui_bubble_rating', 'bubble_50']   \n",
       "1     ['ui_bubble_rating', 'bubble_40']   \n",
       "2     ['ui_bubble_rating', 'bubble_20']   \n",
       "3     ['ui_bubble_rating', 'bubble_50']   \n",
       "4     ['ui_bubble_rating', 'bubble_50']   \n",
       "...                                 ...   \n",
       "5435  ['ui_bubble_rating', 'bubble_40']   \n",
       "5436  ['ui_bubble_rating', 'bubble_30']   \n",
       "5437  ['ui_bubble_rating', 'bubble_50']   \n",
       "5438  ['ui_bubble_rating', 'bubble_40']   \n",
       "5439  ['ui_bubble_rating', 'bubble_50']   \n",
       "\n",
       "                                                reviews  \n",
       "0     This restaurant was recommended to us by our h...  \n",
       "1     Had to wait for a table but glad we did. The f...  \n",
       "2     We went here on the last night of a 4 night tr...  \n",
       "3     Our hotel recommended this restaurant. It was ...  \n",
       "4     Fantastic meal at Cervecería Catalana. Food wa...  \n",
       "...                                                 ...  \n",
       "5435  Next to the shops, but very different from the...  \n",
       "5436            Good tapas and always busy. Local place  \n",
       "5437  everytime that I´m visiting Barcelona, got to go!  \n",
       "5438  Very well known for the business men-women. It...  \n",
       "5439                      one of my favourite tapas bar  \n",
       "\n",
       "[5440 rows x 3 columns]"
      ]
     },
     "execution_count": 12,
     "metadata": {},
     "output_type": "execute_result"
    }
   ],
   "source": [
    "# pd.set_option(\"display.max_colwidth\", None)\n",
    "# pd.set_option('display.max_rows', None)\n",
    "reviews"
   ]
  },
  {
   "cell_type": "code",
   "execution_count": 13,
   "id": "6880714a",
   "metadata": {},
   "outputs": [
    {
     "data": {
      "text/plain": [
       "pandas.core.series.Series"
      ]
     },
     "execution_count": 13,
     "metadata": {},
     "output_type": "execute_result"
    }
   ],
   "source": [
    "type(reviews['rating_review'])"
   ]
  },
  {
   "cell_type": "code",
   "execution_count": 14,
   "id": "b3620140",
   "metadata": {},
   "outputs": [
    {
     "data": {
      "text/plain": [
       "0       ['ui_bubble_rating', 'bubble_50']\n",
       "1       ['ui_bubble_rating', 'bubble_40']\n",
       "2       ['ui_bubble_rating', 'bubble_20']\n",
       "3       ['ui_bubble_rating', 'bubble_50']\n",
       "4       ['ui_bubble_rating', 'bubble_50']\n",
       "                      ...                \n",
       "5435    ['ui_bubble_rating', 'bubble_40']\n",
       "5436    ['ui_bubble_rating', 'bubble_30']\n",
       "5437    ['ui_bubble_rating', 'bubble_50']\n",
       "5438    ['ui_bubble_rating', 'bubble_40']\n",
       "5439    ['ui_bubble_rating', 'bubble_50']\n",
       "Name: rating_review, Length: 5440, dtype: object"
      ]
     },
     "execution_count": 14,
     "metadata": {},
     "output_type": "execute_result"
    }
   ],
   "source": [
    "#We transform the column to string in order to get the number later\n",
    "\n",
    "reviews['rating_review']=reviews['rating_review'].apply(str)\n",
    "reviews['rating_review']"
   ]
  },
  {
   "cell_type": "code",
   "execution_count": 15,
   "id": "a84efdf6",
   "metadata": {},
   "outputs": [
    {
     "data": {
      "text/html": [
       "<div>\n",
       "<style scoped>\n",
       "    .dataframe tbody tr th:only-of-type {\n",
       "        vertical-align: middle;\n",
       "    }\n",
       "\n",
       "    .dataframe tbody tr th {\n",
       "        vertical-align: top;\n",
       "    }\n",
       "\n",
       "    .dataframe thead th {\n",
       "        text-align: right;\n",
       "    }\n",
       "</style>\n",
       "<table border=\"1\" class=\"dataframe\">\n",
       "  <thead>\n",
       "    <tr style=\"text-align: right;\">\n",
       "      <th></th>\n",
       "      <th>date</th>\n",
       "      <th>rating_review</th>\n",
       "      <th>reviews</th>\n",
       "    </tr>\n",
       "  </thead>\n",
       "  <tbody>\n",
       "    <tr>\n",
       "      <th>0</th>\n",
       "      <td>Opinión escrita hace una semana</td>\n",
       "      <td>50</td>\n",
       "      <td>This restaurant was recommended to us by our h...</td>\n",
       "    </tr>\n",
       "    <tr>\n",
       "      <th>1</th>\n",
       "      <td>Opinión escrita hace 2 semanas</td>\n",
       "      <td>40</td>\n",
       "      <td>Had to wait for a table but glad we did. The f...</td>\n",
       "    </tr>\n",
       "    <tr>\n",
       "      <th>2</th>\n",
       "      <td>Opinión escrita hace 3 semanas</td>\n",
       "      <td>20</td>\n",
       "      <td>We went here on the last night of a 4 night tr...</td>\n",
       "    </tr>\n",
       "    <tr>\n",
       "      <th>3</th>\n",
       "      <td>Opinión escrita hace 3 semanas</td>\n",
       "      <td>50</td>\n",
       "      <td>Our hotel recommended this restaurant. It was ...</td>\n",
       "    </tr>\n",
       "    <tr>\n",
       "      <th>4</th>\n",
       "      <td>Opinión escrita hace 4 semanas</td>\n",
       "      <td>50</td>\n",
       "      <td>Fantastic meal at Cervecería Catalana. Food wa...</td>\n",
       "    </tr>\n",
       "    <tr>\n",
       "      <th>...</th>\n",
       "      <td>...</td>\n",
       "      <td>...</td>\n",
       "      <td>...</td>\n",
       "    </tr>\n",
       "    <tr>\n",
       "      <th>5435</th>\n",
       "      <td>Opinión escrita 6 de enero de 2008</td>\n",
       "      <td>40</td>\n",
       "      <td>Next to the shops, but very different from the...</td>\n",
       "    </tr>\n",
       "    <tr>\n",
       "      <th>5436</th>\n",
       "      <td>Opinión escrita 28 de diciembre de 2007</td>\n",
       "      <td>30</td>\n",
       "      <td>Good tapas and always busy. Local place</td>\n",
       "    </tr>\n",
       "    <tr>\n",
       "      <th>5437</th>\n",
       "      <td>Opinión escrita 24 de diciembre de 2007</td>\n",
       "      <td>50</td>\n",
       "      <td>everytime that I´m visiting Barcelona, got to go!</td>\n",
       "    </tr>\n",
       "    <tr>\n",
       "      <th>5438</th>\n",
       "      <td>Opinión escrita 21 de diciembre de 2007</td>\n",
       "      <td>40</td>\n",
       "      <td>Very well known for the business men-women. It...</td>\n",
       "    </tr>\n",
       "    <tr>\n",
       "      <th>5439</th>\n",
       "      <td>Opinión escrita 12 de diciembre de 2007</td>\n",
       "      <td>50</td>\n",
       "      <td>one of my favourite tapas bar</td>\n",
       "    </tr>\n",
       "  </tbody>\n",
       "</table>\n",
       "<p>5440 rows × 3 columns</p>\n",
       "</div>"
      ],
      "text/plain": [
       "                                          date rating_review  \\\n",
       "0             Opinión escrita hace una semana             50   \n",
       "1              Opinión escrita hace 2 semanas             40   \n",
       "2              Opinión escrita hace 3 semanas             20   \n",
       "3              Opinión escrita hace 3 semanas             50   \n",
       "4              Opinión escrita hace 4 semanas             50   \n",
       "...                                        ...           ...   \n",
       "5435       Opinión escrita 6 de enero de 2008             40   \n",
       "5436  Opinión escrita 28 de diciembre de 2007             30   \n",
       "5437  Opinión escrita 24 de diciembre de 2007             50   \n",
       "5438  Opinión escrita 21 de diciembre de 2007             40   \n",
       "5439  Opinión escrita 12 de diciembre de 2007             50   \n",
       "\n",
       "                                                reviews  \n",
       "0     This restaurant was recommended to us by our h...  \n",
       "1     Had to wait for a table but glad we did. The f...  \n",
       "2     We went here on the last night of a 4 night tr...  \n",
       "3     Our hotel recommended this restaurant. It was ...  \n",
       "4     Fantastic meal at Cervecería Catalana. Food wa...  \n",
       "...                                                 ...  \n",
       "5435  Next to the shops, but very different from the...  \n",
       "5436            Good tapas and always busy. Local place  \n",
       "5437  everytime that I´m visiting Barcelona, got to go!  \n",
       "5438  Very well known for the business men-women. It...  \n",
       "5439                      one of my favourite tapas bar  \n",
       "\n",
       "[5440 rows x 3 columns]"
      ]
     },
     "execution_count": 15,
     "metadata": {},
     "output_type": "execute_result"
    }
   ],
   "source": [
    "#Extract the number with the function extract()\n",
    "\n",
    "reviews['rating_review']=reviews['rating_review'].str.extract(pat = '([0-9].)')\n",
    "reviews"
   ]
  },
  {
   "cell_type": "code",
   "execution_count": 16,
   "id": "16e96e8e",
   "metadata": {},
   "outputs": [
    {
     "data": {
      "text/plain": [
       "0       This restaurant was recommended to us by our h...\n",
       "1       Had to wait for a table but glad we did. The f...\n",
       "2       We went here on the last night of a 4 night tr...\n",
       "3       Our hotel recommended this restaurant. It was ...\n",
       "4       Fantastic meal at Cervecería Catalana. Food wa...\n",
       "                              ...                        \n",
       "5435    Next to the shops, but very different from the...\n",
       "5436              Good tapas and always busy. Local place\n",
       "5437    everytime that I´m visiting Barcelona, got to go!\n",
       "5438    Very well known for the business men-women. It...\n",
       "5439                        one of my favourite tapas bar\n",
       "Name: reviews, Length: 5440, dtype: object"
      ]
     },
     "execution_count": 16,
     "metadata": {},
     "output_type": "execute_result"
    }
   ],
   "source": [
    "#Transform the review column to string in order to later visualize the full review\n",
    "\n",
    "reviews['reviews'].apply(str)"
   ]
  },
  {
   "cell_type": "code",
   "execution_count": 17,
   "id": "a3aaf3f3",
   "metadata": {},
   "outputs": [],
   "source": [
    "#To visualize the full review\n",
    "\n",
    "pd.set_option(\"display.max_colwidth\", None)"
   ]
  },
  {
   "cell_type": "code",
   "execution_count": 18,
   "id": "fc9e6a7e",
   "metadata": {},
   "outputs": [
    {
     "data": {
      "text/plain": [
       "0                                                                                                                                                                                                                                                                                                                                                                                                      This restaurant was recommended to us by our hotel. The atmosphere was lively and busy and the food was excellent, a good mix of standard tapas and \"fresh today\" dishes. Well priced and worth a visit. \n",
       "1                                                                                                                                                                                                 Had to wait for a table but glad we did. The food was really good, mixture of locals and tourists but nice atmosphere. We has a good selection of tapas including calamari’s, mixed fried fish, iberico ham and beef with foie gras along with tomato bread. Bill for 2 with a beer 4 large glasses of white wine and water plus all the tapas was 58 euros. Good value for great quality food. Give it a try.\n",
       "2       We went here on the last night of a 4 night trip to Barcelona and were very disappointed. We arrived early (so we didn't have to queue!)- sat in the back, annoyed the waiter by asking for water (tiniest bottles ever!) and ordered all of our faves- shrimp in garlic (good), tomato bread (average), tortilla (average), ham (good)....overall, I would definitely not go back. Felt super touristy and food was so very average- almost like cafeteria food! We had much better tapas at other places on our trip. Very disappointed for our last meal there. Don't get what all the hype is about!\n",
       "3                                                                                                                                                                                                                                                                                                                                                                 Our hotel recommended this restaurant. It was fabulous! Great tapas at a very reasonable price. We were here twice and had different items each time. All were excellent! Nice atmosphere too. There’s usually a que, but well worth the wait!\n",
       "4                                                                                                                                                                                                                                                                                                                                                                                                                                          Fantastic meal at Cervecería Catalana. Food was excellent, service good and really cool atmosphere. Great selection of tapas and reasonably priced. Highly recommend.\n",
       "                                                                                                                                                                                                                                                                                                          ...                                                                                                                                                                                                                                                                                                   \n",
       "5435                                                                                                                                                                                                                                                                                                                                                   Next to the shops, but very different from the turist traps you find everywhere. Service is good and fast, the place is cosy and food - yummy! The best dish (tapas) was the one that had fish and cheese in a pepper. So good I need to get there again!\n",
       "5436                                                                                                                                                                                                                                                                                                                                                                                                                                                                                                                                                                     Good tapas and always busy. Local place\n",
       "5437                                                                                                                                                                                                                                                                                                                                                                                                                                                                                                                                                           everytime that I´m visiting Barcelona, got to go!\n",
       "5438                                                                                                                                                                                                                                                                                                                                                                                                                                                                                                 Very well known for the business men-women. It's always plenty of 25-30 years old people after day-working!\n",
       "5439                                                                                                                                                                                                                                                                                                                                                                                                                                                                                                                                                                               one of my favourite tapas bar\n",
       "Name: reviews, Length: 5440, dtype: object"
      ]
     },
     "execution_count": 18,
     "metadata": {},
     "output_type": "execute_result"
    }
   ],
   "source": [
    "reviews['reviews']"
   ]
  },
  {
   "cell_type": "code",
   "execution_count": 19,
   "id": "7569e0b0",
   "metadata": {},
   "outputs": [
    {
     "data": {
      "text/html": [
       "<div>\n",
       "<style scoped>\n",
       "    .dataframe tbody tr th:only-of-type {\n",
       "        vertical-align: middle;\n",
       "    }\n",
       "\n",
       "    .dataframe tbody tr th {\n",
       "        vertical-align: top;\n",
       "    }\n",
       "\n",
       "    .dataframe thead th {\n",
       "        text-align: right;\n",
       "    }\n",
       "</style>\n",
       "<table border=\"1\" class=\"dataframe\">\n",
       "  <thead>\n",
       "    <tr style=\"text-align: right;\">\n",
       "      <th></th>\n",
       "      <th>date</th>\n",
       "      <th>rating_review</th>\n",
       "      <th>reviews</th>\n",
       "    </tr>\n",
       "  </thead>\n",
       "  <tbody>\n",
       "    <tr>\n",
       "      <th>0</th>\n",
       "      <td>Opinión escrita hace una semana</td>\n",
       "      <td>50</td>\n",
       "      <td>This restaurant was recommended to us by our hotel. The atmosphere was lively and busy and the food was excellent, a good mix of standard tapas and \"fresh today\" dishes. Well priced and worth a visit.</td>\n",
       "    </tr>\n",
       "    <tr>\n",
       "      <th>1</th>\n",
       "      <td>Opinión escrita hace 2 semanas</td>\n",
       "      <td>40</td>\n",
       "      <td>Had to wait for a table but glad we did. The food was really good, mixture of locals and tourists but nice atmosphere. We has a good selection of tapas including calamari’s, mixed fried fish, iberico ham and beef with foie gras along with tomato bread. Bill for 2 with a beer 4 large glasses of white wine and water plus all the tapas was 58 euros. Good value for great quality food. Give it a try.</td>\n",
       "    </tr>\n",
       "    <tr>\n",
       "      <th>2</th>\n",
       "      <td>Opinión escrita hace 3 semanas</td>\n",
       "      <td>20</td>\n",
       "      <td>We went here on the last night of a 4 night trip to Barcelona and were very disappointed. We arrived early (so we didn't have to queue!)- sat in the back, annoyed the waiter by asking for water (tiniest bottles ever!) and ordered all of our faves- shrimp in garlic (good), tomato bread (average), tortilla (average), ham (good)....overall, I would definitely not go back. Felt super touristy and food was so very average- almost like cafeteria food! We had much better tapas at other places on our trip. Very disappointed for our last meal there. Don't get what all the hype is about!</td>\n",
       "    </tr>\n",
       "    <tr>\n",
       "      <th>3</th>\n",
       "      <td>Opinión escrita hace 3 semanas</td>\n",
       "      <td>50</td>\n",
       "      <td>Our hotel recommended this restaurant. It was fabulous! Great tapas at a very reasonable price. We were here twice and had different items each time. All were excellent! Nice atmosphere too. There’s usually a que, but well worth the wait!</td>\n",
       "    </tr>\n",
       "    <tr>\n",
       "      <th>4</th>\n",
       "      <td>Opinión escrita hace 4 semanas</td>\n",
       "      <td>50</td>\n",
       "      <td>Fantastic meal at Cervecería Catalana. Food was excellent, service good and really cool atmosphere. Great selection of tapas and reasonably priced. Highly recommend.</td>\n",
       "    </tr>\n",
       "    <tr>\n",
       "      <th>...</th>\n",
       "      <td>...</td>\n",
       "      <td>...</td>\n",
       "      <td>...</td>\n",
       "    </tr>\n",
       "    <tr>\n",
       "      <th>5435</th>\n",
       "      <td>Opinión escrita 6 de enero de 2008</td>\n",
       "      <td>40</td>\n",
       "      <td>Next to the shops, but very different from the turist traps you find everywhere. Service is good and fast, the place is cosy and food - yummy! The best dish (tapas) was the one that had fish and cheese in a pepper. So good I need to get there again!</td>\n",
       "    </tr>\n",
       "    <tr>\n",
       "      <th>5436</th>\n",
       "      <td>Opinión escrita 28 de diciembre de 2007</td>\n",
       "      <td>30</td>\n",
       "      <td>Good tapas and always busy. Local place</td>\n",
       "    </tr>\n",
       "    <tr>\n",
       "      <th>5437</th>\n",
       "      <td>Opinión escrita 24 de diciembre de 2007</td>\n",
       "      <td>50</td>\n",
       "      <td>everytime that I´m visiting Barcelona, got to go!</td>\n",
       "    </tr>\n",
       "    <tr>\n",
       "      <th>5438</th>\n",
       "      <td>Opinión escrita 21 de diciembre de 2007</td>\n",
       "      <td>40</td>\n",
       "      <td>Very well known for the business men-women. It's always plenty of 25-30 years old people after day-working!</td>\n",
       "    </tr>\n",
       "    <tr>\n",
       "      <th>5439</th>\n",
       "      <td>Opinión escrita 12 de diciembre de 2007</td>\n",
       "      <td>50</td>\n",
       "      <td>one of my favourite tapas bar</td>\n",
       "    </tr>\n",
       "  </tbody>\n",
       "</table>\n",
       "<p>5440 rows × 3 columns</p>\n",
       "</div>"
      ],
      "text/plain": [
       "                                          date rating_review  \\\n",
       "0             Opinión escrita hace una semana             50   \n",
       "1              Opinión escrita hace 2 semanas             40   \n",
       "2              Opinión escrita hace 3 semanas             20   \n",
       "3              Opinión escrita hace 3 semanas             50   \n",
       "4              Opinión escrita hace 4 semanas             50   \n",
       "...                                        ...           ...   \n",
       "5435       Opinión escrita 6 de enero de 2008             40   \n",
       "5436  Opinión escrita 28 de diciembre de 2007             30   \n",
       "5437  Opinión escrita 24 de diciembre de 2007             50   \n",
       "5438  Opinión escrita 21 de diciembre de 2007             40   \n",
       "5439  Opinión escrita 12 de diciembre de 2007             50   \n",
       "\n",
       "                                                                                                                                                                                                                                                                                                                                                                                                                                                                                                                                                                                                       reviews  \n",
       "0                                                                                                                                                                                                                                                                                                                                                                                                    This restaurant was recommended to us by our hotel. The atmosphere was lively and busy and the food was excellent, a good mix of standard tapas and \"fresh today\" dishes. Well priced and worth a visit.   \n",
       "1                                                                                                                                                                                               Had to wait for a table but glad we did. The food was really good, mixture of locals and tourists but nice atmosphere. We has a good selection of tapas including calamari’s, mixed fried fish, iberico ham and beef with foie gras along with tomato bread. Bill for 2 with a beer 4 large glasses of white wine and water plus all the tapas was 58 euros. Good value for great quality food. Give it a try.  \n",
       "2     We went here on the last night of a 4 night trip to Barcelona and were very disappointed. We arrived early (so we didn't have to queue!)- sat in the back, annoyed the waiter by asking for water (tiniest bottles ever!) and ordered all of our faves- shrimp in garlic (good), tomato bread (average), tortilla (average), ham (good)....overall, I would definitely not go back. Felt super touristy and food was so very average- almost like cafeteria food! We had much better tapas at other places on our trip. Very disappointed for our last meal there. Don't get what all the hype is about!  \n",
       "3                                                                                                                                                                                                                                                                                                                                                               Our hotel recommended this restaurant. It was fabulous! Great tapas at a very reasonable price. We were here twice and had different items each time. All were excellent! Nice atmosphere too. There’s usually a que, but well worth the wait!  \n",
       "4                                                                                                                                                                                                                                                                                                                                                                                                                                        Fantastic meal at Cervecería Catalana. Food was excellent, service good and really cool atmosphere. Great selection of tapas and reasonably priced. Highly recommend.  \n",
       "...                                                                                                                                                                                                                                                                                                                                                                                                                                                                                                                                                                                                        ...  \n",
       "5435                                                                                                                                                                                                                                                                                                                                                 Next to the shops, but very different from the turist traps you find everywhere. Service is good and fast, the place is cosy and food - yummy! The best dish (tapas) was the one that had fish and cheese in a pepper. So good I need to get there again!  \n",
       "5436                                                                                                                                                                                                                                                                                                                                                                                                                                                                                                                                                                   Good tapas and always busy. Local place  \n",
       "5437                                                                                                                                                                                                                                                                                                                                                                                                                                                                                                                                                         everytime that I´m visiting Barcelona, got to go!  \n",
       "5438                                                                                                                                                                                                                                                                                                                                                                                                                                                                                               Very well known for the business men-women. It's always plenty of 25-30 years old people after day-working!  \n",
       "5439                                                                                                                                                                                                                                                                                                                                                                                                                                                                                                                                                                             one of my favourite tapas bar  \n",
       "\n",
       "[5440 rows x 3 columns]"
      ]
     },
     "execution_count": 19,
     "metadata": {},
     "output_type": "execute_result"
    }
   ],
   "source": [
    "reviews"
   ]
  },
  {
   "cell_type": "code",
   "execution_count": null,
   "id": "3aac11d8",
   "metadata": {
    "scrolled": false
   },
   "outputs": [],
   "source": [
    "# Applying replace to transform the string dates in datetime\n",
    "\n",
    "reviews = reviews.replace(r'Opinión escrita ', '', regex = True)\n",
    "reviews = reviews.replace(r'hace ', '', regex = True)\n",
    "reviews = reviews.replace(r' de enero de ', '-01-', regex = True)\n",
    "reviews = reviews.replace(r' de febrero de ', '-02-', regex = True)\n",
    "reviews = reviews.replace(r' de marzo de ', '-03-', regex = True)\n",
    "reviews = reviews.replace(r' de abril de ', '-04-', regex = True)\n",
    "reviews = reviews.replace(r' de mayo de ', '-05-', regex = True)\n",
    "reviews = reviews.replace(r' de junio de ', '-06-', regex = True)\n",
    "reviews = reviews.replace(r' de julio de ', '-07-', regex = True)\n",
    "reviews = reviews.replace(r' de agosto de ', '-08-', regex = True)\n",
    "reviews = reviews.replace(r' de septiembre de ', '-09-', regex = True)\n",
    "reviews = reviews.replace(r' de octubre de ', '-10-', regex = True)\n",
    "reviews = reviews.replace(r' de noviembre de ', '-11-', regex = True)\n",
    "reviews = reviews.replace(r' de diciembre de ', '-12-', regex = True)\n",
    "reviews = reviews.replace(r'un día', '1 day', regex = True)\n",
    "reviews = reviews.replace(r'días', 'day', regex = True)\n",
    "reviews = reviews.replace(r'una semana', '7 day', regex = True)\n",
    "reviews = reviews.replace(r'semanas', 'week', regex = True)\n",
    "reviews"
   ]
  },
  {
   "cell_type": "code",
   "execution_count": 21,
   "id": "25f8246d",
   "metadata": {},
   "outputs": [
    {
     "data": {
      "text/html": [
       "<div>\n",
       "<style scoped>\n",
       "    .dataframe tbody tr th:only-of-type {\n",
       "        vertical-align: middle;\n",
       "    }\n",
       "\n",
       "    .dataframe tbody tr th {\n",
       "        vertical-align: top;\n",
       "    }\n",
       "\n",
       "    .dataframe thead th {\n",
       "        text-align: right;\n",
       "    }\n",
       "</style>\n",
       "<table border=\"1\" class=\"dataframe\">\n",
       "  <thead>\n",
       "    <tr style=\"text-align: right;\">\n",
       "      <th></th>\n",
       "      <th>date</th>\n",
       "      <th>rating_review</th>\n",
       "      <th>reviews</th>\n",
       "    </tr>\n",
       "  </thead>\n",
       "  <tbody>\n",
       "    <tr>\n",
       "      <th>0</th>\n",
       "      <td>7 day</td>\n",
       "      <td>50</td>\n",
       "      <td>This restaurant was recommended to us by our hotel. The atmosphere was lively and busy and the food was excellent, a good mix of standard tapas and \"fresh today\" dishes. Well priced and worth a visit.</td>\n",
       "    </tr>\n",
       "  </tbody>\n",
       "</table>\n",
       "</div>"
      ],
      "text/plain": [
       "     date rating_review  \\\n",
       "0  7 day             50   \n",
       "\n",
       "                                                                                                                                                                                                     reviews  \n",
       "0  This restaurant was recommended to us by our hotel. The atmosphere was lively and busy and the food was excellent, a good mix of standard tapas and \"fresh today\" dishes. Well priced and worth a visit.   "
      ]
     },
     "execution_count": 21,
     "metadata": {},
     "output_type": "execute_result"
    }
   ],
   "source": [
    "day=reviews[reviews['date'].str.contains(r'day')]\n",
    "day"
   ]
  },
  {
   "cell_type": "code",
   "execution_count": 22,
   "id": "2e72255a",
   "metadata": {},
   "outputs": [
    {
     "data": {
      "text/html": [
       "<div>\n",
       "<style scoped>\n",
       "    .dataframe tbody tr th:only-of-type {\n",
       "        vertical-align: middle;\n",
       "    }\n",
       "\n",
       "    .dataframe tbody tr th {\n",
       "        vertical-align: top;\n",
       "    }\n",
       "\n",
       "    .dataframe thead th {\n",
       "        text-align: right;\n",
       "    }\n",
       "</style>\n",
       "<table border=\"1\" class=\"dataframe\">\n",
       "  <thead>\n",
       "    <tr style=\"text-align: right;\">\n",
       "      <th></th>\n",
       "      <th>date</th>\n",
       "      <th>rating_review</th>\n",
       "      <th>reviews</th>\n",
       "    </tr>\n",
       "  </thead>\n",
       "  <tbody>\n",
       "    <tr>\n",
       "      <th>1</th>\n",
       "      <td>2 week</td>\n",
       "      <td>40</td>\n",
       "      <td>Had to wait for a table but glad we did. The food was really good, mixture of locals and tourists but nice atmosphere. We has a good selection of tapas including calamari’s, mixed fried fish, iberico ham and beef with foie gras along with tomato bread. Bill for 2 with a beer 4 large glasses of white wine and water plus all the tapas was 58 euros. Good value for great quality food. Give it a try.</td>\n",
       "    </tr>\n",
       "    <tr>\n",
       "      <th>2</th>\n",
       "      <td>3 week</td>\n",
       "      <td>20</td>\n",
       "      <td>We went here on the last night of a 4 night trip to Barcelona and were very disappointed. We arrived early (so we didn't have to queue!)- sat in the back, annoyed the waiter by asking for water (tiniest bottles ever!) and ordered all of our faves- shrimp in garlic (good), tomato bread (average), tortilla (average), ham (good)....overall, I would definitely not go back. Felt super touristy and food was so very average- almost like cafeteria food! We had much better tapas at other places on our trip. Very disappointed for our last meal there. Don't get what all the hype is about!</td>\n",
       "    </tr>\n",
       "    <tr>\n",
       "      <th>3</th>\n",
       "      <td>3 week</td>\n",
       "      <td>50</td>\n",
       "      <td>Our hotel recommended this restaurant. It was fabulous! Great tapas at a very reasonable price. We were here twice and had different items each time. All were excellent! Nice atmosphere too. There’s usually a que, but well worth the wait!</td>\n",
       "    </tr>\n",
       "    <tr>\n",
       "      <th>4</th>\n",
       "      <td>4 week</td>\n",
       "      <td>50</td>\n",
       "      <td>Fantastic meal at Cervecería Catalana. Food was excellent, service good and really cool atmosphere. Great selection of tapas and reasonably priced. Highly recommend.</td>\n",
       "    </tr>\n",
       "  </tbody>\n",
       "</table>\n",
       "</div>"
      ],
      "text/plain": [
       "      date rating_review  \\\n",
       "1  2 week             40   \n",
       "2  3 week             20   \n",
       "3  3 week             50   \n",
       "4  4 week             50   \n",
       "\n",
       "                                                                                                                                                                                                                                                                                                                                                                                                                                                                                                                                                                                                    reviews  \n",
       "1                                                                                                                                                                                            Had to wait for a table but glad we did. The food was really good, mixture of locals and tourists but nice atmosphere. We has a good selection of tapas including calamari’s, mixed fried fish, iberico ham and beef with foie gras along with tomato bread. Bill for 2 with a beer 4 large glasses of white wine and water plus all the tapas was 58 euros. Good value for great quality food. Give it a try.  \n",
       "2  We went here on the last night of a 4 night trip to Barcelona and were very disappointed. We arrived early (so we didn't have to queue!)- sat in the back, annoyed the waiter by asking for water (tiniest bottles ever!) and ordered all of our faves- shrimp in garlic (good), tomato bread (average), tortilla (average), ham (good)....overall, I would definitely not go back. Felt super touristy and food was so very average- almost like cafeteria food! We had much better tapas at other places on our trip. Very disappointed for our last meal there. Don't get what all the hype is about!  \n",
       "3                                                                                                                                                                                                                                                                                                                                                            Our hotel recommended this restaurant. It was fabulous! Great tapas at a very reasonable price. We were here twice and had different items each time. All were excellent! Nice atmosphere too. There’s usually a que, but well worth the wait!  \n",
       "4                                                                                                                                                                                                                                                                                                                                                                                                                                     Fantastic meal at Cervecería Catalana. Food was excellent, service good and really cool atmosphere. Great selection of tapas and reasonably priced. Highly recommend.  "
      ]
     },
     "execution_count": 22,
     "metadata": {},
     "output_type": "execute_result"
    }
   ],
   "source": [
    "week=reviews[reviews['date'].str.contains(r'week')]\n",
    "week"
   ]
  },
  {
   "cell_type": "code",
   "execution_count": 23,
   "id": "8d5aa7e3",
   "metadata": {},
   "outputs": [
    {
     "data": {
      "text/html": [
       "<div>\n",
       "<style scoped>\n",
       "    .dataframe tbody tr th:only-of-type {\n",
       "        vertical-align: middle;\n",
       "    }\n",
       "\n",
       "    .dataframe tbody tr th {\n",
       "        vertical-align: top;\n",
       "    }\n",
       "\n",
       "    .dataframe thead th {\n",
       "        text-align: right;\n",
       "    }\n",
       "</style>\n",
       "<table border=\"1\" class=\"dataframe\">\n",
       "  <thead>\n",
       "    <tr style=\"text-align: right;\">\n",
       "      <th></th>\n",
       "      <th>date</th>\n",
       "      <th>rating_review</th>\n",
       "      <th>reviews</th>\n",
       "    </tr>\n",
       "  </thead>\n",
       "  <tbody>\n",
       "    <tr>\n",
       "      <th>0</th>\n",
       "      <td>7</td>\n",
       "      <td>50</td>\n",
       "      <td>This restaurant was recommended to us by our hotel. The atmosphere was lively and busy and the food was excellent, a good mix of standard tapas and \"fresh today\" dishes. Well priced and worth a visit.</td>\n",
       "    </tr>\n",
       "  </tbody>\n",
       "</table>\n",
       "</div>"
      ],
      "text/plain": [
       "  date rating_review  \\\n",
       "0   7             50   \n",
       "\n",
       "                                                                                                                                                                                                     reviews  \n",
       "0  This restaurant was recommended to us by our hotel. The atmosphere was lively and busy and the food was excellent, a good mix of standard tapas and \"fresh today\" dishes. Well priced and worth a visit.   "
      ]
     },
     "execution_count": 23,
     "metadata": {},
     "output_type": "execute_result"
    }
   ],
   "source": [
    "day['date'] = day['date'].replace(r' day', '', regex = True)\n",
    "day"
   ]
  },
  {
   "cell_type": "code",
   "execution_count": 24,
   "id": "2f6fbbca",
   "metadata": {},
   "outputs": [
    {
     "data": {
      "text/html": [
       "<div>\n",
       "<style scoped>\n",
       "    .dataframe tbody tr th:only-of-type {\n",
       "        vertical-align: middle;\n",
       "    }\n",
       "\n",
       "    .dataframe tbody tr th {\n",
       "        vertical-align: top;\n",
       "    }\n",
       "\n",
       "    .dataframe thead th {\n",
       "        text-align: right;\n",
       "    }\n",
       "</style>\n",
       "<table border=\"1\" class=\"dataframe\">\n",
       "  <thead>\n",
       "    <tr style=\"text-align: right;\">\n",
       "      <th></th>\n",
       "      <th>date</th>\n",
       "      <th>rating_review</th>\n",
       "      <th>reviews</th>\n",
       "    </tr>\n",
       "  </thead>\n",
       "  <tbody>\n",
       "    <tr>\n",
       "      <th>1</th>\n",
       "      <td>14</td>\n",
       "      <td>40</td>\n",
       "      <td>Had to wait for a table but glad we did. The food was really good, mixture of locals and tourists but nice atmosphere. We has a good selection of tapas including calamari’s, mixed fried fish, iberico ham and beef with foie gras along with tomato bread. Bill for 2 with a beer 4 large glasses of white wine and water plus all the tapas was 58 euros. Good value for great quality food. Give it a try.</td>\n",
       "    </tr>\n",
       "    <tr>\n",
       "      <th>2</th>\n",
       "      <td>21</td>\n",
       "      <td>20</td>\n",
       "      <td>We went here on the last night of a 4 night trip to Barcelona and were very disappointed. We arrived early (so we didn't have to queue!)- sat in the back, annoyed the waiter by asking for water (tiniest bottles ever!) and ordered all of our faves- shrimp in garlic (good), tomato bread (average), tortilla (average), ham (good)....overall, I would definitely not go back. Felt super touristy and food was so very average- almost like cafeteria food! We had much better tapas at other places on our trip. Very disappointed for our last meal there. Don't get what all the hype is about!</td>\n",
       "    </tr>\n",
       "    <tr>\n",
       "      <th>3</th>\n",
       "      <td>21</td>\n",
       "      <td>50</td>\n",
       "      <td>Our hotel recommended this restaurant. It was fabulous! Great tapas at a very reasonable price. We were here twice and had different items each time. All were excellent! Nice atmosphere too. There’s usually a que, but well worth the wait!</td>\n",
       "    </tr>\n",
       "    <tr>\n",
       "      <th>4</th>\n",
       "      <td>28</td>\n",
       "      <td>50</td>\n",
       "      <td>Fantastic meal at Cervecería Catalana. Food was excellent, service good and really cool atmosphere. Great selection of tapas and reasonably priced. Highly recommend.</td>\n",
       "    </tr>\n",
       "  </tbody>\n",
       "</table>\n",
       "</div>"
      ],
      "text/plain": [
       "   date rating_review  \\\n",
       "1    14            40   \n",
       "2    21            20   \n",
       "3    21            50   \n",
       "4    28            50   \n",
       "\n",
       "                                                                                                                                                                                                                                                                                                                                                                                                                                                                                                                                                                                                    reviews  \n",
       "1                                                                                                                                                                                            Had to wait for a table but glad we did. The food was really good, mixture of locals and tourists but nice atmosphere. We has a good selection of tapas including calamari’s, mixed fried fish, iberico ham and beef with foie gras along with tomato bread. Bill for 2 with a beer 4 large glasses of white wine and water plus all the tapas was 58 euros. Good value for great quality food. Give it a try.  \n",
       "2  We went here on the last night of a 4 night trip to Barcelona and were very disappointed. We arrived early (so we didn't have to queue!)- sat in the back, annoyed the waiter by asking for water (tiniest bottles ever!) and ordered all of our faves- shrimp in garlic (good), tomato bread (average), tortilla (average), ham (good)....overall, I would definitely not go back. Felt super touristy and food was so very average- almost like cafeteria food! We had much better tapas at other places on our trip. Very disappointed for our last meal there. Don't get what all the hype is about!  \n",
       "3                                                                                                                                                                                                                                                                                                                                                            Our hotel recommended this restaurant. It was fabulous! Great tapas at a very reasonable price. We were here twice and had different items each time. All were excellent! Nice atmosphere too. There’s usually a que, but well worth the wait!  \n",
       "4                                                                                                                                                                                                                                                                                                                                                                                                                                     Fantastic meal at Cervecería Catalana. Food was excellent, service good and really cool atmosphere. Great selection of tapas and reasonably priced. Highly recommend.  "
      ]
     },
     "execution_count": 24,
     "metadata": {},
     "output_type": "execute_result"
    }
   ],
   "source": [
    "week['date']=week['date'].replace(r' week','',regex = True)\n",
    "week['date']=week['date'].astype(int)\n",
    "week['date']=week['date']*7\n",
    "week"
   ]
  },
  {
   "cell_type": "code",
   "execution_count": 25,
   "id": "dbfe280c",
   "metadata": {
    "scrolled": true
   },
   "outputs": [
    {
     "data": {
      "text/html": [
       "<div>\n",
       "<style scoped>\n",
       "    .dataframe tbody tr th:only-of-type {\n",
       "        vertical-align: middle;\n",
       "    }\n",
       "\n",
       "    .dataframe tbody tr th {\n",
       "        vertical-align: top;\n",
       "    }\n",
       "\n",
       "    .dataframe thead th {\n",
       "        text-align: right;\n",
       "    }\n",
       "</style>\n",
       "<table border=\"1\" class=\"dataframe\">\n",
       "  <thead>\n",
       "    <tr style=\"text-align: right;\">\n",
       "      <th></th>\n",
       "      <th>date</th>\n",
       "      <th>rating_review</th>\n",
       "      <th>reviews</th>\n",
       "    </tr>\n",
       "  </thead>\n",
       "  <tbody>\n",
       "    <tr>\n",
       "      <th>0</th>\n",
       "      <td>7</td>\n",
       "      <td>50</td>\n",
       "      <td>This restaurant was recommended to us by our hotel. The atmosphere was lively and busy and the food was excellent, a good mix of standard tapas and \"fresh today\" dishes. Well priced and worth a visit.</td>\n",
       "    </tr>\n",
       "    <tr>\n",
       "      <th>1</th>\n",
       "      <td>14</td>\n",
       "      <td>40</td>\n",
       "      <td>Had to wait for a table but glad we did. The food was really good, mixture of locals and tourists but nice atmosphere. We has a good selection of tapas including calamari’s, mixed fried fish, iberico ham and beef with foie gras along with tomato bread. Bill for 2 with a beer 4 large glasses of white wine and water plus all the tapas was 58 euros. Good value for great quality food. Give it a try.</td>\n",
       "    </tr>\n",
       "    <tr>\n",
       "      <th>2</th>\n",
       "      <td>21</td>\n",
       "      <td>20</td>\n",
       "      <td>We went here on the last night of a 4 night trip to Barcelona and were very disappointed. We arrived early (so we didn't have to queue!)- sat in the back, annoyed the waiter by asking for water (tiniest bottles ever!) and ordered all of our faves- shrimp in garlic (good), tomato bread (average), tortilla (average), ham (good)....overall, I would definitely not go back. Felt super touristy and food was so very average- almost like cafeteria food! We had much better tapas at other places on our trip. Very disappointed for our last meal there. Don't get what all the hype is about!</td>\n",
       "    </tr>\n",
       "    <tr>\n",
       "      <th>3</th>\n",
       "      <td>21</td>\n",
       "      <td>50</td>\n",
       "      <td>Our hotel recommended this restaurant. It was fabulous! Great tapas at a very reasonable price. We were here twice and had different items each time. All were excellent! Nice atmosphere too. There’s usually a que, but well worth the wait!</td>\n",
       "    </tr>\n",
       "    <tr>\n",
       "      <th>4</th>\n",
       "      <td>28</td>\n",
       "      <td>50</td>\n",
       "      <td>Fantastic meal at Cervecería Catalana. Food was excellent, service good and really cool atmosphere. Great selection of tapas and reasonably priced. Highly recommend.</td>\n",
       "    </tr>\n",
       "  </tbody>\n",
       "</table>\n",
       "</div>"
      ],
      "text/plain": [
       "  date rating_review  \\\n",
       "0   7             50   \n",
       "1   14            40   \n",
       "2   21            20   \n",
       "3   21            50   \n",
       "4   28            50   \n",
       "\n",
       "                                                                                                                                                                                                                                                                                                                                                                                                                                                                                                                                                                                                    reviews  \n",
       "0                                                                                                                                                                                                                                                                                                                                                                                                 This restaurant was recommended to us by our hotel. The atmosphere was lively and busy and the food was excellent, a good mix of standard tapas and \"fresh today\" dishes. Well priced and worth a visit.   \n",
       "1                                                                                                                                                                                            Had to wait for a table but glad we did. The food was really good, mixture of locals and tourists but nice atmosphere. We has a good selection of tapas including calamari’s, mixed fried fish, iberico ham and beef with foie gras along with tomato bread. Bill for 2 with a beer 4 large glasses of white wine and water plus all the tapas was 58 euros. Good value for great quality food. Give it a try.  \n",
       "2  We went here on the last night of a 4 night trip to Barcelona and were very disappointed. We arrived early (so we didn't have to queue!)- sat in the back, annoyed the waiter by asking for water (tiniest bottles ever!) and ordered all of our faves- shrimp in garlic (good), tomato bread (average), tortilla (average), ham (good)....overall, I would definitely not go back. Felt super touristy and food was so very average- almost like cafeteria food! We had much better tapas at other places on our trip. Very disappointed for our last meal there. Don't get what all the hype is about!  \n",
       "3                                                                                                                                                                                                                                                                                                                                                            Our hotel recommended this restaurant. It was fabulous! Great tapas at a very reasonable price. We were here twice and had different items each time. All were excellent! Nice atmosphere too. There’s usually a que, but well worth the wait!  \n",
       "4                                                                                                                                                                                                                                                                                                                                                                                                                                     Fantastic meal at Cervecería Catalana. Food was excellent, service good and really cool atmosphere. Great selection of tapas and reasonably priced. Highly recommend.  "
      ]
     },
     "execution_count": 25,
     "metadata": {},
     "output_type": "execute_result"
    }
   ],
   "source": [
    "dayweek=pd.concat([day, week], ignore_index=True)\n",
    "dayweek"
   ]
  },
  {
   "cell_type": "code",
   "execution_count": 26,
   "id": "500b36ed",
   "metadata": {},
   "outputs": [
    {
     "data": {
      "text/plain": [
       "dtype('O')"
      ]
     },
     "execution_count": 26,
     "metadata": {},
     "output_type": "execute_result"
    }
   ],
   "source": [
    "dayweek['date'].dtype"
   ]
  },
  {
   "cell_type": "code",
   "execution_count": 27,
   "id": "f4c90c59",
   "metadata": {
    "scrolled": false
   },
   "outputs": [],
   "source": [
    "dw=dayweek['date'].astype(int)"
   ]
  },
  {
   "cell_type": "code",
   "execution_count": 28,
   "id": "b0fbee3b",
   "metadata": {},
   "outputs": [
    {
     "data": {
      "text/plain": [
       "0     7\n",
       "1    14\n",
       "2    21\n",
       "3    21\n",
       "4    28\n",
       "Name: date, dtype: int32"
      ]
     },
     "execution_count": 28,
     "metadata": {},
     "output_type": "execute_result"
    }
   ],
   "source": [
    "dw"
   ]
  },
  {
   "cell_type": "code",
   "execution_count": 29,
   "id": "65332053",
   "metadata": {},
   "outputs": [
    {
     "data": {
      "text/html": [
       "<div>\n",
       "<style scoped>\n",
       "    .dataframe tbody tr th:only-of-type {\n",
       "        vertical-align: middle;\n",
       "    }\n",
       "\n",
       "    .dataframe tbody tr th {\n",
       "        vertical-align: top;\n",
       "    }\n",
       "\n",
       "    .dataframe thead th {\n",
       "        text-align: right;\n",
       "    }\n",
       "</style>\n",
       "<table border=\"1\" class=\"dataframe\">\n",
       "  <thead>\n",
       "    <tr style=\"text-align: right;\">\n",
       "      <th></th>\n",
       "      <th>date</th>\n",
       "      <th>rating_review</th>\n",
       "      <th>reviews</th>\n",
       "    </tr>\n",
       "  </thead>\n",
       "  <tbody>\n",
       "    <tr>\n",
       "      <th>0</th>\n",
       "      <td>10-03-2022</td>\n",
       "      <td>50</td>\n",
       "      <td>This restaurant was recommended to us by our hotel. The atmosphere was lively and busy and the food was excellent, a good mix of standard tapas and \"fresh today\" dishes. Well priced and worth a visit.</td>\n",
       "    </tr>\n",
       "    <tr>\n",
       "      <th>1</th>\n",
       "      <td>03-03-2022</td>\n",
       "      <td>40</td>\n",
       "      <td>Had to wait for a table but glad we did. The food was really good, mixture of locals and tourists but nice atmosphere. We has a good selection of tapas including calamari’s, mixed fried fish, iberico ham and beef with foie gras along with tomato bread. Bill for 2 with a beer 4 large glasses of white wine and water plus all the tapas was 58 euros. Good value for great quality food. Give it a try.</td>\n",
       "    </tr>\n",
       "    <tr>\n",
       "      <th>2</th>\n",
       "      <td>24-02-2022</td>\n",
       "      <td>20</td>\n",
       "      <td>We went here on the last night of a 4 night trip to Barcelona and were very disappointed. We arrived early (so we didn't have to queue!)- sat in the back, annoyed the waiter by asking for water (tiniest bottles ever!) and ordered all of our faves- shrimp in garlic (good), tomato bread (average), tortilla (average), ham (good)....overall, I would definitely not go back. Felt super touristy and food was so very average- almost like cafeteria food! We had much better tapas at other places on our trip. Very disappointed for our last meal there. Don't get what all the hype is about!</td>\n",
       "    </tr>\n",
       "    <tr>\n",
       "      <th>3</th>\n",
       "      <td>24-02-2022</td>\n",
       "      <td>50</td>\n",
       "      <td>Our hotel recommended this restaurant. It was fabulous! Great tapas at a very reasonable price. We were here twice and had different items each time. All were excellent! Nice atmosphere too. There’s usually a que, but well worth the wait!</td>\n",
       "    </tr>\n",
       "    <tr>\n",
       "      <th>4</th>\n",
       "      <td>17-02-2022</td>\n",
       "      <td>50</td>\n",
       "      <td>Fantastic meal at Cervecería Catalana. Food was excellent, service good and really cool atmosphere. Great selection of tapas and reasonably priced. Highly recommend.</td>\n",
       "    </tr>\n",
       "  </tbody>\n",
       "</table>\n",
       "</div>"
      ],
      "text/plain": [
       "         date rating_review  \\\n",
       "0  10-03-2022            50   \n",
       "1  03-03-2022            40   \n",
       "2  24-02-2022            20   \n",
       "3  24-02-2022            50   \n",
       "4  17-02-2022            50   \n",
       "\n",
       "                                                                                                                                                                                                                                                                                                                                                                                                                                                                                                                                                                                                    reviews  \n",
       "0                                                                                                                                                                                                                                                                                                                                                                                                 This restaurant was recommended to us by our hotel. The atmosphere was lively and busy and the food was excellent, a good mix of standard tapas and \"fresh today\" dishes. Well priced and worth a visit.   \n",
       "1                                                                                                                                                                                            Had to wait for a table but glad we did. The food was really good, mixture of locals and tourists but nice atmosphere. We has a good selection of tapas including calamari’s, mixed fried fish, iberico ham and beef with foie gras along with tomato bread. Bill for 2 with a beer 4 large glasses of white wine and water plus all the tapas was 58 euros. Good value for great quality food. Give it a try.  \n",
       "2  We went here on the last night of a 4 night trip to Barcelona and were very disappointed. We arrived early (so we didn't have to queue!)- sat in the back, annoyed the waiter by asking for water (tiniest bottles ever!) and ordered all of our faves- shrimp in garlic (good), tomato bread (average), tortilla (average), ham (good)....overall, I would definitely not go back. Felt super touristy and food was so very average- almost like cafeteria food! We had much better tapas at other places on our trip. Very disappointed for our last meal there. Don't get what all the hype is about!  \n",
       "3                                                                                                                                                                                                                                                                                                                                                            Our hotel recommended this restaurant. It was fabulous! Great tapas at a very reasonable price. We were here twice and had different items each time. All were excellent! Nice atmosphere too. There’s usually a que, but well worth the wait!  \n",
       "4                                                                                                                                                                                                                                                                                                                                                                                                                                     Fantastic meal at Cervecería Catalana. Food was excellent, service good and really cool atmosphere. Great selection of tapas and reasonably priced. Highly recommend.  "
      ]
     },
     "execution_count": 29,
     "metadata": {},
     "output_type": "execute_result"
    }
   ],
   "source": [
    "#We import the datetime library to get the current time to calculate the date from the string.\n",
    "\n",
    "import datetime\n",
    "\n",
    "today = datetime.date.today()\n",
    "listdw=[]\n",
    "\n",
    "for i in dw:\n",
    "    original_date = today - datetime.timedelta(days=i)\n",
    "    formatted_date = original_date.strftime(\"%d-%m-%Y\")\n",
    "    listdw.append(formatted_date)\n",
    "    \n",
    "dayweek['date'] = listdw\n",
    "dayweek"
   ]
  },
  {
   "cell_type": "code",
   "execution_count": 30,
   "id": "bbbe8c5c",
   "metadata": {},
   "outputs": [
    {
     "data": {
      "text/html": [
       "<div>\n",
       "<style scoped>\n",
       "    .dataframe tbody tr th:only-of-type {\n",
       "        vertical-align: middle;\n",
       "    }\n",
       "\n",
       "    .dataframe tbody tr th {\n",
       "        vertical-align: top;\n",
       "    }\n",
       "\n",
       "    .dataframe thead th {\n",
       "        text-align: right;\n",
       "    }\n",
       "</style>\n",
       "<table border=\"1\" class=\"dataframe\">\n",
       "  <thead>\n",
       "    <tr style=\"text-align: right;\">\n",
       "      <th></th>\n",
       "      <th>date</th>\n",
       "      <th>rating_review</th>\n",
       "      <th>reviews</th>\n",
       "    </tr>\n",
       "  </thead>\n",
       "  <tbody>\n",
       "    <tr>\n",
       "      <th>5</th>\n",
       "      <td>7-02-2022</td>\n",
       "      <td>50</td>\n",
       "      <td>I’d seen the reviews online and had a friend recommendation to try here and I’m glad I did! The garlic prawns with tomato bread were the best! I also had some ham/cheese tapas, a beer and finished with some churos. It was 25 euros so well worth it. Would definitely go back! The inside is more bright and modern than I was expecting but it had a nice atmosphere and great food.</td>\n",
       "    </tr>\n",
       "    <tr>\n",
       "      <th>6</th>\n",
       "      <td>29-01-2022</td>\n",
       "      <td>50</td>\n",
       "      <td>That’s an excellent place. High quality small dishes, with a very wide offer. It is always full, you need to queue. Go with plenty of time. The atmosphere is great, service is fast and prices are reasonable. You can have a taste of the local cuisine with several small dishes. You will not go there only once.</td>\n",
       "    </tr>\n",
       "    <tr>\n",
       "      <th>7</th>\n",
       "      <td>25-01-2022</td>\n",
       "      <td>50</td>\n",
       "      <td>We found this restaurant by chance and we loved it! Very good place with quality food and very good treatment by the waiters. For dessert I ordered the crema catalana and it is the best I've ever tasted, it was only 2.95 euros, amazing!</td>\n",
       "    </tr>\n",
       "    <tr>\n",
       "      <th>8</th>\n",
       "      <td>20-01-2022</td>\n",
       "      <td>50</td>\n",
       "      <td>The Cerveceria Catalana was simply 5 Stars in any category. The Tapas were outstanding. The service was outstanding. And the prices were excellent. We were in Barcelona 2 nights and ate there both nights. We really enjoyed our experience.</td>\n",
       "    </tr>\n",
       "    <tr>\n",
       "      <th>9</th>\n",
       "      <td>29-12-2021</td>\n",
       "      <td>40</td>\n",
       "      <td>Great ' classic' tapas, almost all dished we ordered were amazing. Food comes very quickly, best to not order too much at the same time. Staff is friendly, however can appear a bit rushed as this place seems to have a waiting line outside most of the time. But really a must-try!</td>\n",
       "    </tr>\n",
       "    <tr>\n",
       "      <th>...</th>\n",
       "      <td>...</td>\n",
       "      <td>...</td>\n",
       "      <td>...</td>\n",
       "    </tr>\n",
       "    <tr>\n",
       "      <th>5435</th>\n",
       "      <td>6-01-2008</td>\n",
       "      <td>40</td>\n",
       "      <td>Next to the shops, but very different from the turist traps you find everywhere. Service is good and fast, the place is cosy and food - yummy! The best dish (tapas) was the one that had fish and cheese in a pepper. So good I need to get there again!</td>\n",
       "    </tr>\n",
       "    <tr>\n",
       "      <th>5436</th>\n",
       "      <td>28-12-2007</td>\n",
       "      <td>30</td>\n",
       "      <td>Good tapas and always busy. Local place</td>\n",
       "    </tr>\n",
       "    <tr>\n",
       "      <th>5437</th>\n",
       "      <td>24-12-2007</td>\n",
       "      <td>50</td>\n",
       "      <td>everytime that I´m visiting Barcelona, got to go!</td>\n",
       "    </tr>\n",
       "    <tr>\n",
       "      <th>5438</th>\n",
       "      <td>21-12-2007</td>\n",
       "      <td>40</td>\n",
       "      <td>Very well known for the business men-women. It's always plenty of 25-30 years old people after day-working!</td>\n",
       "    </tr>\n",
       "    <tr>\n",
       "      <th>5439</th>\n",
       "      <td>12-12-2007</td>\n",
       "      <td>50</td>\n",
       "      <td>one of my favourite tapas bar</td>\n",
       "    </tr>\n",
       "  </tbody>\n",
       "</table>\n",
       "<p>5435 rows × 3 columns</p>\n",
       "</div>"
      ],
      "text/plain": [
       "             date rating_review  \\\n",
       "5      7-02-2022             50   \n",
       "6     29-01-2022             50   \n",
       "7     25-01-2022             50   \n",
       "8     20-01-2022             50   \n",
       "9     29-12-2021             40   \n",
       "...           ...           ...   \n",
       "5435   6-01-2008             40   \n",
       "5436  28-12-2007             30   \n",
       "5437  24-12-2007             50   \n",
       "5438  21-12-2007             40   \n",
       "5439  12-12-2007             50   \n",
       "\n",
       "                                                                                                                                                                                                                                                                                                                                                                                        reviews  \n",
       "5     I’d seen the reviews online and had a friend recommendation to try here and I’m glad I did! The garlic prawns with tomato bread were the best! I also had some ham/cheese tapas, a beer and finished with some churos. It was 25 euros so well worth it. Would definitely go back! The inside is more bright and modern than I was expecting but it had a nice atmosphere and great food.  \n",
       "6                                                                         That’s an excellent place. High quality small dishes, with a very wide offer. It is always full, you need to queue. Go with plenty of time. The atmosphere is great, service is fast and prices are reasonable. You can have a taste of the local cuisine with several small dishes. You will not go there only once.  \n",
       "7                                                                                                                                                  We found this restaurant by chance and we loved it! Very good place with quality food and very good treatment by the waiters. For dessert I ordered the crema catalana and it is the best I've ever tasted, it was only 2.95 euros, amazing!  \n",
       "8                                                                                                                                                The Cerveceria Catalana was simply 5 Stars in any category. The Tapas were outstanding. The service was outstanding. And the prices were excellent. We were in Barcelona 2 nights and ate there both nights. We really enjoyed our experience.  \n",
       "9                                                                                                       Great ' classic' tapas, almost all dished we ordered were amazing. Food comes very quickly, best to not order too much at the same time. Staff is friendly, however can appear a bit rushed as this place seems to have a waiting line outside most of the time. But really a must-try!  \n",
       "...                                                                                                                                                                                                                                                                                                                                                                                         ...  \n",
       "5435                                                                                                                                  Next to the shops, but very different from the turist traps you find everywhere. Service is good and fast, the place is cosy and food - yummy! The best dish (tapas) was the one that had fish and cheese in a pepper. So good I need to get there again!  \n",
       "5436                                                                                                                                                                                                                                                                                                                                                    Good tapas and always busy. Local place  \n",
       "5437                                                                                                                                                                                                                                                                                                                                          everytime that I´m visiting Barcelona, got to go!  \n",
       "5438                                                                                                                                                                                                                                                                                Very well known for the business men-women. It's always plenty of 25-30 years old people after day-working!  \n",
       "5439                                                                                                                                                                                                                                                                                                                                                              one of my favourite tapas bar  \n",
       "\n",
       "[5435 rows x 3 columns]"
      ]
     },
     "execution_count": 30,
     "metadata": {},
     "output_type": "execute_result"
    }
   ],
   "source": [
    "rest_dayweek=reviews[~reviews['date'].str.contains(r'day|week')]\n",
    "rest_dayweek"
   ]
  },
  {
   "cell_type": "code",
   "execution_count": 31,
   "id": "da94d7be",
   "metadata": {},
   "outputs": [
    {
     "data": {
      "text/plain": [
       "dtype('O')"
      ]
     },
     "execution_count": 31,
     "metadata": {},
     "output_type": "execute_result"
    }
   ],
   "source": [
    "rest_dayweek['date'].dtypes"
   ]
  },
  {
   "cell_type": "code",
   "execution_count": 32,
   "id": "424a8f25",
   "metadata": {},
   "outputs": [
    {
     "data": {
      "text/plain": [
       "dtype('O')"
      ]
     },
     "execution_count": 32,
     "metadata": {},
     "output_type": "execute_result"
    }
   ],
   "source": [
    "dayweek['date'].dtypes"
   ]
  },
  {
   "cell_type": "code",
   "execution_count": 33,
   "id": "fdb0167b",
   "metadata": {},
   "outputs": [
    {
     "data": {
      "text/html": [
       "<div>\n",
       "<style scoped>\n",
       "    .dataframe tbody tr th:only-of-type {\n",
       "        vertical-align: middle;\n",
       "    }\n",
       "\n",
       "    .dataframe tbody tr th {\n",
       "        vertical-align: top;\n",
       "    }\n",
       "\n",
       "    .dataframe thead th {\n",
       "        text-align: right;\n",
       "    }\n",
       "</style>\n",
       "<table border=\"1\" class=\"dataframe\">\n",
       "  <thead>\n",
       "    <tr style=\"text-align: right;\">\n",
       "      <th></th>\n",
       "      <th>date</th>\n",
       "      <th>rating_review</th>\n",
       "      <th>reviews</th>\n",
       "    </tr>\n",
       "  </thead>\n",
       "  <tbody>\n",
       "    <tr>\n",
       "      <th>0</th>\n",
       "      <td>10-03-2022</td>\n",
       "      <td>50</td>\n",
       "      <td>This restaurant was recommended to us by our hotel. The atmosphere was lively and busy and the food was excellent, a good mix of standard tapas and \"fresh today\" dishes. Well priced and worth a visit.</td>\n",
       "    </tr>\n",
       "    <tr>\n",
       "      <th>1</th>\n",
       "      <td>03-03-2022</td>\n",
       "      <td>40</td>\n",
       "      <td>Had to wait for a table but glad we did. The food was really good, mixture of locals and tourists but nice atmosphere. We has a good selection of tapas including calamari’s, mixed fried fish, iberico ham and beef with foie gras along with tomato bread. Bill for 2 with a beer 4 large glasses of white wine and water plus all the tapas was 58 euros. Good value for great quality food. Give it a try.</td>\n",
       "    </tr>\n",
       "    <tr>\n",
       "      <th>2</th>\n",
       "      <td>24-02-2022</td>\n",
       "      <td>20</td>\n",
       "      <td>We went here on the last night of a 4 night trip to Barcelona and were very disappointed. We arrived early (so we didn't have to queue!)- sat in the back, annoyed the waiter by asking for water (tiniest bottles ever!) and ordered all of our faves- shrimp in garlic (good), tomato bread (average), tortilla (average), ham (good)....overall, I would definitely not go back. Felt super touristy and food was so very average- almost like cafeteria food! We had much better tapas at other places on our trip. Very disappointed for our last meal there. Don't get what all the hype is about!</td>\n",
       "    </tr>\n",
       "    <tr>\n",
       "      <th>3</th>\n",
       "      <td>24-02-2022</td>\n",
       "      <td>50</td>\n",
       "      <td>Our hotel recommended this restaurant. It was fabulous! Great tapas at a very reasonable price. We were here twice and had different items each time. All were excellent! Nice atmosphere too. There’s usually a que, but well worth the wait!</td>\n",
       "    </tr>\n",
       "    <tr>\n",
       "      <th>4</th>\n",
       "      <td>17-02-2022</td>\n",
       "      <td>50</td>\n",
       "      <td>Fantastic meal at Cervecería Catalana. Food was excellent, service good and really cool atmosphere. Great selection of tapas and reasonably priced. Highly recommend.</td>\n",
       "    </tr>\n",
       "    <tr>\n",
       "      <th>...</th>\n",
       "      <td>...</td>\n",
       "      <td>...</td>\n",
       "      <td>...</td>\n",
       "    </tr>\n",
       "    <tr>\n",
       "      <th>5435</th>\n",
       "      <td>6-01-2008</td>\n",
       "      <td>40</td>\n",
       "      <td>Next to the shops, but very different from the turist traps you find everywhere. Service is good and fast, the place is cosy and food - yummy! The best dish (tapas) was the one that had fish and cheese in a pepper. So good I need to get there again!</td>\n",
       "    </tr>\n",
       "    <tr>\n",
       "      <th>5436</th>\n",
       "      <td>28-12-2007</td>\n",
       "      <td>30</td>\n",
       "      <td>Good tapas and always busy. Local place</td>\n",
       "    </tr>\n",
       "    <tr>\n",
       "      <th>5437</th>\n",
       "      <td>24-12-2007</td>\n",
       "      <td>50</td>\n",
       "      <td>everytime that I´m visiting Barcelona, got to go!</td>\n",
       "    </tr>\n",
       "    <tr>\n",
       "      <th>5438</th>\n",
       "      <td>21-12-2007</td>\n",
       "      <td>40</td>\n",
       "      <td>Very well known for the business men-women. It's always plenty of 25-30 years old people after day-working!</td>\n",
       "    </tr>\n",
       "    <tr>\n",
       "      <th>5439</th>\n",
       "      <td>12-12-2007</td>\n",
       "      <td>50</td>\n",
       "      <td>one of my favourite tapas bar</td>\n",
       "    </tr>\n",
       "  </tbody>\n",
       "</table>\n",
       "<p>5440 rows × 3 columns</p>\n",
       "</div>"
      ],
      "text/plain": [
       "             date rating_review  \\\n",
       "0      10-03-2022            50   \n",
       "1      03-03-2022            40   \n",
       "2      24-02-2022            20   \n",
       "3      24-02-2022            50   \n",
       "4      17-02-2022            50   \n",
       "...           ...           ...   \n",
       "5435   6-01-2008             40   \n",
       "5436  28-12-2007             30   \n",
       "5437  24-12-2007             50   \n",
       "5438  21-12-2007             40   \n",
       "5439  12-12-2007             50   \n",
       "\n",
       "                                                                                                                                                                                                                                                                                                                                                                                                                                                                                                                                                                                                       reviews  \n",
       "0                                                                                                                                                                                                                                                                                                                                                                                                    This restaurant was recommended to us by our hotel. The atmosphere was lively and busy and the food was excellent, a good mix of standard tapas and \"fresh today\" dishes. Well priced and worth a visit.   \n",
       "1                                                                                                                                                                                               Had to wait for a table but glad we did. The food was really good, mixture of locals and tourists but nice atmosphere. We has a good selection of tapas including calamari’s, mixed fried fish, iberico ham and beef with foie gras along with tomato bread. Bill for 2 with a beer 4 large glasses of white wine and water plus all the tapas was 58 euros. Good value for great quality food. Give it a try.  \n",
       "2     We went here on the last night of a 4 night trip to Barcelona and were very disappointed. We arrived early (so we didn't have to queue!)- sat in the back, annoyed the waiter by asking for water (tiniest bottles ever!) and ordered all of our faves- shrimp in garlic (good), tomato bread (average), tortilla (average), ham (good)....overall, I would definitely not go back. Felt super touristy and food was so very average- almost like cafeteria food! We had much better tapas at other places on our trip. Very disappointed for our last meal there. Don't get what all the hype is about!  \n",
       "3                                                                                                                                                                                                                                                                                                                                                               Our hotel recommended this restaurant. It was fabulous! Great tapas at a very reasonable price. We were here twice and had different items each time. All were excellent! Nice atmosphere too. There’s usually a que, but well worth the wait!  \n",
       "4                                                                                                                                                                                                                                                                                                                                                                                                                                        Fantastic meal at Cervecería Catalana. Food was excellent, service good and really cool atmosphere. Great selection of tapas and reasonably priced. Highly recommend.  \n",
       "...                                                                                                                                                                                                                                                                                                                                                                                                                                                                                                                                                                                                        ...  \n",
       "5435                                                                                                                                                                                                                                                                                                                                                 Next to the shops, but very different from the turist traps you find everywhere. Service is good and fast, the place is cosy and food - yummy! The best dish (tapas) was the one that had fish and cheese in a pepper. So good I need to get there again!  \n",
       "5436                                                                                                                                                                                                                                                                                                                                                                                                                                                                                                                                                                   Good tapas and always busy. Local place  \n",
       "5437                                                                                                                                                                                                                                                                                                                                                                                                                                                                                                                                                         everytime that I´m visiting Barcelona, got to go!  \n",
       "5438                                                                                                                                                                                                                                                                                                                                                                                                                                                                                               Very well known for the business men-women. It's always plenty of 25-30 years old people after day-working!  \n",
       "5439                                                                                                                                                                                                                                                                                                                                                                                                                                                                                                                                                                             one of my favourite tapas bar  \n",
       "\n",
       "[5440 rows x 3 columns]"
      ]
     },
     "execution_count": 33,
     "metadata": {},
     "output_type": "execute_result"
    }
   ],
   "source": [
    "#After some steps dealing with the datetime, we concat the dataframes created to get again a unique dataframe. \n",
    "\n",
    "review_final=pd.concat([dayweek, rest_dayweek], axis=0)\n",
    "review_final"
   ]
  },
  {
   "cell_type": "code",
   "execution_count": null,
   "id": "f07d9f41",
   "metadata": {},
   "outputs": [],
   "source": [
    "#Transform the rating column to number and we diveded by 10 to visualize as a float\n",
    "\n",
    "review_final['rating_review']=review_final['rating_review'].astype(int)\n",
    "review_final['rating_review']=review_final['rating_review']/10\n",
    "review_final"
   ]
  },
  {
   "cell_type": "markdown",
   "id": "e579b20d",
   "metadata": {},
   "source": [
    "# SENTIMENT ANALYSIS"
   ]
  },
  {
   "cell_type": "code",
   "execution_count": 35,
   "id": "d408f52b",
   "metadata": {},
   "outputs": [
    {
     "data": {
      "text/html": [
       "<div>\n",
       "<style scoped>\n",
       "    .dataframe tbody tr th:only-of-type {\n",
       "        vertical-align: middle;\n",
       "    }\n",
       "\n",
       "    .dataframe tbody tr th {\n",
       "        vertical-align: top;\n",
       "    }\n",
       "\n",
       "    .dataframe thead th {\n",
       "        text-align: right;\n",
       "    }\n",
       "</style>\n",
       "<table border=\"1\" class=\"dataframe\">\n",
       "  <thead>\n",
       "    <tr style=\"text-align: right;\">\n",
       "      <th></th>\n",
       "      <th>date</th>\n",
       "      <th>rating_review</th>\n",
       "      <th>reviews</th>\n",
       "      <th>polarity_score</th>\n",
       "      <th>subjectivity_score</th>\n",
       "    </tr>\n",
       "  </thead>\n",
       "  <tbody>\n",
       "    <tr>\n",
       "      <th>0</th>\n",
       "      <td>10-03-2022</td>\n",
       "      <td>50</td>\n",
       "      <td>This restaurant was recommended to us by our hotel. The atmosphere was lively and busy and the food was excellent, a good mix of standard tapas and \"fresh today\" dishes. Well priced and worth a visit.</td>\n",
       "      <td>0.362338</td>\n",
       "      <td>0.428571</td>\n",
       "    </tr>\n",
       "    <tr>\n",
       "      <th>1</th>\n",
       "      <td>03-03-2022</td>\n",
       "      <td>40</td>\n",
       "      <td>Had to wait for a table but glad we did. The food was really good, mixture of locals and tourists but nice atmosphere. We has a good selection of tapas including calamari’s, mixed fried fish, iberico ham and beef with foie gras along with tomato bread. Bill for 2 with a beer 4 large glasses of white wine and water plus all the tapas was 58 euros. Good value for great quality food. Give it a try.</td>\n",
       "      <td>0.468254</td>\n",
       "      <td>0.580952</td>\n",
       "    </tr>\n",
       "    <tr>\n",
       "      <th>2</th>\n",
       "      <td>24-02-2022</td>\n",
       "      <td>20</td>\n",
       "      <td>We went here on the last night of a 4 night trip to Barcelona and were very disappointed. We arrived early (so we didn't have to queue!)- sat in the back, annoyed the waiter by asking for water (tiniest bottles ever!) and ordered all of our faves- shrimp in garlic (good), tomato bread (average), tortilla (average), ham (good)....overall, I would definitely not go back. Felt super touristy and food was so very average- almost like cafeteria food! We had much better tapas at other places on our trip. Very disappointed for our last meal there. Don't get what all the hype is about!</td>\n",
       "      <td>-0.097361</td>\n",
       "      <td>0.443000</td>\n",
       "    </tr>\n",
       "    <tr>\n",
       "      <th>3</th>\n",
       "      <td>24-02-2022</td>\n",
       "      <td>50</td>\n",
       "      <td>Our hotel recommended this restaurant. It was fabulous! Great tapas at a very reasonable price. We were here twice and had different items each time. All were excellent! Nice atmosphere too. There’s usually a que, but well worth the wait!</td>\n",
       "      <td>0.410625</td>\n",
       "      <td>0.685000</td>\n",
       "    </tr>\n",
       "    <tr>\n",
       "      <th>4</th>\n",
       "      <td>17-02-2022</td>\n",
       "      <td>50</td>\n",
       "      <td>Fantastic meal at Cervecería Catalana. Food was excellent, service good and really cool atmosphere. Great selection of tapas and reasonably priced. Highly recommend.</td>\n",
       "      <td>0.515714</td>\n",
       "      <td>0.720000</td>\n",
       "    </tr>\n",
       "    <tr>\n",
       "      <th>...</th>\n",
       "      <td>...</td>\n",
       "      <td>...</td>\n",
       "      <td>...</td>\n",
       "      <td>...</td>\n",
       "      <td>...</td>\n",
       "    </tr>\n",
       "    <tr>\n",
       "      <th>5435</th>\n",
       "      <td>6-01-2008</td>\n",
       "      <td>40</td>\n",
       "      <td>Next to the shops, but very different from the turist traps you find everywhere. Service is good and fast, the place is cosy and food - yummy! The best dish (tapas) was the one that had fish and cheese in a pepper. So good I need to get there again!</td>\n",
       "      <td>0.470833</td>\n",
       "      <td>0.480000</td>\n",
       "    </tr>\n",
       "    <tr>\n",
       "      <th>5436</th>\n",
       "      <td>28-12-2007</td>\n",
       "      <td>30</td>\n",
       "      <td>Good tapas and always busy. Local place</td>\n",
       "      <td>0.266667</td>\n",
       "      <td>0.300000</td>\n",
       "    </tr>\n",
       "    <tr>\n",
       "      <th>5437</th>\n",
       "      <td>24-12-2007</td>\n",
       "      <td>50</td>\n",
       "      <td>everytime that I´m visiting Barcelona, got to go!</td>\n",
       "      <td>0.000000</td>\n",
       "      <td>0.000000</td>\n",
       "    </tr>\n",
       "    <tr>\n",
       "      <th>5438</th>\n",
       "      <td>21-12-2007</td>\n",
       "      <td>40</td>\n",
       "      <td>Very well known for the business men-women. It's always plenty of 25-30 years old people after day-working!</td>\n",
       "      <td>0.162500</td>\n",
       "      <td>0.250000</td>\n",
       "    </tr>\n",
       "    <tr>\n",
       "      <th>5439</th>\n",
       "      <td>12-12-2007</td>\n",
       "      <td>50</td>\n",
       "      <td>one of my favourite tapas bar</td>\n",
       "      <td>0.000000</td>\n",
       "      <td>0.000000</td>\n",
       "    </tr>\n",
       "  </tbody>\n",
       "</table>\n",
       "<p>5440 rows × 5 columns</p>\n",
       "</div>"
      ],
      "text/plain": [
       "             date rating_review  \\\n",
       "0      10-03-2022            50   \n",
       "1      03-03-2022            40   \n",
       "2      24-02-2022            20   \n",
       "3      24-02-2022            50   \n",
       "4      17-02-2022            50   \n",
       "...           ...           ...   \n",
       "5435   6-01-2008             40   \n",
       "5436  28-12-2007             30   \n",
       "5437  24-12-2007             50   \n",
       "5438  21-12-2007             40   \n",
       "5439  12-12-2007             50   \n",
       "\n",
       "                                                                                                                                                                                                                                                                                                                                                                                                                                                                                                                                                                                                       reviews  \\\n",
       "0                                                                                                                                                                                                                                                                                                                                                                                                    This restaurant was recommended to us by our hotel. The atmosphere was lively and busy and the food was excellent, a good mix of standard tapas and \"fresh today\" dishes. Well priced and worth a visit.    \n",
       "1                                                                                                                                                                                               Had to wait for a table but glad we did. The food was really good, mixture of locals and tourists but nice atmosphere. We has a good selection of tapas including calamari’s, mixed fried fish, iberico ham and beef with foie gras along with tomato bread. Bill for 2 with a beer 4 large glasses of white wine and water plus all the tapas was 58 euros. Good value for great quality food. Give it a try.   \n",
       "2     We went here on the last night of a 4 night trip to Barcelona and were very disappointed. We arrived early (so we didn't have to queue!)- sat in the back, annoyed the waiter by asking for water (tiniest bottles ever!) and ordered all of our faves- shrimp in garlic (good), tomato bread (average), tortilla (average), ham (good)....overall, I would definitely not go back. Felt super touristy and food was so very average- almost like cafeteria food! We had much better tapas at other places on our trip. Very disappointed for our last meal there. Don't get what all the hype is about!   \n",
       "3                                                                                                                                                                                                                                                                                                                                                               Our hotel recommended this restaurant. It was fabulous! Great tapas at a very reasonable price. We were here twice and had different items each time. All were excellent! Nice atmosphere too. There’s usually a que, but well worth the wait!   \n",
       "4                                                                                                                                                                                                                                                                                                                                                                                                                                        Fantastic meal at Cervecería Catalana. Food was excellent, service good and really cool atmosphere. Great selection of tapas and reasonably priced. Highly recommend.   \n",
       "...                                                                                                                                                                                                                                                                                                                                                                                                                                                                                                                                                                                                        ...   \n",
       "5435                                                                                                                                                                                                                                                                                                                                                 Next to the shops, but very different from the turist traps you find everywhere. Service is good and fast, the place is cosy and food - yummy! The best dish (tapas) was the one that had fish and cheese in a pepper. So good I need to get there again!   \n",
       "5436                                                                                                                                                                                                                                                                                                                                                                                                                                                                                                                                                                   Good tapas and always busy. Local place   \n",
       "5437                                                                                                                                                                                                                                                                                                                                                                                                                                                                                                                                                         everytime that I´m visiting Barcelona, got to go!   \n",
       "5438                                                                                                                                                                                                                                                                                                                                                                                                                                                                                               Very well known for the business men-women. It's always plenty of 25-30 years old people after day-working!   \n",
       "5439                                                                                                                                                                                                                                                                                                                                                                                                                                                                                                                                                                             one of my favourite tapas bar   \n",
       "\n",
       "      polarity_score  subjectivity_score  \n",
       "0           0.362338            0.428571  \n",
       "1           0.468254            0.580952  \n",
       "2          -0.097361            0.443000  \n",
       "3           0.410625            0.685000  \n",
       "4           0.515714            0.720000  \n",
       "...              ...                 ...  \n",
       "5435        0.470833            0.480000  \n",
       "5436        0.266667            0.300000  \n",
       "5437        0.000000            0.000000  \n",
       "5438        0.162500            0.250000  \n",
       "5439        0.000000            0.000000  \n",
       "\n",
       "[5440 rows x 5 columns]"
      ]
     },
     "execution_count": 35,
     "metadata": {},
     "output_type": "execute_result"
    }
   ],
   "source": [
    "#Importing library and applying the method to get the polarity\n",
    "\n",
    "from textblob import TextBlob\n",
    "\n",
    "df=review_final\n",
    "df['polarity_score'] = df['reviews'].apply(lambda x:TextBlob(str(x)).sentiment.polarity)\n",
    "df['subjectivity_score'] = df['reviews'].apply(lambda x:TextBlob(x).sentiment.subjectivity)\n",
    "df"
   ]
  },
  {
   "cell_type": "code",
   "execution_count": 36,
   "id": "a035f35b",
   "metadata": {},
   "outputs": [
    {
     "data": {
      "text/html": [
       "<div>\n",
       "<style scoped>\n",
       "    .dataframe tbody tr th:only-of-type {\n",
       "        vertical-align: middle;\n",
       "    }\n",
       "\n",
       "    .dataframe tbody tr th {\n",
       "        vertical-align: top;\n",
       "    }\n",
       "\n",
       "    .dataframe thead th {\n",
       "        text-align: right;\n",
       "    }\n",
       "</style>\n",
       "<table border=\"1\" class=\"dataframe\">\n",
       "  <thead>\n",
       "    <tr style=\"text-align: right;\">\n",
       "      <th></th>\n",
       "      <th>polarity_score</th>\n",
       "      <th>subjectivity_score</th>\n",
       "    </tr>\n",
       "  </thead>\n",
       "  <tbody>\n",
       "    <tr>\n",
       "      <th>count</th>\n",
       "      <td>5440.000000</td>\n",
       "      <td>5440.000000</td>\n",
       "    </tr>\n",
       "    <tr>\n",
       "      <th>mean</th>\n",
       "      <td>0.331133</td>\n",
       "      <td>0.544070</td>\n",
       "    </tr>\n",
       "    <tr>\n",
       "      <th>std</th>\n",
       "      <td>0.191589</td>\n",
       "      <td>0.135143</td>\n",
       "    </tr>\n",
       "    <tr>\n",
       "      <th>min</th>\n",
       "      <td>-0.750000</td>\n",
       "      <td>0.000000</td>\n",
       "    </tr>\n",
       "    <tr>\n",
       "      <th>25%</th>\n",
       "      <td>0.214905</td>\n",
       "      <td>0.462528</td>\n",
       "    </tr>\n",
       "    <tr>\n",
       "      <th>50%</th>\n",
       "      <td>0.322417</td>\n",
       "      <td>0.538896</td>\n",
       "    </tr>\n",
       "    <tr>\n",
       "      <th>75%</th>\n",
       "      <td>0.442937</td>\n",
       "      <td>0.621579</td>\n",
       "    </tr>\n",
       "    <tr>\n",
       "      <th>max</th>\n",
       "      <td>1.000000</td>\n",
       "      <td>1.000000</td>\n",
       "    </tr>\n",
       "  </tbody>\n",
       "</table>\n",
       "</div>"
      ],
      "text/plain": [
       "       polarity_score  subjectivity_score\n",
       "count     5440.000000         5440.000000\n",
       "mean         0.331133            0.544070\n",
       "std          0.191589            0.135143\n",
       "min         -0.750000            0.000000\n",
       "25%          0.214905            0.462528\n",
       "50%          0.322417            0.538896\n",
       "75%          0.442937            0.621579\n",
       "max          1.000000            1.000000"
      ]
     },
     "execution_count": 36,
     "metadata": {},
     "output_type": "execute_result"
    }
   ],
   "source": [
    "df.describe()"
   ]
  },
  {
   "cell_type": "code",
   "execution_count": 37,
   "id": "eee520fa",
   "metadata": {},
   "outputs": [
    {
     "data": {
      "text/html": [
       "<div>\n",
       "<style scoped>\n",
       "    .dataframe tbody tr th:only-of-type {\n",
       "        vertical-align: middle;\n",
       "    }\n",
       "\n",
       "    .dataframe tbody tr th {\n",
       "        vertical-align: top;\n",
       "    }\n",
       "\n",
       "    .dataframe thead th {\n",
       "        text-align: right;\n",
       "    }\n",
       "</style>\n",
       "<table border=\"1\" class=\"dataframe\">\n",
       "  <thead>\n",
       "    <tr style=\"text-align: right;\">\n",
       "      <th></th>\n",
       "      <th>164</th>\n",
       "    </tr>\n",
       "  </thead>\n",
       "  <tbody>\n",
       "    <tr>\n",
       "      <th>date</th>\n",
       "      <td>23-10-2019</td>\n",
       "    </tr>\n",
       "    <tr>\n",
       "      <th>rating_review</th>\n",
       "      <td>50</td>\n",
       "    </tr>\n",
       "    <tr>\n",
       "      <th>reviews</th>\n",
       "      <td>Best Tapas in Barcelona!!!! Everything what we tried during visit to Barcelona was excellent. We visited this restaurant three times in 5 days!</td>\n",
       "    </tr>\n",
       "    <tr>\n",
       "      <th>polarity_score</th>\n",
       "      <td>1.0</td>\n",
       "    </tr>\n",
       "    <tr>\n",
       "      <th>subjectivity_score</th>\n",
       "      <td>0.65</td>\n",
       "    </tr>\n",
       "  </tbody>\n",
       "</table>\n",
       "</div>"
      ],
      "text/plain": [
       "                                                                                                                                                                164\n",
       "date                                                                                                                                                    23-10-2019 \n",
       "rating_review                                                                                                                                                    50\n",
       "reviews             Best Tapas in Barcelona!!!! Everything what we tried during visit to Barcelona was excellent. We visited this restaurant three times in 5 days!\n",
       "polarity_score                                                                                                                                                  1.0\n",
       "subjectivity_score                                                                                                                                             0.65"
      ]
     },
     "execution_count": 37,
     "metadata": {},
     "output_type": "execute_result"
    }
   ],
   "source": [
    "#To get the review with the highest polarity\n",
    "\n",
    "max_score=df.iloc[df['polarity_score'].idxmax()]\n",
    "pd.DataFrame(max_score)"
   ]
  },
  {
   "cell_type": "code",
   "execution_count": 38,
   "id": "f514c8c8",
   "metadata": {},
   "outputs": [
    {
     "data": {
      "text/html": [
       "<div>\n",
       "<style scoped>\n",
       "    .dataframe tbody tr th:only-of-type {\n",
       "        vertical-align: middle;\n",
       "    }\n",
       "\n",
       "    .dataframe tbody tr th {\n",
       "        vertical-align: top;\n",
       "    }\n",
       "\n",
       "    .dataframe thead th {\n",
       "        text-align: right;\n",
       "    }\n",
       "</style>\n",
       "<table border=\"1\" class=\"dataframe\">\n",
       "  <thead>\n",
       "    <tr style=\"text-align: right;\">\n",
       "      <th></th>\n",
       "      <th>2826</th>\n",
       "    </tr>\n",
       "  </thead>\n",
       "  <tbody>\n",
       "    <tr>\n",
       "      <th>date</th>\n",
       "      <td>23-09-2015</td>\n",
       "    </tr>\n",
       "    <tr>\n",
       "      <th>rating_review</th>\n",
       "      <td>20</td>\n",
       "    </tr>\n",
       "    <tr>\n",
       "      <th>reviews</th>\n",
       "      <td>May be my choice was wrong but the food was not tasty at all. We have ordered an beef steak, mushrooms and assortment of sea food, that was just terrible.</td>\n",
       "    </tr>\n",
       "    <tr>\n",
       "      <th>polarity_score</th>\n",
       "      <td>-0.75</td>\n",
       "    </tr>\n",
       "    <tr>\n",
       "      <th>subjectivity_score</th>\n",
       "      <td>0.95</td>\n",
       "    </tr>\n",
       "  </tbody>\n",
       "</table>\n",
       "</div>"
      ],
      "text/plain": [
       "                                                                                                                                                                          2826\n",
       "date                                                                                                                                                               23-09-2015 \n",
       "rating_review                                                                                                                                                               20\n",
       "reviews             May be my choice was wrong but the food was not tasty at all. We have ordered an beef steak, mushrooms and assortment of sea food, that was just terrible.\n",
       "polarity_score                                                                                                                                                           -0.75\n",
       "subjectivity_score                                                                                                                                                        0.95"
      ]
     },
     "execution_count": 38,
     "metadata": {},
     "output_type": "execute_result"
    }
   ],
   "source": [
    "#To get the review with the lowest polarity\n",
    "\n",
    "min_score=df.iloc[df['polarity_score'].idxmin()]\n",
    "pd.DataFrame(min_score)"
   ]
  },
  {
   "cell_type": "code",
   "execution_count": 39,
   "id": "ffd175c3",
   "metadata": {},
   "outputs": [
    {
     "data": {
      "text/plain": [
       "date                  181\n",
       "rating_review         181\n",
       "reviews               181\n",
       "polarity_score        181\n",
       "subjectivity_score    181\n",
       "dtype: int64"
      ]
     },
     "execution_count": 39,
     "metadata": {},
     "output_type": "execute_result"
    }
   ],
   "source": [
    "#Checking the overall. How many are positive, negative or neutral\n",
    "\n",
    "df[df['polarity_score'] < 0].count()"
   ]
  },
  {
   "cell_type": "code",
   "execution_count": 40,
   "id": "b4de787b",
   "metadata": {
    "scrolled": true
   },
   "outputs": [
    {
     "data": {
      "text/plain": [
       "date                  5231\n",
       "rating_review         5231\n",
       "reviews               5231\n",
       "polarity_score        5231\n",
       "subjectivity_score    5231\n",
       "dtype: int64"
      ]
     },
     "execution_count": 40,
     "metadata": {},
     "output_type": "execute_result"
    }
   ],
   "source": [
    "df[df['polarity_score'] > 0].count()"
   ]
  },
  {
   "cell_type": "code",
   "execution_count": 41,
   "id": "11f4be5a",
   "metadata": {},
   "outputs": [
    {
     "data": {
      "text/plain": [
       "date                  28\n",
       "rating_review         28\n",
       "reviews               28\n",
       "polarity_score        28\n",
       "subjectivity_score    28\n",
       "dtype: int64"
      ]
     },
     "execution_count": 41,
     "metadata": {},
     "output_type": "execute_result"
    }
   ],
   "source": [
    "df[df['polarity_score'] == 0].count()"
   ]
  },
  {
   "cell_type": "code",
   "execution_count": 42,
   "id": "0e6fff56",
   "metadata": {},
   "outputs": [
    {
     "data": {
      "text/plain": [
       "0.3311333148299321"
      ]
     },
     "execution_count": 42,
     "metadata": {},
     "output_type": "execute_result"
    }
   ],
   "source": [
    "df['polarity_score'].mean() # from -1 to 1 --- 0.33 is positive more than the half (half is 0, neutral) -- 66,5 positive"
   ]
  },
  {
   "cell_type": "code",
   "execution_count": 46,
   "id": "a28a3921",
   "metadata": {},
   "outputs": [
    {
     "data": {
      "text/html": [
       "<div>\n",
       "<style scoped>\n",
       "    .dataframe tbody tr th:only-of-type {\n",
       "        vertical-align: middle;\n",
       "    }\n",
       "\n",
       "    .dataframe tbody tr th {\n",
       "        vertical-align: top;\n",
       "    }\n",
       "\n",
       "    .dataframe thead th {\n",
       "        text-align: right;\n",
       "    }\n",
       "</style>\n",
       "<table border=\"1\" class=\"dataframe\">\n",
       "  <thead>\n",
       "    <tr style=\"text-align: right;\">\n",
       "      <th></th>\n",
       "      <th>date</th>\n",
       "      <th>rating_review</th>\n",
       "      <th>reviews</th>\n",
       "      <th>polarity_score</th>\n",
       "      <th>subjectivity_score</th>\n",
       "    </tr>\n",
       "  </thead>\n",
       "  <tbody>\n",
       "    <tr>\n",
       "      <th>0</th>\n",
       "      <td>10-03-2022</td>\n",
       "      <td>5.0</td>\n",
       "      <td>This restaurant was recommended to us by our hotel. The atmosphere was lively and busy and the food was excellent, a good mix of standard tapas and \"fresh today\" dishes. Well priced and worth a visit.</td>\n",
       "      <td>0.362338</td>\n",
       "      <td>0.428571</td>\n",
       "    </tr>\n",
       "    <tr>\n",
       "      <th>1</th>\n",
       "      <td>03-03-2022</td>\n",
       "      <td>4.0</td>\n",
       "      <td>Had to wait for a table but glad we did. The food was really good, mixture of locals and tourists but nice atmosphere. We has a good selection of tapas including calamari’s, mixed fried fish, iberico ham and beef with foie gras along with tomato bread. Bill for 2 with a beer 4 large glasses of white wine and water plus all the tapas was 58 euros. Good value for great quality food. Give it a try.</td>\n",
       "      <td>0.468254</td>\n",
       "      <td>0.580952</td>\n",
       "    </tr>\n",
       "    <tr>\n",
       "      <th>2</th>\n",
       "      <td>24-02-2022</td>\n",
       "      <td>2.0</td>\n",
       "      <td>We went here on the last night of a 4 night trip to Barcelona and were very disappointed. We arrived early (so we didn't have to queue!)- sat in the back, annoyed the waiter by asking for water (tiniest bottles ever!) and ordered all of our faves- shrimp in garlic (good), tomato bread (average), tortilla (average), ham (good)....overall, I would definitely not go back. Felt super touristy and food was so very average- almost like cafeteria food! We had much better tapas at other places on our trip. Very disappointed for our last meal there. Don't get what all the hype is about!</td>\n",
       "      <td>-0.097361</td>\n",
       "      <td>0.443000</td>\n",
       "    </tr>\n",
       "    <tr>\n",
       "      <th>3</th>\n",
       "      <td>24-02-2022</td>\n",
       "      <td>5.0</td>\n",
       "      <td>Our hotel recommended this restaurant. It was fabulous! Great tapas at a very reasonable price. We were here twice and had different items each time. All were excellent! Nice atmosphere too. There’s usually a que, but well worth the wait!</td>\n",
       "      <td>0.410625</td>\n",
       "      <td>0.685000</td>\n",
       "    </tr>\n",
       "    <tr>\n",
       "      <th>4</th>\n",
       "      <td>17-02-2022</td>\n",
       "      <td>5.0</td>\n",
       "      <td>Fantastic meal at Cervecería Catalana. Food was excellent, service good and really cool atmosphere. Great selection of tapas and reasonably priced. Highly recommend.</td>\n",
       "      <td>0.515714</td>\n",
       "      <td>0.720000</td>\n",
       "    </tr>\n",
       "    <tr>\n",
       "      <th>...</th>\n",
       "      <td>...</td>\n",
       "      <td>...</td>\n",
       "      <td>...</td>\n",
       "      <td>...</td>\n",
       "      <td>...</td>\n",
       "    </tr>\n",
       "    <tr>\n",
       "      <th>5435</th>\n",
       "      <td>6-01-2008</td>\n",
       "      <td>4.0</td>\n",
       "      <td>Next to the shops, but very different from the turist traps you find everywhere. Service is good and fast, the place is cosy and food - yummy! The best dish (tapas) was the one that had fish and cheese in a pepper. So good I need to get there again!</td>\n",
       "      <td>0.470833</td>\n",
       "      <td>0.480000</td>\n",
       "    </tr>\n",
       "    <tr>\n",
       "      <th>5436</th>\n",
       "      <td>28-12-2007</td>\n",
       "      <td>3.0</td>\n",
       "      <td>Good tapas and always busy. Local place</td>\n",
       "      <td>0.266667</td>\n",
       "      <td>0.300000</td>\n",
       "    </tr>\n",
       "    <tr>\n",
       "      <th>5437</th>\n",
       "      <td>24-12-2007</td>\n",
       "      <td>5.0</td>\n",
       "      <td>everytime that I´m visiting Barcelona, got to go!</td>\n",
       "      <td>0.000000</td>\n",
       "      <td>0.000000</td>\n",
       "    </tr>\n",
       "    <tr>\n",
       "      <th>5438</th>\n",
       "      <td>21-12-2007</td>\n",
       "      <td>4.0</td>\n",
       "      <td>Very well known for the business men-women. It's always plenty of 25-30 years old people after day-working!</td>\n",
       "      <td>0.162500</td>\n",
       "      <td>0.250000</td>\n",
       "    </tr>\n",
       "    <tr>\n",
       "      <th>5439</th>\n",
       "      <td>12-12-2007</td>\n",
       "      <td>5.0</td>\n",
       "      <td>one of my favourite tapas bar</td>\n",
       "      <td>0.000000</td>\n",
       "      <td>0.000000</td>\n",
       "    </tr>\n",
       "  </tbody>\n",
       "</table>\n",
       "<p>5440 rows × 5 columns</p>\n",
       "</div>"
      ],
      "text/plain": [
       "             date  rating_review  \\\n",
       "0      10-03-2022            5.0   \n",
       "1      03-03-2022            4.0   \n",
       "2      24-02-2022            2.0   \n",
       "3      24-02-2022            5.0   \n",
       "4      17-02-2022            5.0   \n",
       "...           ...            ...   \n",
       "5435   6-01-2008             4.0   \n",
       "5436  28-12-2007             3.0   \n",
       "5437  24-12-2007             5.0   \n",
       "5438  21-12-2007             4.0   \n",
       "5439  12-12-2007             5.0   \n",
       "\n",
       "                                                                                                                                                                                                                                                                                                                                                                                                                                                                                                                                                                                                       reviews  \\\n",
       "0                                                                                                                                                                                                                                                                                                                                                                                                    This restaurant was recommended to us by our hotel. The atmosphere was lively and busy and the food was excellent, a good mix of standard tapas and \"fresh today\" dishes. Well priced and worth a visit.    \n",
       "1                                                                                                                                                                                               Had to wait for a table but glad we did. The food was really good, mixture of locals and tourists but nice atmosphere. We has a good selection of tapas including calamari’s, mixed fried fish, iberico ham and beef with foie gras along with tomato bread. Bill for 2 with a beer 4 large glasses of white wine and water plus all the tapas was 58 euros. Good value for great quality food. Give it a try.   \n",
       "2     We went here on the last night of a 4 night trip to Barcelona and were very disappointed. We arrived early (so we didn't have to queue!)- sat in the back, annoyed the waiter by asking for water (tiniest bottles ever!) and ordered all of our faves- shrimp in garlic (good), tomato bread (average), tortilla (average), ham (good)....overall, I would definitely not go back. Felt super touristy and food was so very average- almost like cafeteria food! We had much better tapas at other places on our trip. Very disappointed for our last meal there. Don't get what all the hype is about!   \n",
       "3                                                                                                                                                                                                                                                                                                                                                               Our hotel recommended this restaurant. It was fabulous! Great tapas at a very reasonable price. We were here twice and had different items each time. All were excellent! Nice atmosphere too. There’s usually a que, but well worth the wait!   \n",
       "4                                                                                                                                                                                                                                                                                                                                                                                                                                        Fantastic meal at Cervecería Catalana. Food was excellent, service good and really cool atmosphere. Great selection of tapas and reasonably priced. Highly recommend.   \n",
       "...                                                                                                                                                                                                                                                                                                                                                                                                                                                                                                                                                                                                        ...   \n",
       "5435                                                                                                                                                                                                                                                                                                                                                 Next to the shops, but very different from the turist traps you find everywhere. Service is good and fast, the place is cosy and food - yummy! The best dish (tapas) was the one that had fish and cheese in a pepper. So good I need to get there again!   \n",
       "5436                                                                                                                                                                                                                                                                                                                                                                                                                                                                                                                                                                   Good tapas and always busy. Local place   \n",
       "5437                                                                                                                                                                                                                                                                                                                                                                                                                                                                                                                                                         everytime that I´m visiting Barcelona, got to go!   \n",
       "5438                                                                                                                                                                                                                                                                                                                                                                                                                                                                                               Very well known for the business men-women. It's always plenty of 25-30 years old people after day-working!   \n",
       "5439                                                                                                                                                                                                                                                                                                                                                                                                                                                                                                                                                                             one of my favourite tapas bar   \n",
       "\n",
       "      polarity_score  subjectivity_score  \n",
       "0           0.362338            0.428571  \n",
       "1           0.468254            0.580952  \n",
       "2          -0.097361            0.443000  \n",
       "3           0.410625            0.685000  \n",
       "4           0.515714            0.720000  \n",
       "...              ...                 ...  \n",
       "5435        0.470833            0.480000  \n",
       "5436        0.266667            0.300000  \n",
       "5437        0.000000            0.000000  \n",
       "5438        0.162500            0.250000  \n",
       "5439        0.000000            0.000000  \n",
       "\n",
       "[5440 rows x 5 columns]"
      ]
     },
     "execution_count": 46,
     "metadata": {},
     "output_type": "execute_result"
    }
   ],
   "source": []
  },
  {
   "cell_type": "code",
   "execution_count": 89,
   "id": "42e0753c",
   "metadata": {},
   "outputs": [
    {
     "data": {
      "text/plain": [
       "5.0    3386\n",
       "4.0    1417\n",
       "3.0     372\n",
       "2.0     133\n",
       "1.0     132\n",
       "Name: rating_review, dtype: int64"
      ]
     },
     "execution_count": 89,
     "metadata": {},
     "output_type": "execute_result"
    }
   ],
   "source": [
    "df['rating_review'].value_counts()"
   ]
  },
  {
   "cell_type": "code",
   "execution_count": 90,
   "id": "2f73b781",
   "metadata": {},
   "outputs": [
    {
     "data": {
      "text/plain": [
       "4.432352941176471"
      ]
     },
     "execution_count": 90,
     "metadata": {},
     "output_type": "execute_result"
    }
   ],
   "source": [
    "df['rating_review'].mean() # from 1 to 5 --- 4.43 is positive more than the half (half is 2.5) -- 88,6 positive"
   ]
  },
  {
   "cell_type": "code",
   "execution_count": 48,
   "id": "456959a7",
   "metadata": {},
   "outputs": [],
   "source": [
    "df.to_csv('SentimentAnalysis.csv',encoding='utf-8-sig')"
   ]
  },
  {
   "cell_type": "markdown",
   "id": "dbdfb8f1",
   "metadata": {},
   "source": [
    "# LEXICAL ANALYSIS"
   ]
  },
  {
   "cell_type": "code",
   "execution_count": 49,
   "id": "d372d536",
   "metadata": {},
   "outputs": [],
   "source": [
    "#Importing libraries\n",
    "\n",
    "import nltk\n",
    "from nltk.tokenize import word_tokenize"
   ]
  },
  {
   "cell_type": "code",
   "execution_count": 50,
   "id": "594e878b",
   "metadata": {},
   "outputs": [],
   "source": [
    "#nltk.download('all')"
   ]
  },
  {
   "cell_type": "code",
   "execution_count": 51,
   "id": "b7a14497",
   "metadata": {},
   "outputs": [
    {
     "data": {
      "text/plain": [
       "0                                                                                                                                                                                                                                                                                                                                [This, restaurant, was, recommended, to, us, by, our, hotel, ., The, atmosphere, was, lively, and, busy, and, the, food, was, excellent, ,, a, good, mix, of, standard, tapas, and, ``, fresh, today, '', dishes, ., Well, priced, and, worth, a, visit, .]\n",
       "1                                                                         [Had, to, wait, for, a, table, but, glad, we, did, ., The, food, was, really, good, ,, mixture, of, locals, and, tourists, but, nice, atmosphere, ., We, has, a, good, selection, of, tapas, including, calamari, ’, s, ,, mixed, fried, fish, ,, iberico, ham, and, beef, with, foie, gras, along, with, tomato, bread, ., Bill, for, 2, with, a, beer, 4, large, glasses, of, white, wine, and, water, plus, all, the, tapas, was, 58, euros, ., Good, value, for, great, quality, food, ., Give, it, a, try, .]\n",
       "2       [We, went, here, on, the, last, night, of, a, 4, night, trip, to, Barcelona, and, were, very, disappointed, ., We, arrived, early, (, so, we, did, n't, have, to, queue, !, ), -, sat, in, the, back, ,, annoyed, the, waiter, by, asking, for, water, (, tiniest, bottles, ever, !, ), and, ordered, all, of, our, faves-, shrimp, in, garlic, (, good, ), ,, tomato, bread, (, average, ), ,, tortilla, (, average, ), ,, ham, (, good, ), ...., overall, ,, I, would, definitely, not, go, back, ., Felt, super, touristy, and, food, was, so, very, average-, almost, like, ...]\n",
       "3                                                                                                                                                                                                                                                                                [Our, hotel, recommended, this, restaurant, ., It, was, fabulous, !, Great, tapas, at, a, very, reasonable, price, ., We, were, here, twice, and, had, different, items, each, time, ., All, were, excellent, !, Nice, atmosphere, too, ., There, ’, s, usually, a, que, ,, but, well, worth, the, wait, !]\n",
       "4                                                                                                                                                                                                                                                                                                                                                                                    [Fantastic, meal, at, Cervecería, Catalana, ., Food, was, excellent, ,, service, good, and, really, cool, atmosphere, ., Great, selection, of, tapas, and, reasonably, priced, ., Highly, recommend, .]\n",
       "                                                                                                                                                                                                                                                                                                ...                                                                                                                                                                                                                                                                                         \n",
       "5435                                                                                                                                                                                                                                                            [Next, to, the, shops, ,, but, very, different, from, the, turist, traps, you, find, everywhere, ., Service, is, good, and, fast, ,, the, place, is, cosy, and, food, -, yummy, !, The, best, dish, (, tapas, ), was, the, one, that, had, fish, and, cheese, in, a, pepper, ., So, good, I, need, to, get, there, again, !]\n",
       "5436                                                                                                                                                                                                                                                                                                                                                                                                                                                                                                                                       [Good, tapas, and, always, busy, ., Local, place]\n",
       "5437                                                                                                                                                                                                                                                                                                                                                                                                                                                                                                                          [everytime, that, I´m, visiting, Barcelona, ,, got, to, go, !]\n",
       "5438                                                                                                                                                                                                                                                                                                                                                                                                                                                     [Very, well, known, for, the, business, men-women, ., It, 's, always, plenty, of, 25-30, years, old, people, after, day-working, !]\n",
       "5439                                                                                                                                                                                                                                                                                                                                                                                                                                                                                                                                                    [one, of, my, favourite, tapas, bar]\n",
       "Name: reviews, Length: 5440, dtype: object"
      ]
     },
     "execution_count": 51,
     "metadata": {},
     "output_type": "execute_result"
    }
   ],
   "source": [
    "#Tokenize the reviews. (to separate all the words)\n",
    "\n",
    "tokens=df['reviews'].apply(word_tokenize)\n",
    "tokens"
   ]
  },
  {
   "cell_type": "code",
   "execution_count": 52,
   "id": "60622341",
   "metadata": {},
   "outputs": [
    {
     "data": {
      "text/plain": [
       "pandas.core.series.Series"
      ]
     },
     "execution_count": 52,
     "metadata": {},
     "output_type": "execute_result"
    }
   ],
   "source": [
    "type(tokens)"
   ]
  },
  {
   "cell_type": "code",
   "execution_count": null,
   "id": "9a898ed2",
   "metadata": {},
   "outputs": [],
   "source": [
    "#Group all words from diferent reviews that were tokenized in a big list\n",
    "\n",
    "result = []\n",
    "[result.extend(i) for i in tokens] \n",
    "result"
   ]
  },
  {
   "cell_type": "code",
   "execution_count": 54,
   "id": "412788f5",
   "metadata": {},
   "outputs": [],
   "source": [
    "#Tokens to lower case\n",
    "\n",
    "tokens_lower=[token.lower() for token in result]"
   ]
  },
  {
   "cell_type": "code",
   "execution_count": null,
   "id": "d5b3ecf2",
   "metadata": {},
   "outputs": [],
   "source": [
    "tokens_lower"
   ]
  },
  {
   "cell_type": "code",
   "execution_count": 56,
   "id": "20b688bf",
   "metadata": {},
   "outputs": [
    {
     "data": {
      "text/plain": [
       "460276"
      ]
     },
     "execution_count": 56,
     "metadata": {},
     "output_type": "execute_result"
    }
   ],
   "source": [
    "len(tokens_lower)"
   ]
  },
  {
   "cell_type": "code",
   "execution_count": 57,
   "id": "ff10d2de",
   "metadata": {},
   "outputs": [],
   "source": [
    "#Remove punctuation\n",
    "clean_tokens_lower=[word for word in tokens_lower if word.isalpha()]"
   ]
  },
  {
   "cell_type": "code",
   "execution_count": null,
   "id": "ddd909d3",
   "metadata": {},
   "outputs": [],
   "source": [
    "clean_tokens_lower"
   ]
  },
  {
   "cell_type": "code",
   "execution_count": 59,
   "id": "9d0e063b",
   "metadata": {},
   "outputs": [],
   "source": [
    "#Word frequency summary"
   ]
  },
  {
   "cell_type": "code",
   "execution_count": 60,
   "id": "a45f0b3c",
   "metadata": {},
   "outputs": [
    {
     "data": {
      "text/plain": [
       "460276"
      ]
     },
     "execution_count": 60,
     "metadata": {},
     "output_type": "execute_result"
    }
   ],
   "source": [
    "len(tokens_lower)"
   ]
  },
  {
   "cell_type": "code",
   "execution_count": 61,
   "id": "24cc954b",
   "metadata": {},
   "outputs": [
    {
     "data": {
      "text/plain": [
       "396559"
      ]
     },
     "execution_count": 61,
     "metadata": {},
     "output_type": "execute_result"
    }
   ],
   "source": [
    "len(clean_tokens_lower)"
   ]
  },
  {
   "cell_type": "code",
   "execution_count": 62,
   "id": "65586f23",
   "metadata": {},
   "outputs": [],
   "source": [
    "#Importing library\n",
    "\n",
    "from nltk.corpus import stopwords"
   ]
  },
  {
   "cell_type": "code",
   "execution_count": 63,
   "id": "b2082ed5",
   "metadata": {},
   "outputs": [],
   "source": [
    "#Getting the stopwords from english\n",
    "\n",
    "stop_words=stopwords.words('english')"
   ]
  },
  {
   "cell_type": "code",
   "execution_count": 64,
   "id": "39930654",
   "metadata": {},
   "outputs": [],
   "source": [
    "#Remove stopwords\n",
    "\n",
    "clean_tokens_lower_without_stop=[word for word in clean_tokens_lower if not word in stop_words]"
   ]
  },
  {
   "cell_type": "code",
   "execution_count": 65,
   "id": "675f43c1",
   "metadata": {},
   "outputs": [
    {
     "data": {
      "text/plain": [
       "197763"
      ]
     },
     "execution_count": 65,
     "metadata": {},
     "output_type": "execute_result"
    }
   ],
   "source": [
    "len(clean_tokens_lower_without_stop)"
   ]
  },
  {
   "cell_type": "code",
   "execution_count": 66,
   "id": "a195a21a",
   "metadata": {},
   "outputs": [],
   "source": [
    "#Rename the variable \n",
    "\n",
    "new_words=clean_tokens_lower_without_stop"
   ]
  },
  {
   "cell_type": "code",
   "execution_count": 67,
   "id": "936cd319",
   "metadata": {},
   "outputs": [],
   "source": [
    "#Save the dataframe to csv\n",
    "\n",
    "df_new_words=pd.DataFrame(new_words)\n",
    "df_new_words.to_csv('words.csv',encoding='utf-8-sig')"
   ]
  },
  {
   "cell_type": "code",
   "execution_count": 69,
   "id": "7b386076",
   "metadata": {},
   "outputs": [],
   "source": [
    "#Most common words\n",
    "\n",
    "freqdist2=nltk.FreqDist(new_words)"
   ]
  },
  {
   "cell_type": "code",
   "execution_count": 70,
   "id": "3db95052",
   "metadata": {},
   "outputs": [],
   "source": [
    "word_freq2=dict((word,freq) for word, freq in freqdist2.items() if not word.isdigit())"
   ]
  },
  {
   "cell_type": "code",
   "execution_count": 71,
   "id": "05237d6a",
   "metadata": {},
   "outputs": [],
   "source": [
    "sorted_word_freq2=sorted(word_freq2.items(), key=lambda x:x[1], reverse=True)"
   ]
  },
  {
   "cell_type": "code",
   "execution_count": null,
   "id": "fa9295d6",
   "metadata": {},
   "outputs": [],
   "source": [
    "sorted_word_freq2"
   ]
  },
  {
   "cell_type": "code",
   "execution_count": 73,
   "id": "737c061f",
   "metadata": {},
   "outputs": [],
   "source": [
    "#Importing library\n",
    "\n",
    "from nltk.text import Text"
   ]
  },
  {
   "cell_type": "code",
   "execution_count": 74,
   "id": "f63f8204",
   "metadata": {},
   "outputs": [],
   "source": [
    "nltktext=Text(new_words)"
   ]
  },
  {
   "cell_type": "code",
   "execution_count": 75,
   "id": "e53429eb",
   "metadata": {},
   "outputs": [
    {
     "data": {
      "text/plain": [
       "list"
      ]
     },
     "execution_count": 75,
     "metadata": {},
     "output_type": "execute_result"
    }
   ],
   "source": [
    "type(new_words)"
   ]
  },
  {
   "cell_type": "code",
   "execution_count": 76,
   "id": "c3a3b60c",
   "metadata": {},
   "outputs": [
    {
     "name": "stdout",
     "output_type": "stream",
     "text": [
      "cerveceria catalana; reasonably priced; patatas bravas; get table;\n",
      "razor clams; worth wait; put name; highly recommend; foie gras; beef\n",
      "tenderloin; come back; best tapas; value money; highly recommended;\n",
      "take reservations; well worth; make sure; one best; would recommend;\n",
      "wait table\n"
     ]
    }
   ],
   "source": [
    "#collocations - words that appear next to eachother frequently \n",
    "nltktext.collocations()"
   ]
  },
  {
   "cell_type": "code",
   "execution_count": 77,
   "id": "e8f77a1a",
   "metadata": {},
   "outputs": [
    {
     "name": "stdout",
     "output_type": "stream",
     "text": [
      "Displaying 25 of 4714 matches:\n",
      "usy food excellent good mix standard tapas fresh today dishes well priced worth\n",
      "rists nice atmosphere good selection tapas including calamari mixed fried fish \n",
      " large glasses white wine water plus tapas euros good value great quality food \n",
      "most like cafeteria food much better tapas places trip disappointed last meal g\n",
      "ecommended restaurant fabulous great tapas reasonable price twice different ite\n",
      "ally cool atmosphere great selection tapas reasonably priced highly recommend s\n",
      "garlic prawns tomato bread best also tapas beer finished churos euros well wort\n",
      "ceria catalana simply stars category tapas outstanding service outstanding pric\n",
      "lly enjoyed experience great classic tapas almost dished ordered amazing food c\n",
      " service also good recommend enjoyed tapas restaurant everything good especiall\n",
      "in walk still best recommended place tapas tripadvisor search reservations wait\n",
      "each somewhere quit mesmerizing view tapas served outside tables left made even\n",
      "ouple sitting next table also joined tapas discussion added advise double help \n",
      "bsolute high quality restaurant best tapas ever eat fresh made desserts super w\n",
      "zing place quiet quick serve amazing tapas taste super friendly staff ready hel\n",
      "y vacation barcelona absolutely best tapas restaurant barcelona food fantastic \n",
      "staurant employees tell poor service tapas amazing waiter helpful suggesting to\n",
      " server best recommended lot popular tapas disappoint good seafood fresh proper\n",
      "low mediocre ordered different types tapas liked location suggest trying local \n",
      "ervice terrible food ordered several tapas waitress decided going place order a\n",
      "time money place find instead better tapas places barcelona staff extremely fri\n",
      "friendly attentive first time trying tapas sure order waiter ordered us suggest\n",
      "coming back return barcelona perfect tapas incredible nothing else say gambas s\n",
      "xplains salad silly pricey fantastic tapas friendly stuff lucky space first tim\n",
      "nt sign diner still best place enjoy tapas must barcelona always great selectio\n"
     ]
    }
   ],
   "source": [
    "# concordance - fragments containing key words - indexed - text around that word\n",
    "nltktext.concordance(\"tapas\")"
   ]
  },
  {
   "cell_type": "code",
   "execution_count": null,
   "id": "98d24071",
   "metadata": {},
   "outputs": [],
   "source": []
  }
 ],
 "metadata": {
  "kernelspec": {
   "display_name": "Python 3 (ipykernel)",
   "language": "python",
   "name": "python3"
  },
  "language_info": {
   "codemirror_mode": {
    "name": "ipython",
    "version": 3
   },
   "file_extension": ".py",
   "mimetype": "text/x-python",
   "name": "python",
   "nbconvert_exporter": "python",
   "pygments_lexer": "ipython3",
   "version": "3.10.2"
  },
  "toc": {
   "base_numbering": 1,
   "nav_menu": {},
   "number_sections": true,
   "sideBar": true,
   "skip_h1_title": false,
   "title_cell": "Table of Contents",
   "title_sidebar": "Contents",
   "toc_cell": false,
   "toc_position": {},
   "toc_section_display": true,
   "toc_window_display": false
  },
  "varInspector": {
   "cols": {
    "lenName": 16,
    "lenType": 16,
    "lenVar": 40
   },
   "kernels_config": {
    "python": {
     "delete_cmd_postfix": "",
     "delete_cmd_prefix": "del ",
     "library": "var_list.py",
     "varRefreshCmd": "print(var_dic_list())"
    },
    "r": {
     "delete_cmd_postfix": ") ",
     "delete_cmd_prefix": "rm(",
     "library": "var_list.r",
     "varRefreshCmd": "cat(var_dic_list()) "
    }
   },
   "types_to_exclude": [
    "module",
    "function",
    "builtin_function_or_method",
    "instance",
    "_Feature"
   ],
   "window_display": false
  }
 },
 "nbformat": 4,
 "nbformat_minor": 5
}
