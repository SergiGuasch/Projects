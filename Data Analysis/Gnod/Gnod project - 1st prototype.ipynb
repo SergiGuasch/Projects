{
 "cells": [
  {
   "cell_type": "markdown",
   "id": "fc492fa9",
   "metadata": {},
   "source": [
    "# LAB Monday: Scrape the current top 100 songs and their respective artists, and put the information into a pandas dataframe."
   ]
  },
  {
   "cell_type": "code",
   "execution_count": 1,
   "id": "40ec80d5",
   "metadata": {},
   "outputs": [],
   "source": [
    "import requests\n",
    "from bs4 import BeautifulSoup"
   ]
  },
  {
   "cell_type": "code",
   "execution_count": 2,
   "id": "668d0849",
   "metadata": {},
   "outputs": [],
   "source": [
    "url='https://www.billboard.com/charts/hot-100/'"
   ]
  },
  {
   "cell_type": "code",
   "execution_count": 3,
   "id": "e538d16f",
   "metadata": {},
   "outputs": [],
   "source": [
    "results=requests.get(url, headers ={'Accept-Language':'en-US'})"
   ]
  },
  {
   "cell_type": "code",
   "execution_count": 4,
   "id": "d62f25c2",
   "metadata": {},
   "outputs": [],
   "source": [
    "soup = BeautifulSoup(results.content,'html.parser')"
   ]
  },
  {
   "cell_type": "raw",
   "id": "d3113dba",
   "metadata": {
    "scrolled": false
   },
   "source": [
    "print(soup.prettify())"
   ]
  },
  {
   "cell_type": "code",
   "execution_count": 5,
   "id": "c45fdab4",
   "metadata": {},
   "outputs": [
    {
     "data": {
      "text/plain": [
       "\"We Don't Talk About Bruno\""
      ]
     },
     "execution_count": 5,
     "metadata": {},
     "output_type": "execute_result"
    }
   ],
   "source": [
    "soup.select('h3.c-title.a-no-trucate')[0].get_text(strip=True)"
   ]
  },
  {
   "cell_type": "code",
   "execution_count": 6,
   "id": "1765018b",
   "metadata": {},
   "outputs": [
    {
     "data": {
      "text/plain": [
       "'Carolina Gaitan, Mauro Castillo, Adassa, Rhenzy Feliz, Diane Guerrero, Stephanie Beatriz & Encanto Cast'"
      ]
     },
     "execution_count": 6,
     "metadata": {},
     "output_type": "execute_result"
    }
   ],
   "source": [
    "soup.select('span.c-label.a-no-trucate')[0].get_text(strip=True)"
   ]
  },
  {
   "cell_type": "code",
   "execution_count": 7,
   "id": "9a42dff2",
   "metadata": {},
   "outputs": [],
   "source": [
    "title=[]\n",
    "artists=[]\n",
    "\n",
    "len_songs=len(soup.select('h3.c-title.a-no-trucate'))"
   ]
  },
  {
   "cell_type": "code",
   "execution_count": 8,
   "id": "ce85efec",
   "metadata": {},
   "outputs": [
    {
     "data": {
      "text/plain": [
       "100"
      ]
     },
     "execution_count": 8,
     "metadata": {},
     "output_type": "execute_result"
    }
   ],
   "source": [
    "len_songs"
   ]
  },
  {
   "cell_type": "code",
   "execution_count": 9,
   "id": "dc220f19",
   "metadata": {},
   "outputs": [],
   "source": [
    "for i in range(len_songs):\n",
    "    title.append(soup.select('h3.c-title.a-no-trucate')[i].get_text(strip=True))\n",
    "    artists.append(soup.select('span.c-label.a-no-trucate')[i].get_text(strip=True))"
   ]
  },
  {
   "cell_type": "code",
   "execution_count": 10,
   "id": "d103742f",
   "metadata": {},
   "outputs": [],
   "source": [
    "# title_df=[]\n",
    "# artist_df=[]\n",
    "\n",
    "# for songs in title:\n",
    "#     title_df.append(songs.replace('\\n', ''))\n",
    "\n",
    "# for songs in artists:\n",
    "#     artist_df.append(songs.replace('\\n', ''))\n",
    "\n",
    "\n",
    "# using strip=True in the step before it is not necessary to replace \\n"
   ]
  },
  {
   "cell_type": "code",
   "execution_count": 11,
   "id": "a3de6166",
   "metadata": {},
   "outputs": [
    {
     "data": {
      "text/plain": [
       "100"
      ]
     },
     "execution_count": 11,
     "metadata": {},
     "output_type": "execute_result"
    }
   ],
   "source": [
    "len(title)"
   ]
  },
  {
   "cell_type": "code",
   "execution_count": 12,
   "id": "237b649d",
   "metadata": {},
   "outputs": [
    {
     "data": {
      "text/plain": [
       "100"
      ]
     },
     "execution_count": 12,
     "metadata": {},
     "output_type": "execute_result"
    }
   ],
   "source": [
    "len(artists)"
   ]
  },
  {
   "cell_type": "code",
   "execution_count": 13,
   "id": "0fd6a2b9",
   "metadata": {},
   "outputs": [
    {
     "data": {
      "text/html": [
       "<div>\n",
       "<style scoped>\n",
       "    .dataframe tbody tr th:only-of-type {\n",
       "        vertical-align: middle;\n",
       "    }\n",
       "\n",
       "    .dataframe tbody tr th {\n",
       "        vertical-align: top;\n",
       "    }\n",
       "\n",
       "    .dataframe thead th {\n",
       "        text-align: right;\n",
       "    }\n",
       "</style>\n",
       "<table border=\"1\" class=\"dataframe\">\n",
       "  <thead>\n",
       "    <tr style=\"text-align: right;\">\n",
       "      <th></th>\n",
       "      <th>Song_title</th>\n",
       "      <th>Artists</th>\n",
       "    </tr>\n",
       "  </thead>\n",
       "  <tbody>\n",
       "    <tr>\n",
       "      <th>0</th>\n",
       "      <td>We Don't Talk About Bruno</td>\n",
       "      <td>Carolina Gaitan, Mauro Castillo, Adassa, Rhenz...</td>\n",
       "    </tr>\n",
       "    <tr>\n",
       "      <th>1</th>\n",
       "      <td>Heat Waves</td>\n",
       "      <td>Glass Animals</td>\n",
       "    </tr>\n",
       "    <tr>\n",
       "      <th>2</th>\n",
       "      <td>abcdefu</td>\n",
       "      <td>GAYLE</td>\n",
       "    </tr>\n",
       "    <tr>\n",
       "      <th>3</th>\n",
       "      <td>Easy On Me</td>\n",
       "      <td>Adele</td>\n",
       "    </tr>\n",
       "    <tr>\n",
       "      <th>4</th>\n",
       "      <td>Super Gremlin</td>\n",
       "      <td>Kodak Black</td>\n",
       "    </tr>\n",
       "    <tr>\n",
       "      <th>...</th>\n",
       "      <td>...</td>\n",
       "      <td>...</td>\n",
       "    </tr>\n",
       "    <tr>\n",
       "      <th>95</th>\n",
       "      <td>Closer</td>\n",
       "      <td>Saweetie Featuring H.E.R.</td>\n",
       "    </tr>\n",
       "    <tr>\n",
       "      <th>96</th>\n",
       "      <td>Cold December</td>\n",
       "      <td>Rod Wave</td>\n",
       "    </tr>\n",
       "    <tr>\n",
       "      <th>97</th>\n",
       "      <td>Get Into It (Yuh)</td>\n",
       "      <td>Doja Cat</td>\n",
       "    </tr>\n",
       "    <tr>\n",
       "      <th>98</th>\n",
       "      <td>All Too Well (Taylor's Version)</td>\n",
       "      <td>Taylor Swift</td>\n",
       "    </tr>\n",
       "    <tr>\n",
       "      <th>99</th>\n",
       "      <td>Give Heaven Some Hell</td>\n",
       "      <td>HARDY</td>\n",
       "    </tr>\n",
       "  </tbody>\n",
       "</table>\n",
       "<p>100 rows × 2 columns</p>\n",
       "</div>"
      ],
      "text/plain": [
       "                         Song_title  \\\n",
       "0         We Don't Talk About Bruno   \n",
       "1                        Heat Waves   \n",
       "2                           abcdefu   \n",
       "3                        Easy On Me   \n",
       "4                     Super Gremlin   \n",
       "..                              ...   \n",
       "95                           Closer   \n",
       "96                    Cold December   \n",
       "97                Get Into It (Yuh)   \n",
       "98  All Too Well (Taylor's Version)   \n",
       "99            Give Heaven Some Hell   \n",
       "\n",
       "                                              Artists  \n",
       "0   Carolina Gaitan, Mauro Castillo, Adassa, Rhenz...  \n",
       "1                                       Glass Animals  \n",
       "2                                               GAYLE  \n",
       "3                                               Adele  \n",
       "4                                         Kodak Black  \n",
       "..                                                ...  \n",
       "95                          Saweetie Featuring H.E.R.  \n",
       "96                                           Rod Wave  \n",
       "97                                           Doja Cat  \n",
       "98                                       Taylor Swift  \n",
       "99                                              HARDY  \n",
       "\n",
       "[100 rows x 2 columns]"
      ]
     },
     "execution_count": 13,
     "metadata": {},
     "output_type": "execute_result"
    }
   ],
   "source": [
    "import pandas as pd\n",
    "\n",
    "songs=pd.DataFrame({'Song_title':title, 'Artists':artists})\n",
    "songs"
   ]
  },
  {
   "cell_type": "code",
   "execution_count": 14,
   "id": "5576cd40",
   "metadata": {},
   "outputs": [],
   "source": [
    "import numpy as np\n",
    "songs['Rank']=np.arange(len(songs))+1"
   ]
  },
  {
   "cell_type": "code",
   "execution_count": 15,
   "id": "fe5fb667",
   "metadata": {},
   "outputs": [
    {
     "data": {
      "text/html": [
       "<div>\n",
       "<style scoped>\n",
       "    .dataframe tbody tr th:only-of-type {\n",
       "        vertical-align: middle;\n",
       "    }\n",
       "\n",
       "    .dataframe tbody tr th {\n",
       "        vertical-align: top;\n",
       "    }\n",
       "\n",
       "    .dataframe thead th {\n",
       "        text-align: right;\n",
       "    }\n",
       "</style>\n",
       "<table border=\"1\" class=\"dataframe\">\n",
       "  <thead>\n",
       "    <tr style=\"text-align: right;\">\n",
       "      <th></th>\n",
       "      <th>Song_title</th>\n",
       "      <th>Artists</th>\n",
       "      <th>Rank</th>\n",
       "    </tr>\n",
       "  </thead>\n",
       "  <tbody>\n",
       "    <tr>\n",
       "      <th>0</th>\n",
       "      <td>We Don't Talk About Bruno</td>\n",
       "      <td>Carolina Gaitan, Mauro Castillo, Adassa, Rhenz...</td>\n",
       "      <td>1</td>\n",
       "    </tr>\n",
       "    <tr>\n",
       "      <th>1</th>\n",
       "      <td>Heat Waves</td>\n",
       "      <td>Glass Animals</td>\n",
       "      <td>2</td>\n",
       "    </tr>\n",
       "    <tr>\n",
       "      <th>2</th>\n",
       "      <td>abcdefu</td>\n",
       "      <td>GAYLE</td>\n",
       "      <td>3</td>\n",
       "    </tr>\n",
       "    <tr>\n",
       "      <th>3</th>\n",
       "      <td>Easy On Me</td>\n",
       "      <td>Adele</td>\n",
       "      <td>4</td>\n",
       "    </tr>\n",
       "    <tr>\n",
       "      <th>4</th>\n",
       "      <td>Super Gremlin</td>\n",
       "      <td>Kodak Black</td>\n",
       "      <td>5</td>\n",
       "    </tr>\n",
       "    <tr>\n",
       "      <th>...</th>\n",
       "      <td>...</td>\n",
       "      <td>...</td>\n",
       "      <td>...</td>\n",
       "    </tr>\n",
       "    <tr>\n",
       "      <th>95</th>\n",
       "      <td>Closer</td>\n",
       "      <td>Saweetie Featuring H.E.R.</td>\n",
       "      <td>96</td>\n",
       "    </tr>\n",
       "    <tr>\n",
       "      <th>96</th>\n",
       "      <td>Cold December</td>\n",
       "      <td>Rod Wave</td>\n",
       "      <td>97</td>\n",
       "    </tr>\n",
       "    <tr>\n",
       "      <th>97</th>\n",
       "      <td>Get Into It (Yuh)</td>\n",
       "      <td>Doja Cat</td>\n",
       "      <td>98</td>\n",
       "    </tr>\n",
       "    <tr>\n",
       "      <th>98</th>\n",
       "      <td>All Too Well (Taylor's Version)</td>\n",
       "      <td>Taylor Swift</td>\n",
       "      <td>99</td>\n",
       "    </tr>\n",
       "    <tr>\n",
       "      <th>99</th>\n",
       "      <td>Give Heaven Some Hell</td>\n",
       "      <td>HARDY</td>\n",
       "      <td>100</td>\n",
       "    </tr>\n",
       "  </tbody>\n",
       "</table>\n",
       "<p>100 rows × 3 columns</p>\n",
       "</div>"
      ],
      "text/plain": [
       "                         Song_title  \\\n",
       "0         We Don't Talk About Bruno   \n",
       "1                        Heat Waves   \n",
       "2                           abcdefu   \n",
       "3                        Easy On Me   \n",
       "4                     Super Gremlin   \n",
       "..                              ...   \n",
       "95                           Closer   \n",
       "96                    Cold December   \n",
       "97                Get Into It (Yuh)   \n",
       "98  All Too Well (Taylor's Version)   \n",
       "99            Give Heaven Some Hell   \n",
       "\n",
       "                                              Artists  Rank  \n",
       "0   Carolina Gaitan, Mauro Castillo, Adassa, Rhenz...     1  \n",
       "1                                       Glass Animals     2  \n",
       "2                                               GAYLE     3  \n",
       "3                                               Adele     4  \n",
       "4                                         Kodak Black     5  \n",
       "..                                                ...   ...  \n",
       "95                          Saweetie Featuring H.E.R.    96  \n",
       "96                                           Rod Wave    97  \n",
       "97                                           Doja Cat    98  \n",
       "98                                       Taylor Swift    99  \n",
       "99                                              HARDY   100  \n",
       "\n",
       "[100 rows x 3 columns]"
      ]
     },
     "execution_count": 15,
     "metadata": {},
     "output_type": "execute_result"
    }
   ],
   "source": [
    "songs"
   ]
  },
  {
   "cell_type": "markdown",
   "id": "53fcb022",
   "metadata": {},
   "source": [
    "# LAB Tuesday: Prototype with user input"
   ]
  },
  {
   "cell_type": "markdown",
   "id": "8da46363",
   "metadata": {},
   "source": [
    "- collect user input with a prompt eg. 'what song do you like?'\n"
   ]
  },
  {
   "cell_type": "code",
   "execution_count": 16,
   "id": "977bf39a",
   "metadata": {},
   "outputs": [
    {
     "name": "stdout",
     "output_type": "stream",
     "text": [
      "what song do you like? Closer\n",
      "The song exists\n"
     ]
    }
   ],
   "source": [
    "input_song= input('what song do you like? ')\n",
    "\n",
    "if input_song in songs['Song_title'].values:\n",
    "    print ('The song exists')\n",
    "else:\n",
    "    print('The song does not match, try again')"
   ]
  },
  {
   "cell_type": "markdown",
   "id": "d2fa092d",
   "metadata": {},
   "source": [
    "- deal with at least one possible user input error / behaviour (you can add more issues and resolutions later) eg. standardise upper/lower case\n",
    "- look for what the user has input, against your 100 hot song collection (more flexible lookup can be added later)\n",
    "- feedback to user if their song is hot or not. "
   ]
  },
  {
   "cell_type": "code",
   "execution_count": 17,
   "id": "ba816e11",
   "metadata": {},
   "outputs": [
    {
     "name": "stdout",
     "output_type": "stream",
     "text": [
      "what song do you like? closer\n",
      "This is a hot song\n"
     ]
    }
   ],
   "source": [
    "input_song= input('what song do you like? ')\n",
    "lower_song=input_song.lower()\n",
    "\n",
    "df = songs.applymap(lambda s:s.lower() if type(s) == str else s)\n",
    "\n",
    "if lower_song in df['Song_title'].values:\n",
    "    print ('This is a hot song')\n",
    "else:\n",
    "    print('This is not a hot song or does not match with the top 100, try again')"
   ]
  },
  {
   "cell_type": "markdown",
   "id": "17d0b8dc",
   "metadata": {},
   "source": [
    "- provide a recommendation from the collection - potentially randomly"
   ]
  },
  {
   "cell_type": "code",
   "execution_count": 124,
   "id": "f919fcec",
   "metadata": {},
   "outputs": [
    {
     "name": "stdout",
     "output_type": "stream",
     "text": [
      "what song do you like?\n",
      "\n",
      " closer\n",
      "\n",
      "This is a hot song. But we suggest you these other hot songs: \n",
      "\n",
      "         Song_title     Artists\n",
      "35  One Mississippi  Kane Brown\n"
     ]
    }
   ],
   "source": [
    "from IPython.display import display\n",
    "\n",
    "lower_song= input('what song do you like?\\n\\n ').lower()\n",
    "\n",
    "df = songs.applymap(lambda s:s.lower() if type(s) == str else s)\n",
    "\n",
    "if lower_song in df['Song_title'].values:\n",
    "    print ('\\nThis is a hot song. But we suggest you these other hot songs: \\n')\n",
    "    print(songs[['Song_title','Artists']].sample(1))\n",
    "else:\n",
    "    print('This is not a hot song or does not match with the top 100')    "
   ]
  },
  {
   "cell_type": "code",
   "execution_count": null,
   "id": "abca45ed",
   "metadata": {},
   "outputs": [],
   "source": []
  }
 ],
 "metadata": {
  "kernelspec": {
   "display_name": "Python 3 (ipykernel)",
   "language": "python",
   "name": "python3"
  },
  "language_info": {
   "codemirror_mode": {
    "name": "ipython",
    "version": 3
   },
   "file_extension": ".py",
   "mimetype": "text/x-python",
   "name": "python",
   "nbconvert_exporter": "python",
   "pygments_lexer": "ipython3",
   "version": "3.9.7"
  },
  "toc": {
   "base_numbering": 1,
   "nav_menu": {},
   "number_sections": true,
   "sideBar": true,
   "skip_h1_title": false,
   "title_cell": "Table of Contents",
   "title_sidebar": "Contents",
   "toc_cell": false,
   "toc_position": {},
   "toc_section_display": true,
   "toc_window_display": false
  },
  "varInspector": {
   "cols": {
    "lenName": 16,
    "lenType": 16,
    "lenVar": 40
   },
   "kernels_config": {
    "python": {
     "delete_cmd_postfix": "",
     "delete_cmd_prefix": "del ",
     "library": "var_list.py",
     "varRefreshCmd": "print(var_dic_list())"
    },
    "r": {
     "delete_cmd_postfix": ") ",
     "delete_cmd_prefix": "rm(",
     "library": "var_list.r",
     "varRefreshCmd": "cat(var_dic_list()) "
    }
   },
   "types_to_exclude": [
    "module",
    "function",
    "builtin_function_or_method",
    "instance",
    "_Feature"
   ],
   "window_display": false
  }
 },
 "nbformat": 4,
 "nbformat_minor": 5
}
